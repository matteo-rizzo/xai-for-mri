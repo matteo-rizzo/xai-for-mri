{
 "cells": [
  {
   "cell_type": "markdown",
   "metadata": {
    "id": "MEDifQj5SuDT"
   },
   "source": [
    "# Config"
   ]
  },
  {
   "cell_type": "code",
   "metadata": {
    "id": "ppqSmhOcDa8M",
    "ExecuteTime": {
     "end_time": "2024-07-06T09:06:28.118568Z",
     "start_time": "2024-07-06T09:06:28.094972Z"
    }
   },
   "source": [
    "import os\n",
    "\n",
    "import SimpleITK as sitk\n",
    "import cv2 as cv\n",
    "import matplotlib.pyplot as plt\n",
    "import numpy as np\n",
    "import pandas as pd\n",
    "import shap\n",
    "from imblearn.over_sampling import RandomOverSampler\n",
    "from pyfume import pyFUME, Clusterer, AntecedentEstimator, FireStrengthCalculator, ConsequentEstimator, \\\n",
    "    SugenoFISBuilder, SugenoFISTester\n",
    "from radiomics import featureextractor\n",
    "from scipy.stats import mannwhitneyu\n",
    "from sklearn.ensemble import RandomForestClassifier, RandomForestRegressor\n",
    "from sklearn.metrics import classification_report, accuracy_score\n",
    "from sklearn.model_selection import StratifiedGroupKFold\n",
    "from sklearn.model_selection import train_test_split\n",
    "from sklearn.preprocessing import MinMaxScaler"
   ],
   "outputs": [],
   "execution_count": 52
  },
  {
   "cell_type": "code",
   "metadata": {
    "colab": {
     "base_uri": "https://localhost:8080/"
    },
    "id": "2GtydTp3yYVE",
    "outputId": "ed4b83cb-a344-46c7-9fd5-806771ac6840",
    "ExecuteTime": {
     "end_time": "2024-07-06T09:06:28.379626Z",
     "start_time": "2024-07-06T09:06:28.374653Z"
    }
   },
   "source": [
    "# Paths to the folders with images and masks\n",
    "input_folder = os.path.join(\"dataset\")  #contains the csv of the data\n",
    "image_folder = os.path.join(input_folder, \"cut\")\n",
    "mask_folder = os.path.join(input_folder, \"mask_7000\")  #choose the desired mask"
   ],
   "outputs": [],
   "execution_count": 53
  },
  {
   "cell_type": "markdown",
   "metadata": {
    "id": "vtocHOqYx7sI"
   },
   "source": [
    "# Define Segmentation Model and Segmentation Function"
   ]
  },
  {
   "cell_type": "code",
   "metadata": {
    "colab": {
     "base_uri": "https://localhost:8080/"
    },
    "id": "51RTwq1rVwA8",
    "outputId": "a99f0ed6-b351-481f-cb4d-b3c9660e02f8",
    "ExecuteTime": {
     "end_time": "2024-07-06T09:06:28.475605Z",
     "start_time": "2024-07-06T09:06:28.459290Z"
    }
   },
   "source": [
    "def visualize(image, mask, title=\"Image and Mask\"):\n",
    "    \"\"\"Visualize the original image and its corresponding mask.\"\"\"\n",
    "    # Create a figure with 3 subplots\n",
    "    fig, axs = plt.subplots(1, 3, figsize=(15, 4))\n",
    "\n",
    "    # Display the original image in the first subplot\n",
    "    axs[0].imshow(sitk.GetArrayFromImage(image), cmap='gray')\n",
    "    axs[0].set_title('Original Image')\n",
    "    axs[0].axis('off')\n",
    "\n",
    "    # Display the mask image in the second subplot\n",
    "    axs[1].imshow(mask * 255, cmap='gray')\n",
    "    axs[1].set_title('Generated Mask')\n",
    "    axs[1].axis('off')\n",
    "\n",
    "    # Display the mask multiplied by the original image in the third subplot\n",
    "    axs[2].imshow(mask * sitk.GetArrayFromImage(image), cmap='gray')\n",
    "    axs[2].set_title('Mask*image')\n",
    "    axs[2].axis('off')\n",
    "\n",
    "    # Add a suptitle to the figure\n",
    "    plt.suptitle(title)\n",
    "    plt.show()\n",
    "\n",
    "\n",
    "def load_image_and_create_mask(image_path, mask_path, vis=False):\n",
    "    \"\"\"Load image, create and visualize mask.\"\"\"\n",
    "    # Print the path of the image being loaded\n",
    "    print(\"Loading image {}\".format(image_path))\n",
    "\n",
    "    # Read the image using SimpleITK\n",
    "    image = sitk.ReadImage(image_path, sitk.sitkFloat32)\n",
    "    image_np = sitk.GetArrayFromImage(image)\n",
    "\n",
    "    # Read the mask image using OpenCV\n",
    "    mask_np = cv.imread(mask_path, cv.IMREAD_GRAYSCALE)\n",
    "\n",
    "    # Resize mask to match image size\n",
    "    mask_np = cv.resize(mask_np, (image_np.shape[1], image_np.shape[0]), interpolation=cv.INTER_NEAREST)\n",
    "\n",
    "    # Convert the mask image to a binary image\n",
    "    ret, mask_np = cv.threshold(mask_np, 127, 255, cv.THRESH_BINARY)\n",
    "    mask_np = (mask_np > 0).astype(np.uint8)  # Convert to binary mask\n",
    "\n",
    "    # If visualization is enabled, visualize the image and mask\n",
    "    if vis:\n",
    "        visualize(image, mask_np)\n",
    "\n",
    "    # Convert the NumPy mask to a SimpleITK image and copy the metadata\n",
    "    mask = sitk.GetImageFromArray(mask_np)\n",
    "    mask.CopyInformation(image)\n",
    "\n",
    "    # Return the loaded image and created mask\n",
    "    return image, mask\n",
    "\n",
    "\n",
    "# Initialize the radiomics feature extractor\n",
    "extractor = featureextractor.RadiomicsFeatureExtractor()"
   ],
   "outputs": [],
   "execution_count": 54
  },
  {
   "cell_type": "markdown",
   "metadata": {
    "id": "FqV6VFU3x647"
   },
   "source": [
    "# Extract Features and Prepare Dataset"
   ]
  },
  {
   "cell_type": "code",
   "metadata": {
    "id": "soM65DMgBOkO",
    "ExecuteTime": {
     "end_time": "2024-07-06T09:06:28.513616Z",
     "start_time": "2024-07-06T09:06:28.507510Z"
    }
   },
   "source": [
    "def extract_features(image, mask):\n",
    "    \"\"\"Extract radiomic features from the image and mask.\"\"\"\n",
    "    # Execute the feature extraction using the initialized extractor\n",
    "    result = extractor.execute(image, mask)\n",
    "    # Get only the feature values after skipping the first 22 meta entries\n",
    "    features = {k: result[k] for k in list(result.keys())[22:]}  # Adjust indices as necessary\n",
    "    return features\n",
    "\n",
    "\n",
    "def prepare_dataset(folder_path):\n",
    "    \"\"\"Prepare dataset by extracting features from images and masks, and organizing them into a feature vector.\"\"\"\n",
    "    feature_vector = []\n",
    "    labels = []\n",
    "    groups = []\n",
    "    feature_names = None\n",
    "\n",
    "    # Read the CSV file containing metadata\n",
    "    df = pd.read_csv(os.path.join(folder_path, \"data.csv\"), sep=';', header=0)\n",
    "    # Dictionary that maps class id to name\n",
    "    class_names = ['healthy', 'affected']\n",
    "    id2name = {idx: name for idx, name in enumerate(class_names)}\n",
    "\n",
    "    # Iterate over each row in the dataframe\n",
    "    for idx, row in df.iterrows():\n",
    "        # Construct paths to the image and mask files\n",
    "        image_path = os.path.join(image_folder, id2name[row['labels']], row['img'])\n",
    "        mask_path = os.path.join(mask_folder, id2name[row['labels']], row['img'])\n",
    "\n",
    "        # Load the image and create the mask\n",
    "        image, mask = load_image_and_create_mask(image_path, mask_path)\n",
    "        # Extract features from the image and mask\n",
    "        features = extract_features(image, mask)\n",
    "\n",
    "        # Store feature names once, when they are first encountered\n",
    "        if feature_names is None:\n",
    "            feature_names = list(features.keys())\n",
    "\n",
    "        # Append the extracted features, label, and group to their respective lists\n",
    "        feature_vector.append(list(features.values()))\n",
    "        labels.append(row['labels'])\n",
    "        groups.append(row['groups'])\n",
    "\n",
    "    # Convert lists to numpy arrays for easier manipulation\n",
    "    feature_vector = np.array(feature_vector)\n",
    "    labels = np.array(labels)\n",
    "    groups = np.array(groups)\n",
    "\n",
    "    # Return the feature vector, labels, groups, and feature names\n",
    "    return feature_vector, labels, groups, feature_names\n"
   ],
   "outputs": [],
   "execution_count": 55
  },
  {
   "cell_type": "markdown",
   "metadata": {
    "id": "6rxnyRBxx5-f"
   },
   "source": [
    "# Unit Test\n",
    "\n",
    "\n",
    "\n"
   ]
  },
  {
   "cell_type": "code",
   "metadata": {
    "colab": {
     "base_uri": "https://localhost:8080/",
     "height": 1000
    },
    "collapsed": true,
    "id": "4cnc33s23reW",
    "outputId": "3a1ad8ff-0603-446a-a027-4360329fccd3",
    "ExecuteTime": {
     "end_time": "2024-07-06T09:06:30.337785Z",
     "start_time": "2024-07-06T09:06:28.525934Z"
    }
   },
   "source": [
    "# Example of selective visualization\n",
    "folder_path = os.path.join(image_folder, 'healthy')\n",
    "\n",
    "# Loop through the files in the folder and visualize the first 5 images and masks\n",
    "for idx, filename in enumerate(os.listdir(folder_path)):\n",
    "    # Break the loop after visualizing 5 images\n",
    "    if idx >= 5:\n",
    "        break\n",
    "\n",
    "    # Construct the full path to the image and mask files\n",
    "    full_path_image = os.path.join(image_folder, 'healthy', filename)\n",
    "    full_path_mask = os.path.join(mask_folder, 'healthy', filename)\n",
    "\n",
    "    # Load the image and create the mask, with visualization enabled\n",
    "    image, mask = load_image_and_create_mask(image_path=full_path_image, mask_path=full_path_mask, vis=True)\n",
    "\n",
    "    # Extract features from the image and mask\n",
    "    features = extract_features(image, mask)\n"
   ],
   "outputs": [
    {
     "name": "stdout",
     "output_type": "stream",
     "text": [
      "Loading image dataset/cut/healthy/IM-0005-0023-h5-2.jpg\n"
     ]
    },
    {
     "data": {
      "text/plain": [
       "<Figure size 1500x400 with 3 Axes>"
      ],
      "image/png": "[encoded data removed]"
     },
     "metadata": {},
     "output_type": "display_data"
    },
    {
     "name": "stderr",
     "output_type": "stream",
     "text": [
      "Shape features are only available 3D input (for 2D input, use shape2D). Found 2D input\n",
      "GLCM is symmetrical, therefore Sum Average = 2 * Joint Average, only 1 needs to be calculated\n"
     ]
    },
    {
     "name": "stdout",
     "output_type": "stream",
     "text": [
      "Loading image dataset/cut/healthy/IM-0005-0022-h5-2.jpg\n"
     ]
    },
    {
     "data": {
      "text/plain": [
       "<Figure size 1500x400 with 3 Axes>"
      ],
      "image/png": "[encoded data removed]"
     },
     "metadata": {},
     "output_type": "display_data"
    },
    {
     "name": "stderr",
     "output_type": "stream",
     "text": [
      "Shape features are only available 3D input (for 2D input, use shape2D). Found 2D input\n",
      "GLCM is symmetrical, therefore Sum Average = 2 * Joint Average, only 1 needs to be calculated\n"
     ]
    },
    {
     "name": "stdout",
     "output_type": "stream",
     "text": [
      "Loading image dataset/cut/healthy/IM-0009-0005-h4-1.jpg\n"
     ]
    },
    {
     "data": {
      "text/plain": [
       "<Figure size 1500x400 with 3 Axes>"
      ],
      "image/png": "[encoded data removed]"
     },
     "metadata": {},
     "output_type": "display_data"
    },
    {
     "name": "stderr",
     "output_type": "stream",
     "text": [
      "Shape features are only available 3D input (for 2D input, use shape2D). Found 2D input\n",
      "GLCM is symmetrical, therefore Sum Average = 2 * Joint Average, only 1 needs to be calculated\n"
     ]
    },
    {
     "name": "stdout",
     "output_type": "stream",
     "text": [
      "Loading image dataset/cut/healthy/IM-0009-0027-h-2.jpg\n"
     ]
    },
    {
     "data": {
      "text/plain": [
       "<Figure size 1500x400 with 3 Axes>"
      ],
      "image/png": "[encoded data removed]"
     },
     "metadata": {},
     "output_type": "display_data"
    },
    {
     "name": "stderr",
     "output_type": "stream",
     "text": [
      "Shape features are only available 3D input (for 2D input, use shape2D). Found 2D input\n",
      "GLCM is symmetrical, therefore Sum Average = 2 * Joint Average, only 1 needs to be calculated\n"
     ]
    },
    {
     "name": "stdout",
     "output_type": "stream",
     "text": [
      "Loading image dataset/cut/healthy/IM-0003-0027-h5-2.jpg\n"
     ]
    },
    {
     "data": {
      "text/plain": [
       "<Figure size 1500x400 with 3 Axes>"
      ],
      "image/png": "[encoded data removed]"
     },
     "metadata": {},
     "output_type": "display_data"
    },
    {
     "name": "stderr",
     "output_type": "stream",
     "text": [
      "Shape features are only available 3D input (for 2D input, use shape2D). Found 2D input\n",
      "GLCM is symmetrical, therefore Sum Average = 2 * Joint Average, only 1 needs to be calculated\n"
     ]
    }
   ],
   "execution_count": 56
  },
  {
   "cell_type": "markdown",
   "metadata": {
    "id": "8kzJt37CwwAe"
   },
   "source": [
    "# Create Dataset"
   ]
  },
  {
   "cell_type": "code",
   "metadata": {
    "colab": {
     "base_uri": "https://localhost:8080/"
    },
    "collapsed": true,
    "id": "9wK05lBi0ITY",
    "outputId": "d95cb6c9-e3fc-4e87-c6a2-b233a86ab024",
    "ExecuteTime": {
     "end_time": "2024-07-06T09:07:05.022820Z",
     "start_time": "2024-07-06T09:06:30.339646Z"
    }
   },
   "source": [
    "# Extracting features and labels from both folders\n",
    "X, y, groups, feature_names = prepare_dataset(input_folder)"
   ],
   "outputs": [
    {
     "name": "stderr",
     "output_type": "stream",
     "text": [
      "Shape features are only available 3D input (for 2D input, use shape2D). Found 2D input\n",
      "GLCM is symmetrical, therefore Sum Average = 2 * Joint Average, only 1 needs to be calculated\n",
      "Shape features are only available 3D input (for 2D input, use shape2D). Found 2D input\n",
      "GLCM is symmetrical, therefore Sum Average = 2 * Joint Average, only 1 needs to be calculated\n",
      "Shape features are only available 3D input (for 2D input, use shape2D). Found 2D input\n",
      "GLCM is symmetrical, therefore Sum Average = 2 * Joint Average, only 1 needs to be calculated\n",
      "Shape features are only available 3D input (for 2D input, use shape2D). Found 2D input\n",
      "GLCM is symmetrical, therefore Sum Average = 2 * Joint Average, only 1 needs to be calculated\n"
     ]
    },
    {
     "name": "stdout",
     "output_type": "stream",
     "text": [
      "Loading image dataset/cut/affected/IM-0001-0004-4-1.jpg\n",
      "Loading image dataset/cut/affected/IM-0001-0005-4-1.jpg\n",
      "Loading image dataset/cut/affected/IM-0001-0006-4-1.jpg\n",
      "Loading image dataset/cut/affected/IM-0001-0007-4-1.jpg\n",
      "Loading image dataset/cut/affected/IM-0001-0007-6-1.jpg\n"
     ]
    },
    {
     "name": "stderr",
     "output_type": "stream",
     "text": [
      "Shape features are only available 3D input (for 2D input, use shape2D). Found 2D input\n",
      "GLCM is symmetrical, therefore Sum Average = 2 * Joint Average, only 1 needs to be calculated\n",
      "Shape features are only available 3D input (for 2D input, use shape2D). Found 2D input\n",
      "GLCM is symmetrical, therefore Sum Average = 2 * Joint Average, only 1 needs to be calculated\n",
      "Shape features are only available 3D input (for 2D input, use shape2D). Found 2D input\n",
      "GLCM is symmetrical, therefore Sum Average = 2 * Joint Average, only 1 needs to be calculated\n",
      "Shape features are only available 3D input (for 2D input, use shape2D). Found 2D input\n",
      "GLCM is symmetrical, therefore Sum Average = 2 * Joint Average, only 1 needs to be calculated\n",
      "Shape features are only available 3D input (for 2D input, use shape2D). Found 2D input\n",
      "GLCM is symmetrical, therefore Sum Average = 2 * Joint Average, only 1 needs to be calculated\n"
     ]
    },
    {
     "name": "stdout",
     "output_type": "stream",
     "text": [
      "Loading image dataset/cut/affected/IM-0001-0008-4-1.jpg\n",
      "Loading image dataset/cut/affected/IM-0001-0008-6-1.jpg\n",
      "Loading image dataset/cut/affected/IM-0001-0009-4-1.jpg\n",
      "Loading image dataset/cut/affected/IM-0001-0009-6-1.jpg\n",
      "Loading image dataset/cut/affected/IM-0001-0010-4-1.jpg\n"
     ]
    },
    {
     "name": "stderr",
     "output_type": "stream",
     "text": [
      "Shape features are only available 3D input (for 2D input, use shape2D). Found 2D input\n",
      "GLCM is symmetrical, therefore Sum Average = 2 * Joint Average, only 1 needs to be calculated\n",
      "Shape features are only available 3D input (for 2D input, use shape2D). Found 2D input\n",
      "GLCM is symmetrical, therefore Sum Average = 2 * Joint Average, only 1 needs to be calculated\n",
      "Shape features are only available 3D input (for 2D input, use shape2D). Found 2D input\n",
      "GLCM is symmetrical, therefore Sum Average = 2 * Joint Average, only 1 needs to be calculated\n",
      "Shape features are only available 3D input (for 2D input, use shape2D). Found 2D input\n",
      "GLCM is symmetrical, therefore Sum Average = 2 * Joint Average, only 1 needs to be calculated\n",
      "Shape features are only available 3D input (for 2D input, use shape2D). Found 2D input\n",
      "GLCM is symmetrical, therefore Sum Average = 2 * Joint Average, only 1 needs to be calculated\n",
      "Shape features are only available 3D input (for 2D input, use shape2D). Found 2D input\n",
      "GLCM is symmetrical, therefore Sum Average = 2 * Joint Average, only 1 needs to be calculated\n",
      "Shape features are only available 3D input (for 2D input, use shape2D). Found 2D input\n"
     ]
    },
    {
     "name": "stdout",
     "output_type": "stream",
     "text": [
      "Loading image dataset/cut/affected/IM-0001-0010-6-1.jpg\n",
      "Loading image dataset/cut/affected/IM-0001-0011-4-1.jpg\n",
      "Loading image dataset/cut/affected/IM-0001-0011-4-2.jpg\n",
      "Loading image dataset/cut/affected/IM-0001-0011-6-1.jpg\n",
      "Loading image dataset/cut/affected/IM-0001-0011-6-2.jpg\n",
      "Loading image dataset/cut/affected/IM-0001-0012-4-1.jpg\n"
     ]
    },
    {
     "name": "stderr",
     "output_type": "stream",
     "text": [
      "GLCM is symmetrical, therefore Sum Average = 2 * Joint Average, only 1 needs to be calculated\n",
      "Shape features are only available 3D input (for 2D input, use shape2D). Found 2D input\n",
      "GLCM is symmetrical, therefore Sum Average = 2 * Joint Average, only 1 needs to be calculated\n",
      "Shape features are only available 3D input (for 2D input, use shape2D). Found 2D input\n",
      "GLCM is symmetrical, therefore Sum Average = 2 * Joint Average, only 1 needs to be calculated\n",
      "Shape features are only available 3D input (for 2D input, use shape2D). Found 2D input\n",
      "GLCM is symmetrical, therefore Sum Average = 2 * Joint Average, only 1 needs to be calculated\n",
      "Shape features are only available 3D input (for 2D input, use shape2D). Found 2D input\n",
      "GLCM is symmetrical, therefore Sum Average = 2 * Joint Average, only 1 needs to be calculated\n",
      "Shape features are only available 3D input (for 2D input, use shape2D). Found 2D input\n",
      "GLCM is symmetrical, therefore Sum Average = 2 * Joint Average, only 1 needs to be calculated\n"
     ]
    },
    {
     "name": "stdout",
     "output_type": "stream",
     "text": [
      "Loading image dataset/cut/affected/IM-0001-0012-6-1.jpg\n",
      "Loading image dataset/cut/affected/IM-0001-0013-4-1.jpg\n",
      "Loading image dataset/cut/affected/IM-0001-0013-4-2.jpg\n",
      "Loading image dataset/cut/affected/IM-0001-0013-6-1.jpg\n",
      "Loading image dataset/cut/affected/IM-0001-0013-6-2.jpg\n",
      "Loading image dataset/cut/affected/IM-0001-0014-4-1.jpg\n"
     ]
    },
    {
     "name": "stderr",
     "output_type": "stream",
     "text": [
      "Shape features are only available 3D input (for 2D input, use shape2D). Found 2D input\n",
      "GLCM is symmetrical, therefore Sum Average = 2 * Joint Average, only 1 needs to be calculated\n",
      "Shape features are only available 3D input (for 2D input, use shape2D). Found 2D input\n",
      "GLCM is symmetrical, therefore Sum Average = 2 * Joint Average, only 1 needs to be calculated\n",
      "Shape features are only available 3D input (for 2D input, use shape2D). Found 2D input\n",
      "GLCM is symmetrical, therefore Sum Average = 2 * Joint Average, only 1 needs to be calculated\n",
      "Shape features are only available 3D input (for 2D input, use shape2D). Found 2D input\n",
      "GLCM is symmetrical, therefore Sum Average = 2 * Joint Average, only 1 needs to be calculated\n",
      "Shape features are only available 3D input (for 2D input, use shape2D). Found 2D input\n",
      "GLCM is symmetrical, therefore Sum Average = 2 * Joint Average, only 1 needs to be calculated\n",
      "Shape features are only available 3D input (for 2D input, use shape2D). Found 2D input\n"
     ]
    },
    {
     "name": "stdout",
     "output_type": "stream",
     "text": [
      "Loading image dataset/cut/affected/IM-0001-0014-4-2.jpg\n",
      "Loading image dataset/cut/affected/IM-0001-0014-6-1.jpg\n",
      "Loading image dataset/cut/affected/IM-0001-0014-6-2.jpg\n",
      "Loading image dataset/cut/affected/IM-0001-0015-4-1.jpg\n",
      "Loading image dataset/cut/affected/IM-0001-0015-4-2.jpg\n"
     ]
    },
    {
     "name": "stderr",
     "output_type": "stream",
     "text": [
      "GLCM is symmetrical, therefore Sum Average = 2 * Joint Average, only 1 needs to be calculated\n",
      "Shape features are only available 3D input (for 2D input, use shape2D). Found 2D input\n",
      "GLCM is symmetrical, therefore Sum Average = 2 * Joint Average, only 1 needs to be calculated\n",
      "Shape features are only available 3D input (for 2D input, use shape2D). Found 2D input\n",
      "GLCM is symmetrical, therefore Sum Average = 2 * Joint Average, only 1 needs to be calculated\n",
      "Shape features are only available 3D input (for 2D input, use shape2D). Found 2D input\n",
      "GLCM is symmetrical, therefore Sum Average = 2 * Joint Average, only 1 needs to be calculated\n",
      "Shape features are only available 3D input (for 2D input, use shape2D). Found 2D input\n",
      "GLCM is symmetrical, therefore Sum Average = 2 * Joint Average, only 1 needs to be calculated\n",
      "Shape features are only available 3D input (for 2D input, use shape2D). Found 2D input\n",
      "GLCM is symmetrical, therefore Sum Average = 2 * Joint Average, only 1 needs to be calculated\n",
      "Shape features are only available 3D input (for 2D input, use shape2D). Found 2D input\n"
     ]
    },
    {
     "name": "stdout",
     "output_type": "stream",
     "text": [
      "Loading image dataset/cut/affected/IM-0001-0015-6-1.jpg\n",
      "Loading image dataset/cut/affected/IM-0001-0015-6-2.jpg\n",
      "Loading image dataset/cut/affected/IM-0001-0016-4-1.jpg\n",
      "Loading image dataset/cut/affected/IM-0001-0016-4-2.jpg\n",
      "Loading image dataset/cut/affected/IM-0001-0016-6-1.jpg\n",
      "Loading image dataset/cut/affected/IM-0001-0016-6-2.jpg\n"
     ]
    },
    {
     "name": "stderr",
     "output_type": "stream",
     "text": [
      "GLCM is symmetrical, therefore Sum Average = 2 * Joint Average, only 1 needs to be calculated\n",
      "Shape features are only available 3D input (for 2D input, use shape2D). Found 2D input\n",
      "GLCM is symmetrical, therefore Sum Average = 2 * Joint Average, only 1 needs to be calculated\n",
      "Shape features are only available 3D input (for 2D input, use shape2D). Found 2D input\n",
      "GLCM is symmetrical, therefore Sum Average = 2 * Joint Average, only 1 needs to be calculated\n",
      "Shape features are only available 3D input (for 2D input, use shape2D). Found 2D input\n",
      "GLCM is symmetrical, therefore Sum Average = 2 * Joint Average, only 1 needs to be calculated\n",
      "Shape features are only available 3D input (for 2D input, use shape2D). Found 2D input\n",
      "GLCM is symmetrical, therefore Sum Average = 2 * Joint Average, only 1 needs to be calculated\n",
      "Shape features are only available 3D input (for 2D input, use shape2D). Found 2D input\n",
      "GLCM is symmetrical, therefore Sum Average = 2 * Joint Average, only 1 needs to be calculated\n",
      "Shape features are only available 3D input (for 2D input, use shape2D). Found 2D input\n",
      "GLCM is symmetrical, therefore Sum Average = 2 * Joint Average, only 1 needs to be calculated\n",
      "Shape features are only available 3D input (for 2D input, use shape2D). Found 2D input\n"
     ]
    },
    {
     "name": "stdout",
     "output_type": "stream",
     "text": [
      "Loading image dataset/cut/affected/IM-0001-0017-4-1.jpg\n",
      "Loading image dataset/cut/affected/IM-0001-0017-4-2.jpg\n",
      "Loading image dataset/cut/affected/IM-0001-0017-6-1.jpg\n",
      "Loading image dataset/cut/affected/IM-0001-0017-6-2.jpg\n",
      "Loading image dataset/cut/affected/IM-0001-0018-4-1.jpg\n",
      "Loading image dataset/cut/affected/IM-0001-0018-4-2.jpg\n",
      "Loading image dataset/cut/affected/IM-0001-0018-6-1.jpg\n"
     ]
    },
    {
     "name": "stderr",
     "output_type": "stream",
     "text": [
      "GLCM is symmetrical, therefore Sum Average = 2 * Joint Average, only 1 needs to be calculated\n",
      "Shape features are only available 3D input (for 2D input, use shape2D). Found 2D input\n",
      "GLCM is symmetrical, therefore Sum Average = 2 * Joint Average, only 1 needs to be calculated\n",
      "Shape features are only available 3D input (for 2D input, use shape2D). Found 2D input\n",
      "GLCM is symmetrical, therefore Sum Average = 2 * Joint Average, only 1 needs to be calculated\n",
      "Shape features are only available 3D input (for 2D input, use shape2D). Found 2D input\n",
      "GLCM is symmetrical, therefore Sum Average = 2 * Joint Average, only 1 needs to be calculated\n",
      "Shape features are only available 3D input (for 2D input, use shape2D). Found 2D input\n",
      "GLCM is symmetrical, therefore Sum Average = 2 * Joint Average, only 1 needs to be calculated\n",
      "Shape features are only available 3D input (for 2D input, use shape2D). Found 2D input\n",
      "GLCM is symmetrical, therefore Sum Average = 2 * Joint Average, only 1 needs to be calculated\n",
      "Shape features are only available 3D input (for 2D input, use shape2D). Found 2D input\n"
     ]
    },
    {
     "name": "stdout",
     "output_type": "stream",
     "text": [
      "Loading image dataset/cut/affected/IM-0001-0018-6-2.jpg\n",
      "Loading image dataset/cut/affected/IM-0001-0019-4-1.jpg\n",
      "Loading image dataset/cut/affected/IM-0001-0019-4-2.jpg\n",
      "Loading image dataset/cut/affected/IM-0001-0019-6-1.jpg\n",
      "Loading image dataset/cut/affected/IM-0001-0019-6-2.jpg\n",
      "Loading image dataset/cut/affected/IM-0001-0020-4-1.jpg\n"
     ]
    },
    {
     "name": "stderr",
     "output_type": "stream",
     "text": [
      "GLCM is symmetrical, therefore Sum Average = 2 * Joint Average, only 1 needs to be calculated\n",
      "Shape features are only available 3D input (for 2D input, use shape2D). Found 2D input\n",
      "GLCM is symmetrical, therefore Sum Average = 2 * Joint Average, only 1 needs to be calculated\n",
      "Shape features are only available 3D input (for 2D input, use shape2D). Found 2D input\n",
      "GLCM is symmetrical, therefore Sum Average = 2 * Joint Average, only 1 needs to be calculated\n",
      "Shape features are only available 3D input (for 2D input, use shape2D). Found 2D input\n",
      "GLCM is symmetrical, therefore Sum Average = 2 * Joint Average, only 1 needs to be calculated\n",
      "Shape features are only available 3D input (for 2D input, use shape2D). Found 2D input\n",
      "GLCM is symmetrical, therefore Sum Average = 2 * Joint Average, only 1 needs to be calculated\n",
      "Shape features are only available 3D input (for 2D input, use shape2D). Found 2D input\n",
      "GLCM is symmetrical, therefore Sum Average = 2 * Joint Average, only 1 needs to be calculated\n",
      "Shape features are only available 3D input (for 2D input, use shape2D). Found 2D input\n",
      "GLCM is symmetrical, therefore Sum Average = 2 * Joint Average, only 1 needs to be calculated\n"
     ]
    },
    {
     "name": "stdout",
     "output_type": "stream",
     "text": [
      "Loading image dataset/cut/affected/IM-0001-0020-4-2.jpg\n",
      "Loading image dataset/cut/affected/IM-0001-0020-6-1.jpg\n",
      "Loading image dataset/cut/affected/IM-0001-0020-6-2.jpg\n",
      "Loading image dataset/cut/affected/IM-0001-0021-4-1.jpg\n",
      "Loading image dataset/cut/affected/IM-0001-0021-4-2.jpg\n",
      "Loading image dataset/cut/affected/IM-0001-0021-6-1.jpg\n"
     ]
    },
    {
     "name": "stderr",
     "output_type": "stream",
     "text": [
      "Shape features are only available 3D input (for 2D input, use shape2D). Found 2D input\n",
      "GLCM is symmetrical, therefore Sum Average = 2 * Joint Average, only 1 needs to be calculated\n",
      "Shape features are only available 3D input (for 2D input, use shape2D). Found 2D input\n",
      "GLCM is symmetrical, therefore Sum Average = 2 * Joint Average, only 1 needs to be calculated\n",
      "Shape features are only available 3D input (for 2D input, use shape2D). Found 2D input\n",
      "GLCM is symmetrical, therefore Sum Average = 2 * Joint Average, only 1 needs to be calculated\n",
      "Shape features are only available 3D input (for 2D input, use shape2D). Found 2D input\n",
      "GLCM is symmetrical, therefore Sum Average = 2 * Joint Average, only 1 needs to be calculated\n",
      "Shape features are only available 3D input (for 2D input, use shape2D). Found 2D input\n",
      "GLCM is symmetrical, therefore Sum Average = 2 * Joint Average, only 1 needs to be calculated\n",
      "Shape features are only available 3D input (for 2D input, use shape2D). Found 2D input\n",
      "GLCM is symmetrical, therefore Sum Average = 2 * Joint Average, only 1 needs to be calculated\n",
      "Shape features are only available 3D input (for 2D input, use shape2D). Found 2D input\n",
      "GLCM is symmetrical, therefore Sum Average = 2 * Joint Average, only 1 needs to be calculated\n"
     ]
    },
    {
     "name": "stdout",
     "output_type": "stream",
     "text": [
      "Loading image dataset/cut/affected/IM-0001-0021-6-2.jpg\n",
      "Loading image dataset/cut/affected/IM-0001-0022-4-1.jpg\n",
      "Loading image dataset/cut/affected/IM-0001-0022-4-2.jpg\n",
      "Loading image dataset/cut/affected/IM-0001-0022-6-1.jpg\n",
      "Loading image dataset/cut/affected/IM-0001-0022-6-2.jpg\n",
      "Loading image dataset/cut/affected/IM-0001-0023-4-1.jpg\n",
      "Loading image dataset/cut/affected/IM-0001-0023-4-2.jpg\n",
      "Loading image dataset/cut/affected/IM-0001-0023-6-1.jpg\n"
     ]
    },
    {
     "name": "stderr",
     "output_type": "stream",
     "text": [
      "Shape features are only available 3D input (for 2D input, use shape2D). Found 2D input\n",
      "GLCM is symmetrical, therefore Sum Average = 2 * Joint Average, only 1 needs to be calculated\n",
      "Shape features are only available 3D input (for 2D input, use shape2D). Found 2D input\n",
      "GLCM is symmetrical, therefore Sum Average = 2 * Joint Average, only 1 needs to be calculated\n",
      "Shape features are only available 3D input (for 2D input, use shape2D). Found 2D input\n",
      "GLCM is symmetrical, therefore Sum Average = 2 * Joint Average, only 1 needs to be calculated\n",
      "Shape features are only available 3D input (for 2D input, use shape2D). Found 2D input\n",
      "GLCM is symmetrical, therefore Sum Average = 2 * Joint Average, only 1 needs to be calculated\n",
      "Shape features are only available 3D input (for 2D input, use shape2D). Found 2D input\n",
      "GLCM is symmetrical, therefore Sum Average = 2 * Joint Average, only 1 needs to be calculated\n",
      "Shape features are only available 3D input (for 2D input, use shape2D). Found 2D input\n",
      "GLCM is symmetrical, therefore Sum Average = 2 * Joint Average, only 1 needs to be calculated\n",
      "Shape features are only available 3D input (for 2D input, use shape2D). Found 2D input\n",
      "GLCM is symmetrical, therefore Sum Average = 2 * Joint Average, only 1 needs to be calculated\n",
      "Shape features are only available 3D input (for 2D input, use shape2D). Found 2D input\n",
      "GLCM is symmetrical, therefore Sum Average = 2 * Joint Average, only 1 needs to be calculated\n",
      "Shape features are only available 3D input (for 2D input, use shape2D). Found 2D input\n"
     ]
    },
    {
     "name": "stdout",
     "output_type": "stream",
     "text": [
      "Loading image dataset/cut/affected/IM-0001-0023-6-2.jpg\n",
      "Loading image dataset/cut/affected/IM-0001-0024-4-1.jpg\n",
      "Loading image dataset/cut/affected/IM-0001-0024-4-2.jpg\n",
      "Loading image dataset/cut/affected/IM-0001-0024-6-1.jpg\n",
      "Loading image dataset/cut/affected/IM-0001-0024-6-2.jpg\n",
      "Loading image dataset/cut/affected/IM-0001-0025-4-1.jpg\n",
      "Loading image dataset/cut/affected/IM-0001-0025-4-2.jpg\n",
      "Loading image dataset/cut/affected/IM-0001-0025-6-1.jpg\n"
     ]
    },
    {
     "name": "stderr",
     "output_type": "stream",
     "text": [
      "GLCM is symmetrical, therefore Sum Average = 2 * Joint Average, only 1 needs to be calculated\n",
      "Shape features are only available 3D input (for 2D input, use shape2D). Found 2D input\n",
      "GLCM is symmetrical, therefore Sum Average = 2 * Joint Average, only 1 needs to be calculated\n",
      "Shape features are only available 3D input (for 2D input, use shape2D). Found 2D input\n",
      "GLCM is symmetrical, therefore Sum Average = 2 * Joint Average, only 1 needs to be calculated\n",
      "Shape features are only available 3D input (for 2D input, use shape2D). Found 2D input\n",
      "GLCM is symmetrical, therefore Sum Average = 2 * Joint Average, only 1 needs to be calculated\n",
      "Shape features are only available 3D input (for 2D input, use shape2D). Found 2D input\n",
      "GLCM is symmetrical, therefore Sum Average = 2 * Joint Average, only 1 needs to be calculated\n",
      "Shape features are only available 3D input (for 2D input, use shape2D). Found 2D input\n",
      "GLCM is symmetrical, therefore Sum Average = 2 * Joint Average, only 1 needs to be calculated\n",
      "Shape features are only available 3D input (for 2D input, use shape2D). Found 2D input\n",
      "GLCM is symmetrical, therefore Sum Average = 2 * Joint Average, only 1 needs to be calculated\n",
      "Shape features are only available 3D input (for 2D input, use shape2D). Found 2D input\n",
      "GLCM is symmetrical, therefore Sum Average = 2 * Joint Average, only 1 needs to be calculated\n"
     ]
    },
    {
     "name": "stdout",
     "output_type": "stream",
     "text": [
      "Loading image dataset/cut/affected/IM-0001-0025-6-2.jpg\n",
      "Loading image dataset/cut/affected/IM-0001-0026-4-1.jpg\n",
      "Loading image dataset/cut/affected/IM-0001-0026-4-2.jpg\n",
      "Loading image dataset/cut/affected/IM-0001-0026-6-1.jpg\n",
      "Loading image dataset/cut/affected/IM-0001-0026-6-2.jpg\n",
      "Loading image dataset/cut/affected/IM-0001-0027-4-1.jpg\n",
      "Loading image dataset/cut/affected/IM-0001-0027-4-2.jpg\n",
      "Loading image dataset/cut/affected/IM-0001-0027-6-1.jpg\n"
     ]
    },
    {
     "name": "stderr",
     "output_type": "stream",
     "text": [
      "Shape features are only available 3D input (for 2D input, use shape2D). Found 2D input\n",
      "GLCM is symmetrical, therefore Sum Average = 2 * Joint Average, only 1 needs to be calculated\n",
      "Shape features are only available 3D input (for 2D input, use shape2D). Found 2D input\n",
      "GLCM is symmetrical, therefore Sum Average = 2 * Joint Average, only 1 needs to be calculated\n",
      "Shape features are only available 3D input (for 2D input, use shape2D). Found 2D input\n",
      "GLCM is symmetrical, therefore Sum Average = 2 * Joint Average, only 1 needs to be calculated\n",
      "Shape features are only available 3D input (for 2D input, use shape2D). Found 2D input\n",
      "GLCM is symmetrical, therefore Sum Average = 2 * Joint Average, only 1 needs to be calculated\n",
      "Shape features are only available 3D input (for 2D input, use shape2D). Found 2D input\n",
      "GLCM is symmetrical, therefore Sum Average = 2 * Joint Average, only 1 needs to be calculated\n"
     ]
    },
    {
     "name": "stdout",
     "output_type": "stream",
     "text": [
      "Loading image dataset/cut/affected/IM-0001-0027-6-2.jpg\n",
      "Loading image dataset/cut/affected/IM-0001-0028-4-1.jpg\n",
      "Loading image dataset/cut/affected/IM-0001-0028-4-2.jpg\n",
      "Loading image dataset/cut/affected/IM-0003-0001-4-1.jpg\n",
      "Loading image dataset/cut/affected/IM-0003-0001-4-2.jpg\n"
     ]
    },
    {
     "name": "stderr",
     "output_type": "stream",
     "text": [
      "Shape features are only available 3D input (for 2D input, use shape2D). Found 2D input\n",
      "GLCM is symmetrical, therefore Sum Average = 2 * Joint Average, only 1 needs to be calculated\n",
      "Shape features are only available 3D input (for 2D input, use shape2D). Found 2D input\n",
      "GLCM is symmetrical, therefore Sum Average = 2 * Joint Average, only 1 needs to be calculated\n",
      "Shape features are only available 3D input (for 2D input, use shape2D). Found 2D input\n",
      "GLCM is symmetrical, therefore Sum Average = 2 * Joint Average, only 1 needs to be calculated\n",
      "Shape features are only available 3D input (for 2D input, use shape2D). Found 2D input\n",
      "GLCM is symmetrical, therefore Sum Average = 2 * Joint Average, only 1 needs to be calculated\n",
      "Shape features are only available 3D input (for 2D input, use shape2D). Found 2D input\n",
      "GLCM is symmetrical, therefore Sum Average = 2 * Joint Average, only 1 needs to be calculated\n",
      "Shape features are only available 3D input (for 2D input, use shape2D). Found 2D input\n"
     ]
    },
    {
     "name": "stdout",
     "output_type": "stream",
     "text": [
      "Loading image dataset/cut/affected/IM-0003-0002-4-1.jpg\n",
      "Loading image dataset/cut/affected/IM-0003-0002-4-2.jpg\n",
      "Loading image dataset/cut/affected/IM-0003-0003-4-1.jpg\n",
      "Loading image dataset/cut/affected/IM-0003-0003-4-2.jpg\n",
      "Loading image dataset/cut/affected/IM-0003-0004-4-1.jpg\n"
     ]
    },
    {
     "name": "stderr",
     "output_type": "stream",
     "text": [
      "GLCM is symmetrical, therefore Sum Average = 2 * Joint Average, only 1 needs to be calculated\n",
      "Shape features are only available 3D input (for 2D input, use shape2D). Found 2D input\n",
      "GLCM is symmetrical, therefore Sum Average = 2 * Joint Average, only 1 needs to be calculated\n",
      "Shape features are only available 3D input (for 2D input, use shape2D). Found 2D input\n",
      "GLCM is symmetrical, therefore Sum Average = 2 * Joint Average, only 1 needs to be calculated\n",
      "Shape features are only available 3D input (for 2D input, use shape2D). Found 2D input\n"
     ]
    },
    {
     "name": "stdout",
     "output_type": "stream",
     "text": [
      "Loading image dataset/cut/affected/IM-0003-0004-4-2.jpg\n",
      "Loading image dataset/cut/affected/IM-0003-0004-5-1.jpg\n",
      "Loading image dataset/cut/affected/IM-0003-0005-1.jpg\n"
     ]
    },
    {
     "name": "stderr",
     "output_type": "stream",
     "text": [
      "GLCM is symmetrical, therefore Sum Average = 2 * Joint Average, only 1 needs to be calculated\n",
      "Shape features are only available 3D input (for 2D input, use shape2D). Found 2D input\n",
      "GLCM is symmetrical, therefore Sum Average = 2 * Joint Average, only 1 needs to be calculated\n",
      "Shape features are only available 3D input (for 2D input, use shape2D). Found 2D input\n",
      "GLCM is symmetrical, therefore Sum Average = 2 * Joint Average, only 1 needs to be calculated\n",
      "Shape features are only available 3D input (for 2D input, use shape2D). Found 2D input\n",
      "GLCM is symmetrical, therefore Sum Average = 2 * Joint Average, only 1 needs to be calculated\n",
      "Shape features are only available 3D input (for 2D input, use shape2D). Found 2D input\n"
     ]
    },
    {
     "name": "stdout",
     "output_type": "stream",
     "text": [
      "Loading image dataset/cut/affected/IM-0003-0005-4-1.jpg\n",
      "Loading image dataset/cut/affected/IM-0003-0005-4-2.jpg\n",
      "Loading image dataset/cut/affected/IM-0003-0005-5-1.jpg\n",
      "Loading image dataset/cut/affected/IM-0003-0006-1.jpg\n"
     ]
    },
    {
     "name": "stderr",
     "output_type": "stream",
     "text": [
      "GLCM is symmetrical, therefore Sum Average = 2 * Joint Average, only 1 needs to be calculated\n",
      "Shape features are only available 3D input (for 2D input, use shape2D). Found 2D input\n",
      "GLCM is symmetrical, therefore Sum Average = 2 * Joint Average, only 1 needs to be calculated\n",
      "Shape features are only available 3D input (for 2D input, use shape2D). Found 2D input\n",
      "GLCM is symmetrical, therefore Sum Average = 2 * Joint Average, only 1 needs to be calculated\n",
      "Shape features are only available 3D input (for 2D input, use shape2D). Found 2D input\n",
      "GLCM is symmetrical, therefore Sum Average = 2 * Joint Average, only 1 needs to be calculated\n",
      "Shape features are only available 3D input (for 2D input, use shape2D). Found 2D input\n",
      "GLCM is symmetrical, therefore Sum Average = 2 * Joint Average, only 1 needs to be calculated\n"
     ]
    },
    {
     "name": "stdout",
     "output_type": "stream",
     "text": [
      "Loading image dataset/cut/affected/IM-0003-0006-3-1.jpg\n",
      "Loading image dataset/cut/affected/IM-0003-0006-4-1.jpg\n",
      "Loading image dataset/cut/affected/IM-0003-0006-4-2.jpg\n",
      "Loading image dataset/cut/affected/IM-0003-0006-5-1.jpg\n"
     ]
    },
    {
     "name": "stderr",
     "output_type": "stream",
     "text": [
      "Shape features are only available 3D input (for 2D input, use shape2D). Found 2D input\n",
      "GLCM is symmetrical, therefore Sum Average = 2 * Joint Average, only 1 needs to be calculated\n",
      "Shape features are only available 3D input (for 2D input, use shape2D). Found 2D input\n",
      "GLCM is symmetrical, therefore Sum Average = 2 * Joint Average, only 1 needs to be calculated\n",
      "Shape features are only available 3D input (for 2D input, use shape2D). Found 2D input\n",
      "GLCM is symmetrical, therefore Sum Average = 2 * Joint Average, only 1 needs to be calculated\n",
      "Shape features are only available 3D input (for 2D input, use shape2D). Found 2D input\n",
      "GLCM is symmetrical, therefore Sum Average = 2 * Joint Average, only 1 needs to be calculated\n",
      "Shape features are only available 3D input (for 2D input, use shape2D). Found 2D input\n",
      "GLCM is symmetrical, therefore Sum Average = 2 * Joint Average, only 1 needs to be calculated\n"
     ]
    },
    {
     "name": "stdout",
     "output_type": "stream",
     "text": [
      "Loading image dataset/cut/affected/IM-0003-0007-1.jpg\n",
      "Loading image dataset/cut/affected/IM-0003-0007-3-1.jpg\n",
      "Loading image dataset/cut/affected/IM-0003-0007-4-1.jpg\n",
      "Loading image dataset/cut/affected/IM-0003-0007-4-2.jpg\n",
      "Loading image dataset/cut/affected/IM-0003-0007-5-1.jpg\n"
     ]
    },
    {
     "name": "stderr",
     "output_type": "stream",
     "text": [
      "Shape features are only available 3D input (for 2D input, use shape2D). Found 2D input\n",
      "GLCM is symmetrical, therefore Sum Average = 2 * Joint Average, only 1 needs to be calculated\n",
      "Shape features are only available 3D input (for 2D input, use shape2D). Found 2D input\n",
      "GLCM is symmetrical, therefore Sum Average = 2 * Joint Average, only 1 needs to be calculated\n",
      "Shape features are only available 3D input (for 2D input, use shape2D). Found 2D input\n",
      "GLCM is symmetrical, therefore Sum Average = 2 * Joint Average, only 1 needs to be calculated\n",
      "Shape features are only available 3D input (for 2D input, use shape2D). Found 2D input\n",
      "GLCM is symmetrical, therefore Sum Average = 2 * Joint Average, only 1 needs to be calculated\n",
      "Shape features are only available 3D input (for 2D input, use shape2D). Found 2D input\n",
      "GLCM is symmetrical, therefore Sum Average = 2 * Joint Average, only 1 needs to be calculated\n",
      "Shape features are only available 3D input (for 2D input, use shape2D). Found 2D input\n",
      "GLCM is symmetrical, therefore Sum Average = 2 * Joint Average, only 1 needs to be calculated\n"
     ]
    },
    {
     "name": "stdout",
     "output_type": "stream",
     "text": [
      "Loading image dataset/cut/affected/IM-0003-0007-6-1.jpg\n",
      "Loading image dataset/cut/affected/IM-0003-0007-6-2.jpg\n",
      "Loading image dataset/cut/affected/IM-0003-0008-1.jpg\n",
      "Loading image dataset/cut/affected/IM-0003-0008-3-1.jpg\n",
      "Loading image dataset/cut/affected/IM-0003-0008-4-1.jpg\n",
      "Loading image dataset/cut/affected/IM-0003-0008-4-2.jpg\n",
      "Loading image dataset/cut/affected/IM-0003-0008-5-1.jpg\n"
     ]
    },
    {
     "name": "stderr",
     "output_type": "stream",
     "text": [
      "Shape features are only available 3D input (for 2D input, use shape2D). Found 2D input\n",
      "GLCM is symmetrical, therefore Sum Average = 2 * Joint Average, only 1 needs to be calculated\n",
      "Shape features are only available 3D input (for 2D input, use shape2D). Found 2D input\n",
      "GLCM is symmetrical, therefore Sum Average = 2 * Joint Average, only 1 needs to be calculated\n",
      "Shape features are only available 3D input (for 2D input, use shape2D). Found 2D input\n",
      "GLCM is symmetrical, therefore Sum Average = 2 * Joint Average, only 1 needs to be calculated\n",
      "Shape features are only available 3D input (for 2D input, use shape2D). Found 2D input\n",
      "GLCM is symmetrical, therefore Sum Average = 2 * Joint Average, only 1 needs to be calculated\n",
      "Shape features are only available 3D input (for 2D input, use shape2D). Found 2D input\n",
      "GLCM is symmetrical, therefore Sum Average = 2 * Joint Average, only 1 needs to be calculated\n",
      "Shape features are only available 3D input (for 2D input, use shape2D). Found 2D input\n",
      "GLCM is symmetrical, therefore Sum Average = 2 * Joint Average, only 1 needs to be calculated\n",
      "Shape features are only available 3D input (for 2D input, use shape2D). Found 2D input\n",
      "GLCM is symmetrical, therefore Sum Average = 2 * Joint Average, only 1 needs to be calculated\n"
     ]
    },
    {
     "name": "stdout",
     "output_type": "stream",
     "text": [
      "Loading image dataset/cut/affected/IM-0003-0008-6-1.jpg\n",
      "Loading image dataset/cut/affected/IM-0003-0008-6-2.jpg\n",
      "Loading image dataset/cut/affected/IM-0003-0009-1.jpg\n",
      "Loading image dataset/cut/affected/IM-0003-0009-3-1.jpg\n",
      "Loading image dataset/cut/affected/IM-0003-0009-4-1.jpg\n",
      "Loading image dataset/cut/affected/IM-0003-0009-4-2.jpg\n",
      "Loading image dataset/cut/affected/IM-0003-0009-5-1.jpg\n"
     ]
    },
    {
     "name": "stderr",
     "output_type": "stream",
     "text": [
      "Shape features are only available 3D input (for 2D input, use shape2D). Found 2D input\n",
      "GLCM is symmetrical, therefore Sum Average = 2 * Joint Average, only 1 needs to be calculated\n",
      "Shape features are only available 3D input (for 2D input, use shape2D). Found 2D input\n",
      "GLCM is symmetrical, therefore Sum Average = 2 * Joint Average, only 1 needs to be calculated\n",
      "Shape features are only available 3D input (for 2D input, use shape2D). Found 2D input\n",
      "GLCM is symmetrical, therefore Sum Average = 2 * Joint Average, only 1 needs to be calculated\n",
      "Shape features are only available 3D input (for 2D input, use shape2D). Found 2D input\n",
      "GLCM is symmetrical, therefore Sum Average = 2 * Joint Average, only 1 needs to be calculated\n",
      "Shape features are only available 3D input (for 2D input, use shape2D). Found 2D input\n",
      "GLCM is symmetrical, therefore Sum Average = 2 * Joint Average, only 1 needs to be calculated\n"
     ]
    },
    {
     "name": "stdout",
     "output_type": "stream",
     "text": [
      "Loading image dataset/cut/affected/IM-0003-0009-6-1.jpg\n",
      "Loading image dataset/cut/affected/IM-0003-0009-6-2.jpg\n",
      "Loading image dataset/cut/affected/IM-0003-0010-1-1.jpg\n",
      "Loading image dataset/cut/affected/IM-0003-0010-1.jpg\n",
      "Loading image dataset/cut/affected/IM-0003-0010-2-1.jpg\n"
     ]
    },
    {
     "name": "stderr",
     "output_type": "stream",
     "text": [
      "Shape features are only available 3D input (for 2D input, use shape2D). Found 2D input\n",
      "GLCM is symmetrical, therefore Sum Average = 2 * Joint Average, only 1 needs to be calculated\n",
      "Shape features are only available 3D input (for 2D input, use shape2D). Found 2D input\n",
      "GLCM is symmetrical, therefore Sum Average = 2 * Joint Average, only 1 needs to be calculated\n",
      "Shape features are only available 3D input (for 2D input, use shape2D). Found 2D input\n",
      "GLCM is symmetrical, therefore Sum Average = 2 * Joint Average, only 1 needs to be calculated\n",
      "Shape features are only available 3D input (for 2D input, use shape2D). Found 2D input\n",
      "GLCM is symmetrical, therefore Sum Average = 2 * Joint Average, only 1 needs to be calculated\n",
      "Shape features are only available 3D input (for 2D input, use shape2D). Found 2D input\n",
      "GLCM is symmetrical, therefore Sum Average = 2 * Joint Average, only 1 needs to be calculated\n"
     ]
    },
    {
     "name": "stdout",
     "output_type": "stream",
     "text": [
      "Loading image dataset/cut/affected/IM-0003-0010-3-1.jpg\n",
      "Loading image dataset/cut/affected/IM-0003-0010-4-1.jpg\n",
      "Loading image dataset/cut/affected/IM-0003-0010-4-2.jpg\n",
      "Loading image dataset/cut/affected/IM-0003-0010-5-1.jpg\n",
      "Loading image dataset/cut/affected/IM-0003-0010-6-1.jpg\n"
     ]
    },
    {
     "name": "stderr",
     "output_type": "stream",
     "text": [
      "Shape features are only available 3D input (for 2D input, use shape2D). Found 2D input\n",
      "GLCM is symmetrical, therefore Sum Average = 2 * Joint Average, only 1 needs to be calculated\n",
      "Shape features are only available 3D input (for 2D input, use shape2D). Found 2D input\n",
      "GLCM is symmetrical, therefore Sum Average = 2 * Joint Average, only 1 needs to be calculated\n",
      "Shape features are only available 3D input (for 2D input, use shape2D). Found 2D input\n",
      "GLCM is symmetrical, therefore Sum Average = 2 * Joint Average, only 1 needs to be calculated\n",
      "Shape features are only available 3D input (for 2D input, use shape2D). Found 2D input\n",
      "GLCM is symmetrical, therefore Sum Average = 2 * Joint Average, only 1 needs to be calculated\n",
      "Shape features are only available 3D input (for 2D input, use shape2D). Found 2D input\n",
      "GLCM is symmetrical, therefore Sum Average = 2 * Joint Average, only 1 needs to be calculated\n"
     ]
    },
    {
     "name": "stdout",
     "output_type": "stream",
     "text": [
      "Loading image dataset/cut/affected/IM-0003-0010-6-2.jpg\n",
      "Loading image dataset/cut/affected/IM-0003-0011-1-1.jpg\n",
      "Loading image dataset/cut/affected/IM-0003-0011-1.jpg\n",
      "Loading image dataset/cut/affected/IM-0003-0011-2-1.jpg\n"
     ]
    },
    {
     "name": "stderr",
     "output_type": "stream",
     "text": [
      "Shape features are only available 3D input (for 2D input, use shape2D). Found 2D input\n",
      "GLCM is symmetrical, therefore Sum Average = 2 * Joint Average, only 1 needs to be calculated\n",
      "Shape features are only available 3D input (for 2D input, use shape2D). Found 2D input\n",
      "GLCM is symmetrical, therefore Sum Average = 2 * Joint Average, only 1 needs to be calculated\n",
      "Shape features are only available 3D input (for 2D input, use shape2D). Found 2D input\n",
      "GLCM is symmetrical, therefore Sum Average = 2 * Joint Average, only 1 needs to be calculated\n",
      "Shape features are only available 3D input (for 2D input, use shape2D). Found 2D input\n",
      "GLCM is symmetrical, therefore Sum Average = 2 * Joint Average, only 1 needs to be calculated\n",
      "Shape features are only available 3D input (for 2D input, use shape2D). Found 2D input\n",
      "GLCM is symmetrical, therefore Sum Average = 2 * Joint Average, only 1 needs to be calculated\n",
      "Shape features are only available 3D input (for 2D input, use shape2D). Found 2D input\n",
      "GLCM is symmetrical, therefore Sum Average = 2 * Joint Average, only 1 needs to be calculated\n"
     ]
    },
    {
     "name": "stdout",
     "output_type": "stream",
     "text": [
      "Loading image dataset/cut/affected/IM-0003-0011-3-1.jpg\n",
      "Loading image dataset/cut/affected/IM-0003-0011-4-1.jpg\n",
      "Loading image dataset/cut/affected/IM-0003-0011-4-2.jpg\n",
      "Loading image dataset/cut/affected/IM-0003-0011-5-1.jpg\n",
      "Loading image dataset/cut/affected/IM-0003-0011-6-1.jpg\n",
      "Loading image dataset/cut/affected/IM-0003-0011-6-2.jpg\n",
      "Loading image dataset/cut/affected/IM-0003-0012-1-1.jpg\n"
     ]
    },
    {
     "name": "stderr",
     "output_type": "stream",
     "text": [
      "Shape features are only available 3D input (for 2D input, use shape2D). Found 2D input\n",
      "GLCM is symmetrical, therefore Sum Average = 2 * Joint Average, only 1 needs to be calculated\n",
      "Shape features are only available 3D input (for 2D input, use shape2D). Found 2D input\n",
      "GLCM is symmetrical, therefore Sum Average = 2 * Joint Average, only 1 needs to be calculated\n",
      "Shape features are only available 3D input (for 2D input, use shape2D). Found 2D input\n",
      "GLCM is symmetrical, therefore Sum Average = 2 * Joint Average, only 1 needs to be calculated\n",
      "Shape features are only available 3D input (for 2D input, use shape2D). Found 2D input\n",
      "GLCM is symmetrical, therefore Sum Average = 2 * Joint Average, only 1 needs to be calculated\n",
      "Shape features are only available 3D input (for 2D input, use shape2D). Found 2D input\n",
      "GLCM is symmetrical, therefore Sum Average = 2 * Joint Average, only 1 needs to be calculated\n",
      "Shape features are only available 3D input (for 2D input, use shape2D). Found 2D input\n",
      "GLCM is symmetrical, therefore Sum Average = 2 * Joint Average, only 1 needs to be calculated\n"
     ]
    },
    {
     "name": "stdout",
     "output_type": "stream",
     "text": [
      "Loading image dataset/cut/affected/IM-0003-0012-1.jpg\n",
      "Loading image dataset/cut/affected/IM-0003-0012-2-1.jpg\n",
      "Loading image dataset/cut/affected/IM-0003-0012-3-1.jpg\n",
      "Loading image dataset/cut/affected/IM-0003-0012-4-1.jpg\n",
      "Loading image dataset/cut/affected/IM-0003-0012-4-2.jpg\n"
     ]
    },
    {
     "name": "stderr",
     "output_type": "stream",
     "text": [
      "Shape features are only available 3D input (for 2D input, use shape2D). Found 2D input\n",
      "GLCM is symmetrical, therefore Sum Average = 2 * Joint Average, only 1 needs to be calculated\n",
      "Shape features are only available 3D input (for 2D input, use shape2D). Found 2D input\n",
      "GLCM is symmetrical, therefore Sum Average = 2 * Joint Average, only 1 needs to be calculated\n",
      "Shape features are only available 3D input (for 2D input, use shape2D). Found 2D input\n",
      "GLCM is symmetrical, therefore Sum Average = 2 * Joint Average, only 1 needs to be calculated\n",
      "Shape features are only available 3D input (for 2D input, use shape2D). Found 2D input\n",
      "GLCM is symmetrical, therefore Sum Average = 2 * Joint Average, only 1 needs to be calculated\n",
      "Shape features are only available 3D input (for 2D input, use shape2D). Found 2D input\n",
      "GLCM is symmetrical, therefore Sum Average = 2 * Joint Average, only 1 needs to be calculated\n"
     ]
    },
    {
     "name": "stdout",
     "output_type": "stream",
     "text": [
      "Loading image dataset/cut/affected/IM-0003-0012-5-1.jpg\n",
      "Loading image dataset/cut/affected/IM-0003-0012-6-1.jpg\n",
      "Loading image dataset/cut/affected/IM-0003-0012-6-2.jpg\n",
      "Loading image dataset/cut/affected/IM-0003-0013-1-1.jpg\n",
      "Loading image dataset/cut/affected/IM-0003-0013-1.jpg\n",
      "Loading image dataset/cut/affected/IM-0003-0013-2-1.jpg\n"
     ]
    },
    {
     "name": "stderr",
     "output_type": "stream",
     "text": [
      "Shape features are only available 3D input (for 2D input, use shape2D). Found 2D input\n",
      "GLCM is symmetrical, therefore Sum Average = 2 * Joint Average, only 1 needs to be calculated\n",
      "Shape features are only available 3D input (for 2D input, use shape2D). Found 2D input\n",
      "GLCM is symmetrical, therefore Sum Average = 2 * Joint Average, only 1 needs to be calculated\n",
      "Shape features are only available 3D input (for 2D input, use shape2D). Found 2D input\n",
      "GLCM is symmetrical, therefore Sum Average = 2 * Joint Average, only 1 needs to be calculated\n",
      "Shape features are only available 3D input (for 2D input, use shape2D). Found 2D input\n",
      "GLCM is symmetrical, therefore Sum Average = 2 * Joint Average, only 1 needs to be calculated\n",
      "Shape features are only available 3D input (for 2D input, use shape2D). Found 2D input\n",
      "GLCM is symmetrical, therefore Sum Average = 2 * Joint Average, only 1 needs to be calculated\n",
      "Shape features are only available 3D input (for 2D input, use shape2D). Found 2D input\n",
      "GLCM is symmetrical, therefore Sum Average = 2 * Joint Average, only 1 needs to be calculated\n",
      "Shape features are only available 3D input (for 2D input, use shape2D). Found 2D input\n",
      "GLCM is symmetrical, therefore Sum Average = 2 * Joint Average, only 1 needs to be calculated\n",
      "Shape features are only available 3D input (for 2D input, use shape2D). Found 2D input\n"
     ]
    },
    {
     "name": "stdout",
     "output_type": "stream",
     "text": [
      "Loading image dataset/cut/affected/IM-0003-0013-3-1.jpg\n",
      "Loading image dataset/cut/affected/IM-0003-0013-4-1.jpg\n",
      "Loading image dataset/cut/affected/IM-0003-0013-4-2.jpg\n",
      "Loading image dataset/cut/affected/IM-0003-0013-5-1.jpg\n",
      "Loading image dataset/cut/affected/IM-0003-0013-6-1.jpg\n",
      "Loading image dataset/cut/affected/IM-0003-0013-6-2.jpg\n",
      "Loading image dataset/cut/affected/IM-0003-0014-1-1.jpg\n"
     ]
    },
    {
     "name": "stderr",
     "output_type": "stream",
     "text": [
      "GLCM is symmetrical, therefore Sum Average = 2 * Joint Average, only 1 needs to be calculated\n",
      "Shape features are only available 3D input (for 2D input, use shape2D). Found 2D input\n",
      "GLCM is symmetrical, therefore Sum Average = 2 * Joint Average, only 1 needs to be calculated\n",
      "Shape features are only available 3D input (for 2D input, use shape2D). Found 2D input\n",
      "GLCM is symmetrical, therefore Sum Average = 2 * Joint Average, only 1 needs to be calculated\n",
      "Shape features are only available 3D input (for 2D input, use shape2D). Found 2D input\n",
      "GLCM is symmetrical, therefore Sum Average = 2 * Joint Average, only 1 needs to be calculated\n",
      "Shape features are only available 3D input (for 2D input, use shape2D). Found 2D input\n",
      "GLCM is symmetrical, therefore Sum Average = 2 * Joint Average, only 1 needs to be calculated\n",
      "Shape features are only available 3D input (for 2D input, use shape2D). Found 2D input\n",
      "GLCM is symmetrical, therefore Sum Average = 2 * Joint Average, only 1 needs to be calculated\n"
     ]
    },
    {
     "name": "stdout",
     "output_type": "stream",
     "text": [
      "Loading image dataset/cut/affected/IM-0003-0014-1.jpg\n",
      "Loading image dataset/cut/affected/IM-0003-0014-2-1.jpg\n",
      "Loading image dataset/cut/affected/IM-0003-0014-3-1.jpg\n",
      "Loading image dataset/cut/affected/IM-0003-0014-4-1.jpg\n",
      "Loading image dataset/cut/affected/IM-0003-0014-4-2.jpg\n",
      "Loading image dataset/cut/affected/IM-0003-0014-5-1.jpg\n"
     ]
    },
    {
     "name": "stderr",
     "output_type": "stream",
     "text": [
      "Shape features are only available 3D input (for 2D input, use shape2D). Found 2D input\n",
      "GLCM is symmetrical, therefore Sum Average = 2 * Joint Average, only 1 needs to be calculated\n",
      "Shape features are only available 3D input (for 2D input, use shape2D). Found 2D input\n",
      "GLCM is symmetrical, therefore Sum Average = 2 * Joint Average, only 1 needs to be calculated\n",
      "Shape features are only available 3D input (for 2D input, use shape2D). Found 2D input\n",
      "GLCM is symmetrical, therefore Sum Average = 2 * Joint Average, only 1 needs to be calculated\n",
      "Shape features are only available 3D input (for 2D input, use shape2D). Found 2D input\n",
      "GLCM is symmetrical, therefore Sum Average = 2 * Joint Average, only 1 needs to be calculated\n",
      "Shape features are only available 3D input (for 2D input, use shape2D). Found 2D input\n",
      "GLCM is symmetrical, therefore Sum Average = 2 * Joint Average, only 1 needs to be calculated\n",
      "Shape features are only available 3D input (for 2D input, use shape2D). Found 2D input\n",
      "GLCM is symmetrical, therefore Sum Average = 2 * Joint Average, only 1 needs to be calculated\n"
     ]
    },
    {
     "name": "stdout",
     "output_type": "stream",
     "text": [
      "Loading image dataset/cut/affected/IM-0003-0014-6-1.jpg\n",
      "Loading image dataset/cut/affected/IM-0003-0014-6-2.jpg\n",
      "Loading image dataset/cut/affected/IM-0003-0015-1-1.jpg\n",
      "Loading image dataset/cut/affected/IM-0003-0015-1.jpg\n",
      "Loading image dataset/cut/affected/IM-0003-0015-2-1.jpg\n"
     ]
    },
    {
     "name": "stderr",
     "output_type": "stream",
     "text": [
      "Shape features are only available 3D input (for 2D input, use shape2D). Found 2D input\n",
      "GLCM is symmetrical, therefore Sum Average = 2 * Joint Average, only 1 needs to be calculated\n",
      "Shape features are only available 3D input (for 2D input, use shape2D). Found 2D input\n",
      "GLCM is symmetrical, therefore Sum Average = 2 * Joint Average, only 1 needs to be calculated\n",
      "Shape features are only available 3D input (for 2D input, use shape2D). Found 2D input\n",
      "GLCM is symmetrical, therefore Sum Average = 2 * Joint Average, only 1 needs to be calculated\n",
      "Shape features are only available 3D input (for 2D input, use shape2D). Found 2D input\n",
      "GLCM is symmetrical, therefore Sum Average = 2 * Joint Average, only 1 needs to be calculated\n",
      "Shape features are only available 3D input (for 2D input, use shape2D). Found 2D input\n",
      "GLCM is symmetrical, therefore Sum Average = 2 * Joint Average, only 1 needs to be calculated\n",
      "Shape features are only available 3D input (for 2D input, use shape2D). Found 2D input\n",
      "GLCM is symmetrical, therefore Sum Average = 2 * Joint Average, only 1 needs to be calculated\n",
      "Shape features are only available 3D input (for 2D input, use shape2D). Found 2D input\n"
     ]
    },
    {
     "name": "stdout",
     "output_type": "stream",
     "text": [
      "Loading image dataset/cut/affected/IM-0003-0015-3-1.jpg\n",
      "Loading image dataset/cut/affected/IM-0003-0015-3-2.jpg\n",
      "Loading image dataset/cut/affected/IM-0003-0015-4-1.jpg\n",
      "Loading image dataset/cut/affected/IM-0003-0015-4-2.jpg\n",
      "Loading image dataset/cut/affected/IM-0003-0015-5-1.jpg\n",
      "Loading image dataset/cut/affected/IM-0003-0015-6-1.jpg\n",
      "Loading image dataset/cut/affected/IM-0003-0015-6-2.jpg\n"
     ]
    },
    {
     "name": "stderr",
     "output_type": "stream",
     "text": [
      "GLCM is symmetrical, therefore Sum Average = 2 * Joint Average, only 1 needs to be calculated\n",
      "Shape features are only available 3D input (for 2D input, use shape2D). Found 2D input\n",
      "GLCM is symmetrical, therefore Sum Average = 2 * Joint Average, only 1 needs to be calculated\n",
      "Shape features are only available 3D input (for 2D input, use shape2D). Found 2D input\n",
      "GLCM is symmetrical, therefore Sum Average = 2 * Joint Average, only 1 needs to be calculated\n",
      "Shape features are only available 3D input (for 2D input, use shape2D). Found 2D input\n",
      "GLCM is symmetrical, therefore Sum Average = 2 * Joint Average, only 1 needs to be calculated\n"
     ]
    },
    {
     "name": "stdout",
     "output_type": "stream",
     "text": [
      "Loading image dataset/cut/affected/IM-0003-0016-1-1.jpg\n",
      "Loading image dataset/cut/affected/IM-0003-0016-1.jpg\n",
      "Loading image dataset/cut/affected/IM-0003-0016-2-1.jpg\n",
      "Loading image dataset/cut/affected/IM-0003-0016-3-1.jpg\n"
     ]
    },
    {
     "name": "stderr",
     "output_type": "stream",
     "text": [
      "Shape features are only available 3D input (for 2D input, use shape2D). Found 2D input\n",
      "GLCM is symmetrical, therefore Sum Average = 2 * Joint Average, only 1 needs to be calculated\n",
      "Shape features are only available 3D input (for 2D input, use shape2D). Found 2D input\n",
      "GLCM is symmetrical, therefore Sum Average = 2 * Joint Average, only 1 needs to be calculated\n",
      "Shape features are only available 3D input (for 2D input, use shape2D). Found 2D input\n",
      "GLCM is symmetrical, therefore Sum Average = 2 * Joint Average, only 1 needs to be calculated\n",
      "Shape features are only available 3D input (for 2D input, use shape2D). Found 2D input\n",
      "GLCM is symmetrical, therefore Sum Average = 2 * Joint Average, only 1 needs to be calculated\n",
      "Shape features are only available 3D input (for 2D input, use shape2D). Found 2D input\n",
      "GLCM is symmetrical, therefore Sum Average = 2 * Joint Average, only 1 needs to be calculated\n",
      "Shape features are only available 3D input (for 2D input, use shape2D). Found 2D input\n",
      "GLCM is symmetrical, therefore Sum Average = 2 * Joint Average, only 1 needs to be calculated\n"
     ]
    },
    {
     "name": "stdout",
     "output_type": "stream",
     "text": [
      "Loading image dataset/cut/affected/IM-0003-0016-4-1.jpg\n",
      "Loading image dataset/cut/affected/IM-0003-0016-4-2.jpg\n",
      "Loading image dataset/cut/affected/IM-0003-0016-5-1.jpg\n",
      "Loading image dataset/cut/affected/IM-0003-0016-6-1.jpg\n",
      "Loading image dataset/cut/affected/IM-0003-0016-6-2.jpg\n",
      "Loading image dataset/cut/affected/IM-0003-0017-1-1.jpg\n"
     ]
    },
    {
     "name": "stderr",
     "output_type": "stream",
     "text": [
      "Shape features are only available 3D input (for 2D input, use shape2D). Found 2D input\n",
      "GLCM is symmetrical, therefore Sum Average = 2 * Joint Average, only 1 needs to be calculated\n",
      "Shape features are only available 3D input (for 2D input, use shape2D). Found 2D input\n",
      "GLCM is symmetrical, therefore Sum Average = 2 * Joint Average, only 1 needs to be calculated\n",
      "Shape features are only available 3D input (for 2D input, use shape2D). Found 2D input\n",
      "GLCM is symmetrical, therefore Sum Average = 2 * Joint Average, only 1 needs to be calculated\n",
      "Shape features are only available 3D input (for 2D input, use shape2D). Found 2D input\n"
     ]
    },
    {
     "name": "stdout",
     "output_type": "stream",
     "text": [
      "Loading image dataset/cut/affected/IM-0003-0017-1.jpg\n",
      "Loading image dataset/cut/affected/IM-0003-0017-2-1.jpg\n",
      "Loading image dataset/cut/affected/IM-0003-0017-2.jpg\n"
     ]
    },
    {
     "name": "stderr",
     "output_type": "stream",
     "text": [
      "GLCM is symmetrical, therefore Sum Average = 2 * Joint Average, only 1 needs to be calculated\n",
      "Shape features are only available 3D input (for 2D input, use shape2D). Found 2D input\n",
      "GLCM is symmetrical, therefore Sum Average = 2 * Joint Average, only 1 needs to be calculated\n",
      "Shape features are only available 3D input (for 2D input, use shape2D). Found 2D input\n",
      "GLCM is symmetrical, therefore Sum Average = 2 * Joint Average, only 1 needs to be calculated\n",
      "Shape features are only available 3D input (for 2D input, use shape2D). Found 2D input\n",
      "GLCM is symmetrical, therefore Sum Average = 2 * Joint Average, only 1 needs to be calculated\n",
      "Shape features are only available 3D input (for 2D input, use shape2D). Found 2D input\n",
      "GLCM is symmetrical, therefore Sum Average = 2 * Joint Average, only 1 needs to be calculated\n"
     ]
    },
    {
     "name": "stdout",
     "output_type": "stream",
     "text": [
      "Loading image dataset/cut/affected/IM-0003-0017-3-1.jpg\n",
      "Loading image dataset/cut/affected/IM-0003-0017-3-2.jpg\n",
      "Loading image dataset/cut/affected/IM-0003-0017-4-1.jpg\n",
      "Loading image dataset/cut/affected/IM-0003-0017-4-2.jpg\n",
      "Loading image dataset/cut/affected/IM-0003-0017-5-1.jpg\n"
     ]
    },
    {
     "name": "stderr",
     "output_type": "stream",
     "text": [
      "Shape features are only available 3D input (for 2D input, use shape2D). Found 2D input\n",
      "GLCM is symmetrical, therefore Sum Average = 2 * Joint Average, only 1 needs to be calculated\n",
      "Shape features are only available 3D input (for 2D input, use shape2D). Found 2D input\n",
      "GLCM is symmetrical, therefore Sum Average = 2 * Joint Average, only 1 needs to be calculated\n",
      "Shape features are only available 3D input (for 2D input, use shape2D). Found 2D input\n",
      "GLCM is symmetrical, therefore Sum Average = 2 * Joint Average, only 1 needs to be calculated\n",
      "Shape features are only available 3D input (for 2D input, use shape2D). Found 2D input\n",
      "GLCM is symmetrical, therefore Sum Average = 2 * Joint Average, only 1 needs to be calculated\n",
      "Shape features are only available 3D input (for 2D input, use shape2D). Found 2D input\n",
      "GLCM is symmetrical, therefore Sum Average = 2 * Joint Average, only 1 needs to be calculated\n"
     ]
    },
    {
     "name": "stdout",
     "output_type": "stream",
     "text": [
      "Loading image dataset/cut/affected/IM-0003-0017-5-2.jpg\n",
      "Loading image dataset/cut/affected/IM-0003-0017-6-1.jpg\n",
      "Loading image dataset/cut/affected/IM-0003-0017-6-2.jpg\n",
      "Loading image dataset/cut/affected/IM-0003-0018-1-1.jpg\n"
     ]
    },
    {
     "name": "stderr",
     "output_type": "stream",
     "text": [
      "Shape features are only available 3D input (for 2D input, use shape2D). Found 2D input\n",
      "GLCM is symmetrical, therefore Sum Average = 2 * Joint Average, only 1 needs to be calculated\n",
      "Shape features are only available 3D input (for 2D input, use shape2D). Found 2D input\n",
      "GLCM is symmetrical, therefore Sum Average = 2 * Joint Average, only 1 needs to be calculated\n"
     ]
    },
    {
     "name": "stdout",
     "output_type": "stream",
     "text": [
      "Loading image dataset/cut/affected/IM-0003-0018-1.jpg\n",
      "Loading image dataset/cut/affected/IM-0003-0018-2-1.jpg\n",
      "Loading image dataset/cut/affected/IM-0003-0018-3-1.jpg\n"
     ]
    },
    {
     "name": "stderr",
     "output_type": "stream",
     "text": [
      "Shape features are only available 3D input (for 2D input, use shape2D). Found 2D input\n",
      "GLCM is symmetrical, therefore Sum Average = 2 * Joint Average, only 1 needs to be calculated\n",
      "Shape features are only available 3D input (for 2D input, use shape2D). Found 2D input\n",
      "GLCM is symmetrical, therefore Sum Average = 2 * Joint Average, only 1 needs to be calculated\n",
      "Shape features are only available 3D input (for 2D input, use shape2D). Found 2D input\n",
      "GLCM is symmetrical, therefore Sum Average = 2 * Joint Average, only 1 needs to be calculated\n",
      "Shape features are only available 3D input (for 2D input, use shape2D). Found 2D input\n",
      "GLCM is symmetrical, therefore Sum Average = 2 * Joint Average, only 1 needs to be calculated\n",
      "Shape features are only available 3D input (for 2D input, use shape2D). Found 2D input\n",
      "GLCM is symmetrical, therefore Sum Average = 2 * Joint Average, only 1 needs to be calculated\n",
      "Shape features are only available 3D input (for 2D input, use shape2D). Found 2D input\n",
      "GLCM is symmetrical, therefore Sum Average = 2 * Joint Average, only 1 needs to be calculated\n",
      "Shape features are only available 3D input (for 2D input, use shape2D). Found 2D input\n",
      "GLCM is symmetrical, therefore Sum Average = 2 * Joint Average, only 1 needs to be calculated\n"
     ]
    },
    {
     "name": "stdout",
     "output_type": "stream",
     "text": [
      "Loading image dataset/cut/affected/IM-0003-0018-3-2.jpg\n",
      "Loading image dataset/cut/affected/IM-0003-0018-4-1.jpg\n",
      "Loading image dataset/cut/affected/IM-0003-0018-4-2.jpg\n",
      "Loading image dataset/cut/affected/IM-0003-0018-5-1.jpg\n",
      "Loading image dataset/cut/affected/IM-0003-0018-5-2.jpg\n",
      "Loading image dataset/cut/affected/IM-0003-0018-6-1.jpg\n",
      "Loading image dataset/cut/affected/IM-0003-0018-6-2.jpg\n"
     ]
    },
    {
     "name": "stderr",
     "output_type": "stream",
     "text": [
      "Shape features are only available 3D input (for 2D input, use shape2D). Found 2D input\n",
      "GLCM is symmetrical, therefore Sum Average = 2 * Joint Average, only 1 needs to be calculated\n",
      "Shape features are only available 3D input (for 2D input, use shape2D). Found 2D input\n",
      "GLCM is symmetrical, therefore Sum Average = 2 * Joint Average, only 1 needs to be calculated\n",
      "Shape features are only available 3D input (for 2D input, use shape2D). Found 2D input\n",
      "GLCM is symmetrical, therefore Sum Average = 2 * Joint Average, only 1 needs to be calculated\n",
      "Shape features are only available 3D input (for 2D input, use shape2D). Found 2D input\n",
      "GLCM is symmetrical, therefore Sum Average = 2 * Joint Average, only 1 needs to be calculated\n",
      "Shape features are only available 3D input (for 2D input, use shape2D). Found 2D input\n"
     ]
    },
    {
     "name": "stdout",
     "output_type": "stream",
     "text": [
      "Loading image dataset/cut/affected/IM-0003-0019-1-1.jpg\n",
      "Loading image dataset/cut/affected/IM-0003-0019-1-2.jpg\n",
      "Loading image dataset/cut/affected/IM-0003-0019-1.jpg\n",
      "Loading image dataset/cut/affected/IM-0003-0019-2-1.jpg\n"
     ]
    },
    {
     "name": "stderr",
     "output_type": "stream",
     "text": [
      "GLCM is symmetrical, therefore Sum Average = 2 * Joint Average, only 1 needs to be calculated\n",
      "Shape features are only available 3D input (for 2D input, use shape2D). Found 2D input\n",
      "GLCM is symmetrical, therefore Sum Average = 2 * Joint Average, only 1 needs to be calculated\n",
      "Shape features are only available 3D input (for 2D input, use shape2D). Found 2D input\n",
      "GLCM is symmetrical, therefore Sum Average = 2 * Joint Average, only 1 needs to be calculated\n",
      "Shape features are only available 3D input (for 2D input, use shape2D). Found 2D input\n",
      "GLCM is symmetrical, therefore Sum Average = 2 * Joint Average, only 1 needs to be calculated\n",
      "Shape features are only available 3D input (for 2D input, use shape2D). Found 2D input\n",
      "GLCM is symmetrical, therefore Sum Average = 2 * Joint Average, only 1 needs to be calculated\n",
      "Shape features are only available 3D input (for 2D input, use shape2D). Found 2D input\n",
      "GLCM is symmetrical, therefore Sum Average = 2 * Joint Average, only 1 needs to be calculated\n",
      "Shape features are only available 3D input (for 2D input, use shape2D). Found 2D input\n"
     ]
    },
    {
     "name": "stdout",
     "output_type": "stream",
     "text": [
      "Loading image dataset/cut/affected/IM-0003-0019-3-1.jpg\n",
      "Loading image dataset/cut/affected/IM-0003-0019-3-2.jpg\n",
      "Loading image dataset/cut/affected/IM-0003-0019-4-1.jpg\n",
      "Loading image dataset/cut/affected/IM-0003-0019-4-2.jpg\n",
      "Loading image dataset/cut/affected/IM-0003-0019-5-1.jpg\n",
      "Loading image dataset/cut/affected/IM-0003-0019-5-2.jpg\n"
     ]
    },
    {
     "name": "stderr",
     "output_type": "stream",
     "text": [
      "GLCM is symmetrical, therefore Sum Average = 2 * Joint Average, only 1 needs to be calculated\n",
      "Shape features are only available 3D input (for 2D input, use shape2D). Found 2D input\n",
      "GLCM is symmetrical, therefore Sum Average = 2 * Joint Average, only 1 needs to be calculated\n",
      "Shape features are only available 3D input (for 2D input, use shape2D). Found 2D input\n",
      "GLCM is symmetrical, therefore Sum Average = 2 * Joint Average, only 1 needs to be calculated\n",
      "Shape features are only available 3D input (for 2D input, use shape2D). Found 2D input\n",
      "GLCM is symmetrical, therefore Sum Average = 2 * Joint Average, only 1 needs to be calculated\n",
      "Shape features are only available 3D input (for 2D input, use shape2D). Found 2D input\n",
      "GLCM is symmetrical, therefore Sum Average = 2 * Joint Average, only 1 needs to be calculated\n",
      "Shape features are only available 3D input (for 2D input, use shape2D). Found 2D input\n",
      "GLCM is symmetrical, therefore Sum Average = 2 * Joint Average, only 1 needs to be calculated\n",
      "Shape features are only available 3D input (for 2D input, use shape2D). Found 2D input\n",
      "GLCM is symmetrical, therefore Sum Average = 2 * Joint Average, only 1 needs to be calculated\n"
     ]
    },
    {
     "name": "stdout",
     "output_type": "stream",
     "text": [
      "Loading image dataset/cut/affected/IM-0003-0019-6-1.jpg\n",
      "Loading image dataset/cut/affected/IM-0003-0019-6-2.jpg\n",
      "Loading image dataset/cut/affected/IM-0003-0020-1-1.jpg\n",
      "Loading image dataset/cut/affected/IM-0003-0020-1-2.jpg\n",
      "Loading image dataset/cut/affected/IM-0003-0020-1.jpg\n",
      "Loading image dataset/cut/affected/IM-0003-0020-2-1.jpg\n"
     ]
    },
    {
     "name": "stderr",
     "output_type": "stream",
     "text": [
      "Shape features are only available 3D input (for 2D input, use shape2D). Found 2D input\n",
      "GLCM is symmetrical, therefore Sum Average = 2 * Joint Average, only 1 needs to be calculated\n",
      "Shape features are only available 3D input (for 2D input, use shape2D). Found 2D input\n",
      "GLCM is symmetrical, therefore Sum Average = 2 * Joint Average, only 1 needs to be calculated\n",
      "Shape features are only available 3D input (for 2D input, use shape2D). Found 2D input\n",
      "GLCM is symmetrical, therefore Sum Average = 2 * Joint Average, only 1 needs to be calculated\n",
      "Shape features are only available 3D input (for 2D input, use shape2D). Found 2D input\n",
      "GLCM is symmetrical, therefore Sum Average = 2 * Joint Average, only 1 needs to be calculated\n",
      "Shape features are only available 3D input (for 2D input, use shape2D). Found 2D input\n",
      "GLCM is symmetrical, therefore Sum Average = 2 * Joint Average, only 1 needs to be calculated\n",
      "Shape features are only available 3D input (for 2D input, use shape2D). Found 2D input\n",
      "GLCM is symmetrical, therefore Sum Average = 2 * Joint Average, only 1 needs to be calculated\n"
     ]
    },
    {
     "name": "stdout",
     "output_type": "stream",
     "text": [
      "Loading image dataset/cut/affected/IM-0003-0020-2.jpg\n",
      "Loading image dataset/cut/affected/IM-0003-0020-3-1.jpg\n",
      "Loading image dataset/cut/affected/IM-0003-0020-3-2.jpg\n",
      "Loading image dataset/cut/affected/IM-0003-0020-4-1.jpg\n",
      "Loading image dataset/cut/affected/IM-0003-0020-4-2.jpg\n",
      "Loading image dataset/cut/affected/IM-0003-0020-5-1.jpg\n",
      "Loading image dataset/cut/affected/IM-0003-0020-5-2.jpg\n"
     ]
    },
    {
     "name": "stderr",
     "output_type": "stream",
     "text": [
      "Shape features are only available 3D input (for 2D input, use shape2D). Found 2D input\n",
      "GLCM is symmetrical, therefore Sum Average = 2 * Joint Average, only 1 needs to be calculated\n",
      "Shape features are only available 3D input (for 2D input, use shape2D). Found 2D input\n",
      "GLCM is symmetrical, therefore Sum Average = 2 * Joint Average, only 1 needs to be calculated\n",
      "Shape features are only available 3D input (for 2D input, use shape2D). Found 2D input\n",
      "GLCM is symmetrical, therefore Sum Average = 2 * Joint Average, only 1 needs to be calculated\n",
      "Shape features are only available 3D input (for 2D input, use shape2D). Found 2D input\n",
      "GLCM is symmetrical, therefore Sum Average = 2 * Joint Average, only 1 needs to be calculated\n",
      "Shape features are only available 3D input (for 2D input, use shape2D). Found 2D input\n",
      "GLCM is symmetrical, therefore Sum Average = 2 * Joint Average, only 1 needs to be calculated\n",
      "Shape features are only available 3D input (for 2D input, use shape2D). Found 2D input\n"
     ]
    },
    {
     "name": "stdout",
     "output_type": "stream",
     "text": [
      "Loading image dataset/cut/affected/IM-0003-0021-1-1.jpg\n",
      "Loading image dataset/cut/affected/IM-0003-0021-1-2.jpg\n",
      "Loading image dataset/cut/affected/IM-0003-0021-1.jpg\n",
      "Loading image dataset/cut/affected/IM-0003-0021-2-1.jpg\n",
      "Loading image dataset/cut/affected/IM-0003-0021-2-2.jpg\n"
     ]
    },
    {
     "name": "stderr",
     "output_type": "stream",
     "text": [
      "GLCM is symmetrical, therefore Sum Average = 2 * Joint Average, only 1 needs to be calculated\n",
      "Shape features are only available 3D input (for 2D input, use shape2D). Found 2D input\n",
      "GLCM is symmetrical, therefore Sum Average = 2 * Joint Average, only 1 needs to be calculated\n",
      "Shape features are only available 3D input (for 2D input, use shape2D). Found 2D input\n",
      "GLCM is symmetrical, therefore Sum Average = 2 * Joint Average, only 1 needs to be calculated\n",
      "Shape features are only available 3D input (for 2D input, use shape2D). Found 2D input\n",
      "GLCM is symmetrical, therefore Sum Average = 2 * Joint Average, only 1 needs to be calculated\n",
      "Shape features are only available 3D input (for 2D input, use shape2D). Found 2D input\n",
      "GLCM is symmetrical, therefore Sum Average = 2 * Joint Average, only 1 needs to be calculated\n",
      "Shape features are only available 3D input (for 2D input, use shape2D). Found 2D input\n",
      "GLCM is symmetrical, therefore Sum Average = 2 * Joint Average, only 1 needs to be calculated\n",
      "Shape features are only available 3D input (for 2D input, use shape2D). Found 2D input\n",
      "GLCM is symmetrical, therefore Sum Average = 2 * Joint Average, only 1 needs to be calculated\n"
     ]
    },
    {
     "name": "stdout",
     "output_type": "stream",
     "text": [
      "Loading image dataset/cut/affected/IM-0003-0021-2.jpg\n",
      "Loading image dataset/cut/affected/IM-0003-0021-3-1.jpg\n",
      "Loading image dataset/cut/affected/IM-0003-0021-3-2.jpg\n",
      "Loading image dataset/cut/affected/IM-0003-0021-4-1.jpg\n",
      "Loading image dataset/cut/affected/IM-0003-0021-4-2.jpg\n",
      "Loading image dataset/cut/affected/IM-0003-0021-5-1.jpg\n"
     ]
    },
    {
     "name": "stderr",
     "output_type": "stream",
     "text": [
      "Shape features are only available 3D input (for 2D input, use shape2D). Found 2D input\n",
      "GLCM is symmetrical, therefore Sum Average = 2 * Joint Average, only 1 needs to be calculated\n",
      "Shape features are only available 3D input (for 2D input, use shape2D). Found 2D input\n",
      "GLCM is symmetrical, therefore Sum Average = 2 * Joint Average, only 1 needs to be calculated\n",
      "Shape features are only available 3D input (for 2D input, use shape2D). Found 2D input\n",
      "GLCM is symmetrical, therefore Sum Average = 2 * Joint Average, only 1 needs to be calculated\n",
      "Shape features are only available 3D input (for 2D input, use shape2D). Found 2D input\n",
      "GLCM is symmetrical, therefore Sum Average = 2 * Joint Average, only 1 needs to be calculated\n",
      "Shape features are only available 3D input (for 2D input, use shape2D). Found 2D input\n",
      "GLCM is symmetrical, therefore Sum Average = 2 * Joint Average, only 1 needs to be calculated\n",
      "Shape features are only available 3D input (for 2D input, use shape2D). Found 2D input\n"
     ]
    },
    {
     "name": "stdout",
     "output_type": "stream",
     "text": [
      "Loading image dataset/cut/affected/IM-0003-0021-5-2.jpg\n",
      "Loading image dataset/cut/affected/IM-0003-0022-1-1.jpg\n",
      "Loading image dataset/cut/affected/IM-0003-0022-1-2.jpg\n",
      "Loading image dataset/cut/affected/IM-0003-0022-1.jpg\n",
      "Loading image dataset/cut/affected/IM-0003-0022-2-1.jpg\n",
      "Loading image dataset/cut/affected/IM-0003-0022-2-2.jpg\n"
     ]
    },
    {
     "name": "stderr",
     "output_type": "stream",
     "text": [
      "GLCM is symmetrical, therefore Sum Average = 2 * Joint Average, only 1 needs to be calculated\n",
      "Shape features are only available 3D input (for 2D input, use shape2D). Found 2D input\n",
      "GLCM is symmetrical, therefore Sum Average = 2 * Joint Average, only 1 needs to be calculated\n",
      "Shape features are only available 3D input (for 2D input, use shape2D). Found 2D input\n",
      "GLCM is symmetrical, therefore Sum Average = 2 * Joint Average, only 1 needs to be calculated\n",
      "Shape features are only available 3D input (for 2D input, use shape2D). Found 2D input\n",
      "GLCM is symmetrical, therefore Sum Average = 2 * Joint Average, only 1 needs to be calculated\n",
      "Shape features are only available 3D input (for 2D input, use shape2D). Found 2D input\n",
      "GLCM is symmetrical, therefore Sum Average = 2 * Joint Average, only 1 needs to be calculated\n",
      "Shape features are only available 3D input (for 2D input, use shape2D). Found 2D input\n",
      "GLCM is symmetrical, therefore Sum Average = 2 * Joint Average, only 1 needs to be calculated\n",
      "Shape features are only available 3D input (for 2D input, use shape2D). Found 2D input\n",
      "GLCM is symmetrical, therefore Sum Average = 2 * Joint Average, only 1 needs to be calculated\n",
      "Shape features are only available 3D input (for 2D input, use shape2D). Found 2D input\n",
      "GLCM is symmetrical, therefore Sum Average = 2 * Joint Average, only 1 needs to be calculated\n"
     ]
    },
    {
     "name": "stdout",
     "output_type": "stream",
     "text": [
      "Loading image dataset/cut/affected/IM-0003-0022-2.jpg\n",
      "Loading image dataset/cut/affected/IM-0003-0022-3-1.jpg\n",
      "Loading image dataset/cut/affected/IM-0003-0022-3-2.jpg\n",
      "Loading image dataset/cut/affected/IM-0003-0022-4-1.jpg\n",
      "Loading image dataset/cut/affected/IM-0003-0022-4-2.jpg\n",
      "Loading image dataset/cut/affected/IM-0003-0022-5-1.jpg\n",
      "Loading image dataset/cut/affected/IM-0003-0022-5-2.jpg\n",
      "Loading image dataset/cut/affected/IM-0003-0023-1-1.jpg\n"
     ]
    },
    {
     "name": "stderr",
     "output_type": "stream",
     "text": [
      "Shape features are only available 3D input (for 2D input, use shape2D). Found 2D input\n",
      "GLCM is symmetrical, therefore Sum Average = 2 * Joint Average, only 1 needs to be calculated\n",
      "Shape features are only available 3D input (for 2D input, use shape2D). Found 2D input\n",
      "GLCM is symmetrical, therefore Sum Average = 2 * Joint Average, only 1 needs to be calculated\n",
      "Shape features are only available 3D input (for 2D input, use shape2D). Found 2D input\n",
      "GLCM is symmetrical, therefore Sum Average = 2 * Joint Average, only 1 needs to be calculated\n",
      "Shape features are only available 3D input (for 2D input, use shape2D). Found 2D input\n",
      "GLCM is symmetrical, therefore Sum Average = 2 * Joint Average, only 1 needs to be calculated\n",
      "Shape features are only available 3D input (for 2D input, use shape2D). Found 2D input\n",
      "GLCM is symmetrical, therefore Sum Average = 2 * Joint Average, only 1 needs to be calculated\n",
      "Shape features are only available 3D input (for 2D input, use shape2D). Found 2D input\n",
      "GLCM is symmetrical, therefore Sum Average = 2 * Joint Average, only 1 needs to be calculated\n",
      "Shape features are only available 3D input (for 2D input, use shape2D). Found 2D input\n"
     ]
    },
    {
     "name": "stdout",
     "output_type": "stream",
     "text": [
      "Loading image dataset/cut/affected/IM-0003-0023-1-2.jpg\n",
      "Loading image dataset/cut/affected/IM-0003-0023-1.jpg\n",
      "Loading image dataset/cut/affected/IM-0003-0023-2-1.jpg\n",
      "Loading image dataset/cut/affected/IM-0003-0023-2-2.jpg\n",
      "Loading image dataset/cut/affected/IM-0003-0023-2.jpg\n",
      "Loading image dataset/cut/affected/IM-0003-0023-3-1.jpg\n"
     ]
    },
    {
     "name": "stderr",
     "output_type": "stream",
     "text": [
      "GLCM is symmetrical, therefore Sum Average = 2 * Joint Average, only 1 needs to be calculated\n",
      "Shape features are only available 3D input (for 2D input, use shape2D). Found 2D input\n",
      "GLCM is symmetrical, therefore Sum Average = 2 * Joint Average, only 1 needs to be calculated\n",
      "Shape features are only available 3D input (for 2D input, use shape2D). Found 2D input\n",
      "GLCM is symmetrical, therefore Sum Average = 2 * Joint Average, only 1 needs to be calculated\n",
      "Shape features are only available 3D input (for 2D input, use shape2D). Found 2D input\n",
      "GLCM is symmetrical, therefore Sum Average = 2 * Joint Average, only 1 needs to be calculated\n",
      "Shape features are only available 3D input (for 2D input, use shape2D). Found 2D input\n",
      "GLCM is symmetrical, therefore Sum Average = 2 * Joint Average, only 1 needs to be calculated\n",
      "Shape features are only available 3D input (for 2D input, use shape2D). Found 2D input\n",
      "GLCM is symmetrical, therefore Sum Average = 2 * Joint Average, only 1 needs to be calculated\n",
      "Shape features are only available 3D input (for 2D input, use shape2D). Found 2D input\n",
      "GLCM is symmetrical, therefore Sum Average = 2 * Joint Average, only 1 needs to be calculated\n",
      "Shape features are only available 3D input (for 2D input, use shape2D). Found 2D input\n",
      "GLCM is symmetrical, therefore Sum Average = 2 * Joint Average, only 1 needs to be calculated\n"
     ]
    },
    {
     "name": "stdout",
     "output_type": "stream",
     "text": [
      "Loading image dataset/cut/affected/IM-0003-0023-3-2.jpg\n",
      "Loading image dataset/cut/affected/IM-0003-0023-4-1.jpg\n",
      "Loading image dataset/cut/affected/IM-0003-0023-4-2.jpg\n",
      "Loading image dataset/cut/affected/IM-0003-0023-5-1.jpg\n",
      "Loading image dataset/cut/affected/IM-0003-0023-5-2.jpg\n",
      "Loading image dataset/cut/affected/IM-0003-0024-1-1.jpg\n",
      "Loading image dataset/cut/affected/IM-0003-0024-1-2.jpg\n",
      "Loading image dataset/cut/affected/IM-0003-0024-1.jpg\n"
     ]
    },
    {
     "name": "stderr",
     "output_type": "stream",
     "text": [
      "Shape features are only available 3D input (for 2D input, use shape2D). Found 2D input\n",
      "GLCM is symmetrical, therefore Sum Average = 2 * Joint Average, only 1 needs to be calculated\n",
      "Shape features are only available 3D input (for 2D input, use shape2D). Found 2D input\n",
      "GLCM is symmetrical, therefore Sum Average = 2 * Joint Average, only 1 needs to be calculated\n",
      "Shape features are only available 3D input (for 2D input, use shape2D). Found 2D input\n",
      "GLCM is symmetrical, therefore Sum Average = 2 * Joint Average, only 1 needs to be calculated\n",
      "Shape features are only available 3D input (for 2D input, use shape2D). Found 2D input\n",
      "GLCM is symmetrical, therefore Sum Average = 2 * Joint Average, only 1 needs to be calculated\n",
      "Shape features are only available 3D input (for 2D input, use shape2D). Found 2D input\n",
      "GLCM is symmetrical, therefore Sum Average = 2 * Joint Average, only 1 needs to be calculated\n",
      "Shape features are only available 3D input (for 2D input, use shape2D). Found 2D input\n",
      "GLCM is symmetrical, therefore Sum Average = 2 * Joint Average, only 1 needs to be calculated\n",
      "Shape features are only available 3D input (for 2D input, use shape2D). Found 2D input\n",
      "GLCM is symmetrical, therefore Sum Average = 2 * Joint Average, only 1 needs to be calculated\n"
     ]
    },
    {
     "name": "stdout",
     "output_type": "stream",
     "text": [
      "Loading image dataset/cut/affected/IM-0003-0024-2-1.jpg\n",
      "Loading image dataset/cut/affected/IM-0003-0024-2-2.jpg\n",
      "Loading image dataset/cut/affected/IM-0003-0024-2.jpg\n",
      "Loading image dataset/cut/affected/IM-0003-0024-3-1.jpg\n",
      "Loading image dataset/cut/affected/IM-0003-0024-3-2.jpg\n",
      "Loading image dataset/cut/affected/IM-0003-0024-5-1.jpg\n",
      "Loading image dataset/cut/affected/IM-0003-0024-5-2.jpg\n"
     ]
    },
    {
     "name": "stderr",
     "output_type": "stream",
     "text": [
      "Shape features are only available 3D input (for 2D input, use shape2D). Found 2D input\n",
      "GLCM is symmetrical, therefore Sum Average = 2 * Joint Average, only 1 needs to be calculated\n",
      "Shape features are only available 3D input (for 2D input, use shape2D). Found 2D input\n",
      "GLCM is symmetrical, therefore Sum Average = 2 * Joint Average, only 1 needs to be calculated\n",
      "Shape features are only available 3D input (for 2D input, use shape2D). Found 2D input\n",
      "GLCM is symmetrical, therefore Sum Average = 2 * Joint Average, only 1 needs to be calculated\n",
      "Shape features are only available 3D input (for 2D input, use shape2D). Found 2D input\n",
      "GLCM is symmetrical, therefore Sum Average = 2 * Joint Average, only 1 needs to be calculated\n",
      "Shape features are only available 3D input (for 2D input, use shape2D). Found 2D input\n"
     ]
    },
    {
     "name": "stdout",
     "output_type": "stream",
     "text": [
      "Loading image dataset/cut/affected/IM-0003-0025-1-1.jpg\n",
      "Loading image dataset/cut/affected/IM-0003-0025-1-2.jpg\n",
      "Loading image dataset/cut/affected/IM-0003-0025-1.jpg\n",
      "Loading image dataset/cut/affected/IM-0003-0025-2-1.jpg\n"
     ]
    },
    {
     "name": "stderr",
     "output_type": "stream",
     "text": [
      "GLCM is symmetrical, therefore Sum Average = 2 * Joint Average, only 1 needs to be calculated\n",
      "Shape features are only available 3D input (for 2D input, use shape2D). Found 2D input\n",
      "GLCM is symmetrical, therefore Sum Average = 2 * Joint Average, only 1 needs to be calculated\n",
      "Shape features are only available 3D input (for 2D input, use shape2D). Found 2D input\n",
      "GLCM is symmetrical, therefore Sum Average = 2 * Joint Average, only 1 needs to be calculated\n",
      "Shape features are only available 3D input (for 2D input, use shape2D). Found 2D input\n",
      "GLCM is symmetrical, therefore Sum Average = 2 * Joint Average, only 1 needs to be calculated\n"
     ]
    },
    {
     "name": "stdout",
     "output_type": "stream",
     "text": [
      "Loading image dataset/cut/affected/IM-0003-0025-2-2.jpg\n",
      "Loading image dataset/cut/affected/IM-0003-0025-2.jpg\n",
      "Loading image dataset/cut/affected/IM-0003-0025-3-1.jpg\n",
      "Loading image dataset/cut/affected/IM-0003-0025-3-2.jpg\n"
     ]
    },
    {
     "name": "stderr",
     "output_type": "stream",
     "text": [
      "Shape features are only available 3D input (for 2D input, use shape2D). Found 2D input\n",
      "GLCM is symmetrical, therefore Sum Average = 2 * Joint Average, only 1 needs to be calculated\n",
      "Shape features are only available 3D input (for 2D input, use shape2D). Found 2D input\n",
      "GLCM is symmetrical, therefore Sum Average = 2 * Joint Average, only 1 needs to be calculated\n",
      "Shape features are only available 3D input (for 2D input, use shape2D). Found 2D input\n",
      "GLCM is symmetrical, therefore Sum Average = 2 * Joint Average, only 1 needs to be calculated\n",
      "Shape features are only available 3D input (for 2D input, use shape2D). Found 2D input\n",
      "GLCM is symmetrical, therefore Sum Average = 2 * Joint Average, only 1 needs to be calculated\n",
      "Shape features are only available 3D input (for 2D input, use shape2D). Found 2D input\n"
     ]
    },
    {
     "name": "stdout",
     "output_type": "stream",
     "text": [
      "Loading image dataset/cut/affected/IM-0003-0025-5-1.jpg\n",
      "Loading image dataset/cut/affected/IM-0003-0025-5-2.jpg\n",
      "Loading image dataset/cut/affected/IM-0003-0026-1-1.jpg\n",
      "Loading image dataset/cut/affected/IM-0003-0026-1-2.jpg\n"
     ]
    },
    {
     "name": "stderr",
     "output_type": "stream",
     "text": [
      "GLCM is symmetrical, therefore Sum Average = 2 * Joint Average, only 1 needs to be calculated\n",
      "Shape features are only available 3D input (for 2D input, use shape2D). Found 2D input\n",
      "GLCM is symmetrical, therefore Sum Average = 2 * Joint Average, only 1 needs to be calculated\n",
      "Shape features are only available 3D input (for 2D input, use shape2D). Found 2D input\n",
      "GLCM is symmetrical, therefore Sum Average = 2 * Joint Average, only 1 needs to be calculated\n",
      "Shape features are only available 3D input (for 2D input, use shape2D). Found 2D input\n",
      "GLCM is symmetrical, therefore Sum Average = 2 * Joint Average, only 1 needs to be calculated\n",
      "Shape features are only available 3D input (for 2D input, use shape2D). Found 2D input\n",
      "GLCM is symmetrical, therefore Sum Average = 2 * Joint Average, only 1 needs to be calculated\n"
     ]
    },
    {
     "name": "stdout",
     "output_type": "stream",
     "text": [
      "Loading image dataset/cut/affected/IM-0003-0026-1.jpg\n",
      "Loading image dataset/cut/affected/IM-0003-0026-2-1.jpg\n",
      "Loading image dataset/cut/affected/IM-0003-0026-2-2.jpg\n",
      "Loading image dataset/cut/affected/IM-0003-0026-2.jpg\n"
     ]
    },
    {
     "name": "stderr",
     "output_type": "stream",
     "text": [
      "Shape features are only available 3D input (for 2D input, use shape2D). Found 2D input\n",
      "GLCM is symmetrical, therefore Sum Average = 2 * Joint Average, only 1 needs to be calculated\n",
      "Shape features are only available 3D input (for 2D input, use shape2D). Found 2D input\n",
      "GLCM is symmetrical, therefore Sum Average = 2 * Joint Average, only 1 needs to be calculated\n",
      "Shape features are only available 3D input (for 2D input, use shape2D). Found 2D input\n",
      "GLCM is symmetrical, therefore Sum Average = 2 * Joint Average, only 1 needs to be calculated\n",
      "Shape features are only available 3D input (for 2D input, use shape2D). Found 2D input\n",
      "GLCM is symmetrical, therefore Sum Average = 2 * Joint Average, only 1 needs to be calculated\n"
     ]
    },
    {
     "name": "stdout",
     "output_type": "stream",
     "text": [
      "Loading image dataset/cut/affected/IM-0003-0026-3-1.jpg\n",
      "Loading image dataset/cut/affected/IM-0003-0026-3-2.jpg\n",
      "Loading image dataset/cut/affected/IM-0003-0026-5-1.jpg\n",
      "Loading image dataset/cut/affected/IM-0003-0026-5-2.jpg\n",
      "Loading image dataset/cut/affected/IM-0003-0027-1-1.jpg\n"
     ]
    },
    {
     "name": "stderr",
     "output_type": "stream",
     "text": [
      "Shape features are only available 3D input (for 2D input, use shape2D). Found 2D input\n",
      "GLCM is symmetrical, therefore Sum Average = 2 * Joint Average, only 1 needs to be calculated\n",
      "Shape features are only available 3D input (for 2D input, use shape2D). Found 2D input\n",
      "GLCM is symmetrical, therefore Sum Average = 2 * Joint Average, only 1 needs to be calculated\n",
      "Shape features are only available 3D input (for 2D input, use shape2D). Found 2D input\n",
      "GLCM is symmetrical, therefore Sum Average = 2 * Joint Average, only 1 needs to be calculated\n",
      "Shape features are only available 3D input (for 2D input, use shape2D). Found 2D input\n",
      "GLCM is symmetrical, therefore Sum Average = 2 * Joint Average, only 1 needs to be calculated\n",
      "Shape features are only available 3D input (for 2D input, use shape2D). Found 2D input\n",
      "GLCM is symmetrical, therefore Sum Average = 2 * Joint Average, only 1 needs to be calculated\n",
      "Shape features are only available 3D input (for 2D input, use shape2D). Found 2D input\n",
      "GLCM is symmetrical, therefore Sum Average = 2 * Joint Average, only 1 needs to be calculated\n",
      "Shape features are only available 3D input (for 2D input, use shape2D). Found 2D input\n",
      "GLCM is symmetrical, therefore Sum Average = 2 * Joint Average, only 1 needs to be calculated\n"
     ]
    },
    {
     "name": "stdout",
     "output_type": "stream",
     "text": [
      "Loading image dataset/cut/affected/IM-0003-0027-1-2.jpg\n",
      "Loading image dataset/cut/affected/IM-0003-0027-1.jpg\n",
      "Loading image dataset/cut/affected/IM-0003-0027-2-1.jpg\n",
      "Loading image dataset/cut/affected/IM-0003-0027-2-2.jpg\n",
      "Loading image dataset/cut/affected/IM-0003-0027-2.jpg\n",
      "Loading image dataset/cut/affected/IM-0003-0027-3-1.jpg\n"
     ]
    },
    {
     "name": "stderr",
     "output_type": "stream",
     "text": [
      "Shape features are only available 3D input (for 2D input, use shape2D). Found 2D input\n",
      "GLCM is symmetrical, therefore Sum Average = 2 * Joint Average, only 1 needs to be calculated\n",
      "Shape features are only available 3D input (for 2D input, use shape2D). Found 2D input\n",
      "GLCM is symmetrical, therefore Sum Average = 2 * Joint Average, only 1 needs to be calculated\n",
      "Shape features are only available 3D input (for 2D input, use shape2D). Found 2D input\n",
      "GLCM is symmetrical, therefore Sum Average = 2 * Joint Average, only 1 needs to be calculated\n",
      "Shape features are only available 3D input (for 2D input, use shape2D). Found 2D input\n",
      "GLCM is symmetrical, therefore Sum Average = 2 * Joint Average, only 1 needs to be calculated\n",
      "Shape features are only available 3D input (for 2D input, use shape2D). Found 2D input\n",
      "GLCM is symmetrical, therefore Sum Average = 2 * Joint Average, only 1 needs to be calculated\n",
      "Shape features are only available 3D input (for 2D input, use shape2D). Found 2D input\n",
      "GLCM is symmetrical, therefore Sum Average = 2 * Joint Average, only 1 needs to be calculated\n",
      "Shape features are only available 3D input (for 2D input, use shape2D). Found 2D input\n"
     ]
    },
    {
     "name": "stdout",
     "output_type": "stream",
     "text": [
      "Loading image dataset/cut/affected/IM-0003-0027-3-2.jpg\n",
      "Loading image dataset/cut/affected/IM-0003-0027-5-1.jpg\n",
      "Loading image dataset/cut/affected/IM-0003-0027-5-2.jpg\n",
      "Loading image dataset/cut/affected/IM-0003-0028-1-1.jpg\n",
      "Loading image dataset/cut/affected/IM-0003-0028-1-2.jpg\n",
      "Loading image dataset/cut/affected/IM-0003-0028-1.jpg\n",
      "Loading image dataset/cut/affected/IM-0003-0028-2-1.jpg\n"
     ]
    },
    {
     "name": "stderr",
     "output_type": "stream",
     "text": [
      "GLCM is symmetrical, therefore Sum Average = 2 * Joint Average, only 1 needs to be calculated\n",
      "Shape features are only available 3D input (for 2D input, use shape2D). Found 2D input\n",
      "GLCM is symmetrical, therefore Sum Average = 2 * Joint Average, only 1 needs to be calculated\n",
      "Shape features are only available 3D input (for 2D input, use shape2D). Found 2D input\n",
      "GLCM is symmetrical, therefore Sum Average = 2 * Joint Average, only 1 needs to be calculated\n",
      "Shape features are only available 3D input (for 2D input, use shape2D). Found 2D input\n",
      "GLCM is symmetrical, therefore Sum Average = 2 * Joint Average, only 1 needs to be calculated\n",
      "Shape features are only available 3D input (for 2D input, use shape2D). Found 2D input\n",
      "GLCM is symmetrical, therefore Sum Average = 2 * Joint Average, only 1 needs to be calculated\n",
      "Shape features are only available 3D input (for 2D input, use shape2D). Found 2D input\n",
      "GLCM is symmetrical, therefore Sum Average = 2 * Joint Average, only 1 needs to be calculated\n",
      "Shape features are only available 3D input (for 2D input, use shape2D). Found 2D input\n",
      "GLCM is symmetrical, therefore Sum Average = 2 * Joint Average, only 1 needs to be calculated\n",
      "Shape features are only available 3D input (for 2D input, use shape2D). Found 2D input\n",
      "GLCM is symmetrical, therefore Sum Average = 2 * Joint Average, only 1 needs to be calculated\n"
     ]
    },
    {
     "name": "stdout",
     "output_type": "stream",
     "text": [
      "Loading image dataset/cut/affected/IM-0003-0028-2-2.jpg\n",
      "Loading image dataset/cut/affected/IM-0003-0028-2.jpg\n",
      "Loading image dataset/cut/affected/IM-0003-0028-3-1.jpg\n",
      "Loading image dataset/cut/affected/IM-0003-0028-3-2.jpg\n",
      "Loading image dataset/cut/affected/IM-0003-0029-1-1.jpg\n",
      "Loading image dataset/cut/affected/IM-0003-0029-1-2.jpg\n",
      "Loading image dataset/cut/affected/IM-0003-0029-1.jpg\n"
     ]
    },
    {
     "name": "stderr",
     "output_type": "stream",
     "text": [
      "Shape features are only available 3D input (for 2D input, use shape2D). Found 2D input\n",
      "GLCM is symmetrical, therefore Sum Average = 2 * Joint Average, only 1 needs to be calculated\n",
      "Shape features are only available 3D input (for 2D input, use shape2D). Found 2D input\n",
      "GLCM is symmetrical, therefore Sum Average = 2 * Joint Average, only 1 needs to be calculated\n",
      "Shape features are only available 3D input (for 2D input, use shape2D). Found 2D input\n",
      "GLCM is symmetrical, therefore Sum Average = 2 * Joint Average, only 1 needs to be calculated\n",
      "Shape features are only available 3D input (for 2D input, use shape2D). Found 2D input\n",
      "GLCM is symmetrical, therefore Sum Average = 2 * Joint Average, only 1 needs to be calculated\n",
      "Shape features are only available 3D input (for 2D input, use shape2D). Found 2D input\n",
      "GLCM is symmetrical, therefore Sum Average = 2 * Joint Average, only 1 needs to be calculated\n",
      "Shape features are only available 3D input (for 2D input, use shape2D). Found 2D input\n",
      "GLCM is symmetrical, therefore Sum Average = 2 * Joint Average, only 1 needs to be calculated\n"
     ]
    },
    {
     "name": "stdout",
     "output_type": "stream",
     "text": [
      "Loading image dataset/cut/affected/IM-0003-0029-2-1.jpg\n",
      "Loading image dataset/cut/affected/IM-0003-0029-2-2.jpg\n",
      "Loading image dataset/cut/affected/IM-0003-0029-2.jpg\n",
      "Loading image dataset/cut/affected/IM-0003-0029-3-1.jpg\n",
      "Loading image dataset/cut/affected/IM-0003-0029-3-2.jpg\n",
      "Loading image dataset/cut/affected/IM-0003-0030-1-1.jpg\n",
      "Loading image dataset/cut/affected/IM-0003-0030-1-2.jpg\n"
     ]
    },
    {
     "name": "stderr",
     "output_type": "stream",
     "text": [
      "Shape features are only available 3D input (for 2D input, use shape2D). Found 2D input\n",
      "GLCM is symmetrical, therefore Sum Average = 2 * Joint Average, only 1 needs to be calculated\n",
      "Shape features are only available 3D input (for 2D input, use shape2D). Found 2D input\n",
      "GLCM is symmetrical, therefore Sum Average = 2 * Joint Average, only 1 needs to be calculated\n",
      "Shape features are only available 3D input (for 2D input, use shape2D). Found 2D input\n",
      "GLCM is symmetrical, therefore Sum Average = 2 * Joint Average, only 1 needs to be calculated\n",
      "Shape features are only available 3D input (for 2D input, use shape2D). Found 2D input\n",
      "GLCM is symmetrical, therefore Sum Average = 2 * Joint Average, only 1 needs to be calculated\n",
      "Shape features are only available 3D input (for 2D input, use shape2D). Found 2D input\n",
      "GLCM is symmetrical, therefore Sum Average = 2 * Joint Average, only 1 needs to be calculated\n",
      "Shape features are only available 3D input (for 2D input, use shape2D). Found 2D input\n",
      "GLCM is symmetrical, therefore Sum Average = 2 * Joint Average, only 1 needs to be calculated\n"
     ]
    },
    {
     "name": "stdout",
     "output_type": "stream",
     "text": [
      "Loading image dataset/cut/affected/IM-0003-0030-1.jpg\n",
      "Loading image dataset/cut/affected/IM-0003-0030-2.jpg\n",
      "Loading image dataset/cut/affected/IM-0003-0031-1.jpg\n",
      "Loading image dataset/cut/affected/IM-0003-0031-2.jpg\n",
      "Loading image dataset/cut/affected/IM-0003-0032-1.jpg\n",
      "Loading image dataset/cut/affected/IM-0003-0032-2.jpg\n"
     ]
    },
    {
     "name": "stderr",
     "output_type": "stream",
     "text": [
      "Shape features are only available 3D input (for 2D input, use shape2D). Found 2D input\n",
      "GLCM is symmetrical, therefore Sum Average = 2 * Joint Average, only 1 needs to be calculated\n",
      "Shape features are only available 3D input (for 2D input, use shape2D). Found 2D input\n",
      "GLCM is symmetrical, therefore Sum Average = 2 * Joint Average, only 1 needs to be calculated\n",
      "Shape features are only available 3D input (for 2D input, use shape2D). Found 2D input\n",
      "GLCM is symmetrical, therefore Sum Average = 2 * Joint Average, only 1 needs to be calculated\n",
      "Shape features are only available 3D input (for 2D input, use shape2D). Found 2D input\n",
      "GLCM is symmetrical, therefore Sum Average = 2 * Joint Average, only 1 needs to be calculated\n",
      "Shape features are only available 3D input (for 2D input, use shape2D). Found 2D input\n",
      "GLCM is symmetrical, therefore Sum Average = 2 * Joint Average, only 1 needs to be calculated\n"
     ]
    },
    {
     "name": "stdout",
     "output_type": "stream",
     "text": [
      "Loading image dataset/cut/affected/IM-0003-0033-1.jpg\n",
      "Loading image dataset/cut/affected/IM-0003-0033-2.jpg\n",
      "Loading image dataset/cut/affected/IM-0005-0003-3-1.jpg\n",
      "Loading image dataset/cut/affected/IM-0005-0003-3-2.jpg\n",
      "Loading image dataset/cut/affected/IM-0005-0004-1-1.jpg\n"
     ]
    },
    {
     "name": "stderr",
     "output_type": "stream",
     "text": [
      "Shape features are only available 3D input (for 2D input, use shape2D). Found 2D input\n",
      "GLCM is symmetrical, therefore Sum Average = 2 * Joint Average, only 1 needs to be calculated\n",
      "Shape features are only available 3D input (for 2D input, use shape2D). Found 2D input\n",
      "GLCM is symmetrical, therefore Sum Average = 2 * Joint Average, only 1 needs to be calculated\n",
      "Shape features are only available 3D input (for 2D input, use shape2D). Found 2D input\n",
      "GLCM is symmetrical, therefore Sum Average = 2 * Joint Average, only 1 needs to be calculated\n",
      "Shape features are only available 3D input (for 2D input, use shape2D). Found 2D input\n",
      "GLCM is symmetrical, therefore Sum Average = 2 * Joint Average, only 1 needs to be calculated\n",
      "Shape features are only available 3D input (for 2D input, use shape2D). Found 2D input\n",
      "GLCM is symmetrical, therefore Sum Average = 2 * Joint Average, only 1 needs to be calculated\n"
     ]
    },
    {
     "name": "stdout",
     "output_type": "stream",
     "text": [
      "Loading image dataset/cut/affected/IM-0005-0004-1-2.jpg\n",
      "Loading image dataset/cut/affected/IM-0005-0004-3-1.jpg\n",
      "Loading image dataset/cut/affected/IM-0005-0004-3-2.jpg\n",
      "Loading image dataset/cut/affected/IM-0005-0005-1-1.jpg\n"
     ]
    },
    {
     "name": "stderr",
     "output_type": "stream",
     "text": [
      "Shape features are only available 3D input (for 2D input, use shape2D). Found 2D input\n",
      "GLCM is symmetrical, therefore Sum Average = 2 * Joint Average, only 1 needs to be calculated\n",
      "Shape features are only available 3D input (for 2D input, use shape2D). Found 2D input\n",
      "GLCM is symmetrical, therefore Sum Average = 2 * Joint Average, only 1 needs to be calculated\n",
      "Shape features are only available 3D input (for 2D input, use shape2D). Found 2D input\n",
      "GLCM is symmetrical, therefore Sum Average = 2 * Joint Average, only 1 needs to be calculated\n",
      "Shape features are only available 3D input (for 2D input, use shape2D). Found 2D input\n",
      "GLCM is symmetrical, therefore Sum Average = 2 * Joint Average, only 1 needs to be calculated\n"
     ]
    },
    {
     "name": "stdout",
     "output_type": "stream",
     "text": [
      "Loading image dataset/cut/affected/IM-0005-0005-1-2.jpg\n",
      "Loading image dataset/cut/affected/IM-0005-0005-3-1.jpg\n",
      "Loading image dataset/cut/affected/IM-0005-0005-3-2.jpg\n",
      "Loading image dataset/cut/affected/IM-0005-0006-1-1.jpg\n",
      "Loading image dataset/cut/affected/IM-0005-0006-1-2.jpg\n"
     ]
    },
    {
     "name": "stderr",
     "output_type": "stream",
     "text": [
      "Shape features are only available 3D input (for 2D input, use shape2D). Found 2D input\n",
      "GLCM is symmetrical, therefore Sum Average = 2 * Joint Average, only 1 needs to be calculated\n",
      "Shape features are only available 3D input (for 2D input, use shape2D). Found 2D input\n",
      "GLCM is symmetrical, therefore Sum Average = 2 * Joint Average, only 1 needs to be calculated\n",
      "Shape features are only available 3D input (for 2D input, use shape2D). Found 2D input\n",
      "GLCM is symmetrical, therefore Sum Average = 2 * Joint Average, only 1 needs to be calculated\n",
      "Shape features are only available 3D input (for 2D input, use shape2D). Found 2D input\n",
      "GLCM is symmetrical, therefore Sum Average = 2 * Joint Average, only 1 needs to be calculated\n",
      "Shape features are only available 3D input (for 2D input, use shape2D). Found 2D input\n",
      "GLCM is symmetrical, therefore Sum Average = 2 * Joint Average, only 1 needs to be calculated\n"
     ]
    },
    {
     "name": "stdout",
     "output_type": "stream",
     "text": [
      "Loading image dataset/cut/affected/IM-0005-0006-3-1.jpg\n",
      "Loading image dataset/cut/affected/IM-0005-0006-3-2.jpg\n",
      "Loading image dataset/cut/affected/IM-0005-0007-1-1.jpg\n",
      "Loading image dataset/cut/affected/IM-0005-0007-1-2.jpg\n",
      "Loading image dataset/cut/affected/IM-0005-0007-3-1.jpg\n"
     ]
    },
    {
     "name": "stderr",
     "output_type": "stream",
     "text": [
      "Shape features are only available 3D input (for 2D input, use shape2D). Found 2D input\n",
      "GLCM is symmetrical, therefore Sum Average = 2 * Joint Average, only 1 needs to be calculated\n",
      "Shape features are only available 3D input (for 2D input, use shape2D). Found 2D input\n",
      "GLCM is symmetrical, therefore Sum Average = 2 * Joint Average, only 1 needs to be calculated\n",
      "Shape features are only available 3D input (for 2D input, use shape2D). Found 2D input\n",
      "GLCM is symmetrical, therefore Sum Average = 2 * Joint Average, only 1 needs to be calculated\n",
      "Shape features are only available 3D input (for 2D input, use shape2D). Found 2D input\n",
      "GLCM is symmetrical, therefore Sum Average = 2 * Joint Average, only 1 needs to be calculated\n",
      "Shape features are only available 3D input (for 2D input, use shape2D). Found 2D input\n",
      "GLCM is symmetrical, therefore Sum Average = 2 * Joint Average, only 1 needs to be calculated\n"
     ]
    },
    {
     "name": "stdout",
     "output_type": "stream",
     "text": [
      "Loading image dataset/cut/affected/IM-0005-0007-3-2.jpg\n",
      "Loading image dataset/cut/affected/IM-0005-0008-1-1.jpg\n",
      "Loading image dataset/cut/affected/IM-0005-0008-1-2.jpg\n",
      "Loading image dataset/cut/affected/IM-0005-0008-3-1.jpg\n"
     ]
    },
    {
     "name": "stderr",
     "output_type": "stream",
     "text": [
      "Shape features are only available 3D input (for 2D input, use shape2D). Found 2D input\n",
      "GLCM is symmetrical, therefore Sum Average = 2 * Joint Average, only 1 needs to be calculated\n",
      "Shape features are only available 3D input (for 2D input, use shape2D). Found 2D input\n",
      "GLCM is symmetrical, therefore Sum Average = 2 * Joint Average, only 1 needs to be calculated\n",
      "Shape features are only available 3D input (for 2D input, use shape2D). Found 2D input\n",
      "GLCM is symmetrical, therefore Sum Average = 2 * Joint Average, only 1 needs to be calculated\n",
      "Shape features are only available 3D input (for 2D input, use shape2D). Found 2D input\n",
      "GLCM is symmetrical, therefore Sum Average = 2 * Joint Average, only 1 needs to be calculated\n"
     ]
    },
    {
     "name": "stdout",
     "output_type": "stream",
     "text": [
      "Loading image dataset/cut/affected/IM-0005-0008-3-2.jpg\n",
      "Loading image dataset/cut/affected/IM-0005-0009-1-1.jpg\n",
      "Loading image dataset/cut/affected/IM-0005-0009-1-2.jpg\n",
      "Loading image dataset/cut/affected/IM-0005-0009-3-1.jpg\n",
      "Loading image dataset/cut/affected/IM-0005-0009-3-2.jpg\n"
     ]
    },
    {
     "name": "stderr",
     "output_type": "stream",
     "text": [
      "Shape features are only available 3D input (for 2D input, use shape2D). Found 2D input\n",
      "GLCM is symmetrical, therefore Sum Average = 2 * Joint Average, only 1 needs to be calculated\n",
      "Shape features are only available 3D input (for 2D input, use shape2D). Found 2D input\n",
      "GLCM is symmetrical, therefore Sum Average = 2 * Joint Average, only 1 needs to be calculated\n",
      "Shape features are only available 3D input (for 2D input, use shape2D). Found 2D input\n",
      "GLCM is symmetrical, therefore Sum Average = 2 * Joint Average, only 1 needs to be calculated\n",
      "Shape features are only available 3D input (for 2D input, use shape2D). Found 2D input\n",
      "GLCM is symmetrical, therefore Sum Average = 2 * Joint Average, only 1 needs to be calculated\n"
     ]
    },
    {
     "name": "stdout",
     "output_type": "stream",
     "text": [
      "Loading image dataset/cut/affected/IM-0005-0010-1-1.jpg\n",
      "Loading image dataset/cut/affected/IM-0005-0010-1-2.jpg\n",
      "Loading image dataset/cut/affected/IM-0005-0010-3-1.jpg\n",
      "Loading image dataset/cut/affected/IM-0005-0010-3-2.jpg\n"
     ]
    },
    {
     "name": "stderr",
     "output_type": "stream",
     "text": [
      "Shape features are only available 3D input (for 2D input, use shape2D). Found 2D input\n",
      "GLCM is symmetrical, therefore Sum Average = 2 * Joint Average, only 1 needs to be calculated\n",
      "Shape features are only available 3D input (for 2D input, use shape2D). Found 2D input\n",
      "GLCM is symmetrical, therefore Sum Average = 2 * Joint Average, only 1 needs to be calculated\n",
      "Shape features are only available 3D input (for 2D input, use shape2D). Found 2D input\n",
      "GLCM is symmetrical, therefore Sum Average = 2 * Joint Average, only 1 needs to be calculated\n"
     ]
    },
    {
     "name": "stdout",
     "output_type": "stream",
     "text": [
      "Loading image dataset/cut/affected/IM-0005-0011-1-1.jpg\n",
      "Loading image dataset/cut/affected/IM-0005-0011-1-2.jpg\n"
     ]
    },
    {
     "name": "stderr",
     "output_type": "stream",
     "text": [
      "Shape features are only available 3D input (for 2D input, use shape2D). Found 2D input\n",
      "GLCM is symmetrical, therefore Sum Average = 2 * Joint Average, only 1 needs to be calculated\n",
      "Shape features are only available 3D input (for 2D input, use shape2D). Found 2D input\n",
      "GLCM is symmetrical, therefore Sum Average = 2 * Joint Average, only 1 needs to be calculated\n"
     ]
    },
    {
     "name": "stdout",
     "output_type": "stream",
     "text": [
      "Loading image dataset/cut/affected/IM-0005-0011-3-1.jpg\n",
      "Loading image dataset/cut/affected/IM-0005-0011-3-2.jpg\n",
      "Loading image dataset/cut/affected/IM-0005-0012-1-1.jpg\n"
     ]
    },
    {
     "name": "stderr",
     "output_type": "stream",
     "text": [
      "Shape features are only available 3D input (for 2D input, use shape2D). Found 2D input\n",
      "GLCM is symmetrical, therefore Sum Average = 2 * Joint Average, only 1 needs to be calculated\n",
      "Shape features are only available 3D input (for 2D input, use shape2D). Found 2D input\n",
      "GLCM is symmetrical, therefore Sum Average = 2 * Joint Average, only 1 needs to be calculated\n",
      "Shape features are only available 3D input (for 2D input, use shape2D). Found 2D input\n",
      "GLCM is symmetrical, therefore Sum Average = 2 * Joint Average, only 1 needs to be calculated\n",
      "Shape features are only available 3D input (for 2D input, use shape2D). Found 2D input\n",
      "GLCM is symmetrical, therefore Sum Average = 2 * Joint Average, only 1 needs to be calculated\n"
     ]
    },
    {
     "name": "stdout",
     "output_type": "stream",
     "text": [
      "Loading image dataset/cut/affected/IM-0005-0012-1-2.jpg\n",
      "Loading image dataset/cut/affected/IM-0005-0012-3-1.jpg\n",
      "Loading image dataset/cut/affected/IM-0005-0012-3-2.jpg\n"
     ]
    },
    {
     "name": "stderr",
     "output_type": "stream",
     "text": [
      "Shape features are only available 3D input (for 2D input, use shape2D). Found 2D input\n",
      "GLCM is symmetrical, therefore Sum Average = 2 * Joint Average, only 1 needs to be calculated\n",
      "Shape features are only available 3D input (for 2D input, use shape2D). Found 2D input\n",
      "GLCM is symmetrical, therefore Sum Average = 2 * Joint Average, only 1 needs to be calculated\n"
     ]
    },
    {
     "name": "stdout",
     "output_type": "stream",
     "text": [
      "Loading image dataset/cut/affected/IM-0005-0013-1-1.jpg\n",
      "Loading image dataset/cut/affected/IM-0005-0013-1-2.jpg\n",
      "Loading image dataset/cut/affected/IM-0005-0013-3-1.jpg\n"
     ]
    },
    {
     "name": "stderr",
     "output_type": "stream",
     "text": [
      "Shape features are only available 3D input (for 2D input, use shape2D). Found 2D input\n",
      "GLCM is symmetrical, therefore Sum Average = 2 * Joint Average, only 1 needs to be calculated\n",
      "Shape features are only available 3D input (for 2D input, use shape2D). Found 2D input\n",
      "GLCM is symmetrical, therefore Sum Average = 2 * Joint Average, only 1 needs to be calculated\n",
      "Shape features are only available 3D input (for 2D input, use shape2D). Found 2D input\n",
      "GLCM is symmetrical, therefore Sum Average = 2 * Joint Average, only 1 needs to be calculated\n",
      "Shape features are only available 3D input (for 2D input, use shape2D). Found 2D input\n",
      "GLCM is symmetrical, therefore Sum Average = 2 * Joint Average, only 1 needs to be calculated\n",
      "Shape features are only available 3D input (for 2D input, use shape2D). Found 2D input\n",
      "GLCM is symmetrical, therefore Sum Average = 2 * Joint Average, only 1 needs to be calculated\n"
     ]
    },
    {
     "name": "stdout",
     "output_type": "stream",
     "text": [
      "Loading image dataset/cut/affected/IM-0005-0013-3-2.jpg\n",
      "Loading image dataset/cut/affected/IM-0005-0014-1-1.jpg\n",
      "Loading image dataset/cut/affected/IM-0005-0014-1-2.jpg\n",
      "Loading image dataset/cut/affected/IM-0005-0014-3-1.jpg\n",
      "Loading image dataset/cut/affected/IM-0005-0014-3-2.jpg\n"
     ]
    },
    {
     "name": "stderr",
     "output_type": "stream",
     "text": [
      "Shape features are only available 3D input (for 2D input, use shape2D). Found 2D input\n",
      "GLCM is symmetrical, therefore Sum Average = 2 * Joint Average, only 1 needs to be calculated\n",
      "Shape features are only available 3D input (for 2D input, use shape2D). Found 2D input\n",
      "GLCM is symmetrical, therefore Sum Average = 2 * Joint Average, only 1 needs to be calculated\n",
      "Shape features are only available 3D input (for 2D input, use shape2D). Found 2D input\n",
      "GLCM is symmetrical, therefore Sum Average = 2 * Joint Average, only 1 needs to be calculated\n",
      "Shape features are only available 3D input (for 2D input, use shape2D). Found 2D input\n",
      "GLCM is symmetrical, therefore Sum Average = 2 * Joint Average, only 1 needs to be calculated\n",
      "Shape features are only available 3D input (for 2D input, use shape2D). Found 2D input\n",
      "GLCM is symmetrical, therefore Sum Average = 2 * Joint Average, only 1 needs to be calculated\n",
      "Shape features are only available 3D input (for 2D input, use shape2D). Found 2D input\n",
      "GLCM is symmetrical, therefore Sum Average = 2 * Joint Average, only 1 needs to be calculated\n"
     ]
    },
    {
     "name": "stdout",
     "output_type": "stream",
     "text": [
      "Loading image dataset/cut/affected/IM-0005-0015-1-1.jpg\n",
      "Loading image dataset/cut/affected/IM-0005-0015-1-2.jpg\n",
      "Loading image dataset/cut/affected/IM-0005-0015-3-1.jpg\n",
      "Loading image dataset/cut/affected/IM-0005-0015-3-2.jpg\n",
      "Loading image dataset/cut/affected/IM-0005-0016-1-1.jpg\n"
     ]
    },
    {
     "name": "stderr",
     "output_type": "stream",
     "text": [
      "Shape features are only available 3D input (for 2D input, use shape2D). Found 2D input\n",
      "GLCM is symmetrical, therefore Sum Average = 2 * Joint Average, only 1 needs to be calculated\n",
      "Shape features are only available 3D input (for 2D input, use shape2D). Found 2D input\n",
      "GLCM is symmetrical, therefore Sum Average = 2 * Joint Average, only 1 needs to be calculated\n",
      "Shape features are only available 3D input (for 2D input, use shape2D). Found 2D input\n",
      "GLCM is symmetrical, therefore Sum Average = 2 * Joint Average, only 1 needs to be calculated\n",
      "Shape features are only available 3D input (for 2D input, use shape2D). Found 2D input\n",
      "GLCM is symmetrical, therefore Sum Average = 2 * Joint Average, only 1 needs to be calculated\n",
      "Shape features are only available 3D input (for 2D input, use shape2D). Found 2D input\n",
      "GLCM is symmetrical, therefore Sum Average = 2 * Joint Average, only 1 needs to be calculated\n"
     ]
    },
    {
     "name": "stdout",
     "output_type": "stream",
     "text": [
      "Loading image dataset/cut/affected/IM-0005-0016-1-2.jpg\n",
      "Loading image dataset/cut/affected/IM-0005-0016-3-1.jpg\n",
      "Loading image dataset/cut/affected/IM-0005-0016-3-2.jpg\n",
      "Loading image dataset/cut/affected/IM-0005-0017-1-1.jpg\n",
      "Loading image dataset/cut/affected/IM-0005-0017-1-2.jpg\n"
     ]
    },
    {
     "name": "stderr",
     "output_type": "stream",
     "text": [
      "Shape features are only available 3D input (for 2D input, use shape2D). Found 2D input\n",
      "GLCM is symmetrical, therefore Sum Average = 2 * Joint Average, only 1 needs to be calculated\n",
      "Shape features are only available 3D input (for 2D input, use shape2D). Found 2D input\n",
      "GLCM is symmetrical, therefore Sum Average = 2 * Joint Average, only 1 needs to be calculated\n",
      "Shape features are only available 3D input (for 2D input, use shape2D). Found 2D input\n",
      "GLCM is symmetrical, therefore Sum Average = 2 * Joint Average, only 1 needs to be calculated\n",
      "Shape features are only available 3D input (for 2D input, use shape2D). Found 2D input\n",
      "GLCM is symmetrical, therefore Sum Average = 2 * Joint Average, only 1 needs to be calculated\n",
      "Shape features are only available 3D input (for 2D input, use shape2D). Found 2D input\n",
      "GLCM is symmetrical, therefore Sum Average = 2 * Joint Average, only 1 needs to be calculated\n"
     ]
    },
    {
     "name": "stdout",
     "output_type": "stream",
     "text": [
      "Loading image dataset/cut/affected/IM-0005-0017-3-1.jpg\n",
      "Loading image dataset/cut/affected/IM-0005-0017-3-2.jpg\n",
      "Loading image dataset/cut/affected/IM-0005-0018-1-1.jpg\n",
      "Loading image dataset/cut/affected/IM-0005-0018-1-2.jpg\n",
      "Loading image dataset/cut/affected/IM-0005-0018-3-1.jpg\n",
      "Loading image dataset/cut/affected/IM-0005-0018-3-2.jpg\n"
     ]
    },
    {
     "name": "stderr",
     "output_type": "stream",
     "text": [
      "Shape features are only available 3D input (for 2D input, use shape2D). Found 2D input\n",
      "GLCM is symmetrical, therefore Sum Average = 2 * Joint Average, only 1 needs to be calculated\n",
      "Shape features are only available 3D input (for 2D input, use shape2D). Found 2D input\n",
      "GLCM is symmetrical, therefore Sum Average = 2 * Joint Average, only 1 needs to be calculated\n",
      "Shape features are only available 3D input (for 2D input, use shape2D). Found 2D input\n",
      "GLCM is symmetrical, therefore Sum Average = 2 * Joint Average, only 1 needs to be calculated\n",
      "Shape features are only available 3D input (for 2D input, use shape2D). Found 2D input\n",
      "GLCM is symmetrical, therefore Sum Average = 2 * Joint Average, only 1 needs to be calculated\n",
      "Shape features are only available 3D input (for 2D input, use shape2D). Found 2D input\n",
      "GLCM is symmetrical, therefore Sum Average = 2 * Joint Average, only 1 needs to be calculated\n",
      "Shape features are only available 3D input (for 2D input, use shape2D). Found 2D input\n"
     ]
    },
    {
     "name": "stdout",
     "output_type": "stream",
     "text": [
      "Loading image dataset/cut/affected/IM-0005-0019-1-1.jpg\n",
      "Loading image dataset/cut/affected/IM-0005-0019-1-2.jpg\n",
      "Loading image dataset/cut/affected/IM-0005-0019-3-1.jpg\n",
      "Loading image dataset/cut/affected/IM-0005-0019-3-2.jpg\n",
      "Loading image dataset/cut/affected/IM-0005-0020-1-1.jpg\n"
     ]
    },
    {
     "name": "stderr",
     "output_type": "stream",
     "text": [
      "GLCM is symmetrical, therefore Sum Average = 2 * Joint Average, only 1 needs to be calculated\n",
      "Shape features are only available 3D input (for 2D input, use shape2D). Found 2D input\n",
      "GLCM is symmetrical, therefore Sum Average = 2 * Joint Average, only 1 needs to be calculated\n",
      "Shape features are only available 3D input (for 2D input, use shape2D). Found 2D input\n",
      "GLCM is symmetrical, therefore Sum Average = 2 * Joint Average, only 1 needs to be calculated\n",
      "Shape features are only available 3D input (for 2D input, use shape2D). Found 2D input\n",
      "GLCM is symmetrical, therefore Sum Average = 2 * Joint Average, only 1 needs to be calculated\n",
      "Shape features are only available 3D input (for 2D input, use shape2D). Found 2D input\n",
      "GLCM is symmetrical, therefore Sum Average = 2 * Joint Average, only 1 needs to be calculated\n"
     ]
    },
    {
     "name": "stdout",
     "output_type": "stream",
     "text": [
      "Loading image dataset/cut/affected/IM-0005-0020-1-2.jpg\n",
      "Loading image dataset/cut/affected/IM-0005-0020-3-1.jpg\n",
      "Loading image dataset/cut/affected/IM-0005-0020-3-2.jpg\n",
      "Loading image dataset/cut/affected/IM-0005-0021-1-1.jpg\n"
     ]
    },
    {
     "name": "stderr",
     "output_type": "stream",
     "text": [
      "Shape features are only available 3D input (for 2D input, use shape2D). Found 2D input\n",
      "GLCM is symmetrical, therefore Sum Average = 2 * Joint Average, only 1 needs to be calculated\n",
      "Shape features are only available 3D input (for 2D input, use shape2D). Found 2D input\n",
      "GLCM is symmetrical, therefore Sum Average = 2 * Joint Average, only 1 needs to be calculated\n",
      "Shape features are only available 3D input (for 2D input, use shape2D). Found 2D input\n",
      "GLCM is symmetrical, therefore Sum Average = 2 * Joint Average, only 1 needs to be calculated\n",
      "Shape features are only available 3D input (for 2D input, use shape2D). Found 2D input\n",
      "GLCM is symmetrical, therefore Sum Average = 2 * Joint Average, only 1 needs to be calculated\n"
     ]
    },
    {
     "name": "stdout",
     "output_type": "stream",
     "text": [
      "Loading image dataset/cut/affected/IM-0005-0021-1-2.jpg\n",
      "Loading image dataset/cut/affected/IM-0005-0021-3-1.jpg\n",
      "Loading image dataset/cut/affected/IM-0005-0021-3-2.jpg\n",
      "Loading image dataset/cut/affected/IM-0005-0022-1-1.jpg\n",
      "Loading image dataset/cut/affected/IM-0005-0022-1-2.jpg\n"
     ]
    },
    {
     "name": "stderr",
     "output_type": "stream",
     "text": [
      "Shape features are only available 3D input (for 2D input, use shape2D). Found 2D input\n",
      "GLCM is symmetrical, therefore Sum Average = 2 * Joint Average, only 1 needs to be calculated\n",
      "Shape features are only available 3D input (for 2D input, use shape2D). Found 2D input\n",
      "GLCM is symmetrical, therefore Sum Average = 2 * Joint Average, only 1 needs to be calculated\n",
      "Shape features are only available 3D input (for 2D input, use shape2D). Found 2D input\n",
      "GLCM is symmetrical, therefore Sum Average = 2 * Joint Average, only 1 needs to be calculated\n",
      "Shape features are only available 3D input (for 2D input, use shape2D). Found 2D input\n",
      "GLCM is symmetrical, therefore Sum Average = 2 * Joint Average, only 1 needs to be calculated\n",
      "Shape features are only available 3D input (for 2D input, use shape2D). Found 2D input\n",
      "GLCM is symmetrical, therefore Sum Average = 2 * Joint Average, only 1 needs to be calculated\n",
      "Shape features are only available 3D input (for 2D input, use shape2D). Found 2D input\n"
     ]
    },
    {
     "name": "stdout",
     "output_type": "stream",
     "text": [
      "Loading image dataset/cut/affected/IM-0005-0022-3-1.jpg\n",
      "Loading image dataset/cut/affected/IM-0005-0022-3-2.jpg\n",
      "Loading image dataset/cut/affected/IM-0005-0023-1-1.jpg\n",
      "Loading image dataset/cut/affected/IM-0005-0023-1-2.jpg\n",
      "Loading image dataset/cut/affected/IM-0005-0023-3-1.jpg\n"
     ]
    },
    {
     "name": "stderr",
     "output_type": "stream",
     "text": [
      "GLCM is symmetrical, therefore Sum Average = 2 * Joint Average, only 1 needs to be calculated\n",
      "Shape features are only available 3D input (for 2D input, use shape2D). Found 2D input\n",
      "GLCM is symmetrical, therefore Sum Average = 2 * Joint Average, only 1 needs to be calculated\n",
      "Shape features are only available 3D input (for 2D input, use shape2D). Found 2D input\n",
      "GLCM is symmetrical, therefore Sum Average = 2 * Joint Average, only 1 needs to be calculated\n",
      "Shape features are only available 3D input (for 2D input, use shape2D). Found 2D input\n",
      "GLCM is symmetrical, therefore Sum Average = 2 * Joint Average, only 1 needs to be calculated\n",
      "Shape features are only available 3D input (for 2D input, use shape2D). Found 2D input\n",
      "GLCM is symmetrical, therefore Sum Average = 2 * Joint Average, only 1 needs to be calculated\n"
     ]
    },
    {
     "name": "stdout",
     "output_type": "stream",
     "text": [
      "Loading image dataset/cut/affected/IM-0005-0023-3-2.jpg\n",
      "Loading image dataset/cut/affected/IM-0005-0024-1-1.jpg\n",
      "Loading image dataset/cut/affected/IM-0005-0024-1-2.jpg\n",
      "Loading image dataset/cut/affected/IM-0005-0024-3-1.jpg\n"
     ]
    },
    {
     "name": "stderr",
     "output_type": "stream",
     "text": [
      "Shape features are only available 3D input (for 2D input, use shape2D). Found 2D input\n",
      "GLCM is symmetrical, therefore Sum Average = 2 * Joint Average, only 1 needs to be calculated\n",
      "Shape features are only available 3D input (for 2D input, use shape2D). Found 2D input\n",
      "GLCM is symmetrical, therefore Sum Average = 2 * Joint Average, only 1 needs to be calculated\n",
      "Shape features are only available 3D input (for 2D input, use shape2D). Found 2D input\n"
     ]
    },
    {
     "name": "stdout",
     "output_type": "stream",
     "text": [
      "Loading image dataset/cut/affected/IM-0005-0024-3-2.jpg\n",
      "Loading image dataset/cut/affected/IM-0005-0025-1-1.jpg\n",
      "Loading image dataset/cut/affected/IM-0005-0025-1-2.jpg\n"
     ]
    },
    {
     "name": "stderr",
     "output_type": "stream",
     "text": [
      "GLCM is symmetrical, therefore Sum Average = 2 * Joint Average, only 1 needs to be calculated\n",
      "Shape features are only available 3D input (for 2D input, use shape2D). Found 2D input\n",
      "GLCM is symmetrical, therefore Sum Average = 2 * Joint Average, only 1 needs to be calculated\n",
      "Shape features are only available 3D input (for 2D input, use shape2D). Found 2D input\n",
      "GLCM is symmetrical, therefore Sum Average = 2 * Joint Average, only 1 needs to be calculated\n",
      "Shape features are only available 3D input (for 2D input, use shape2D). Found 2D input\n",
      "GLCM is symmetrical, therefore Sum Average = 2 * Joint Average, only 1 needs to be calculated\n"
     ]
    },
    {
     "name": "stdout",
     "output_type": "stream",
     "text": [
      "Loading image dataset/cut/affected/IM-0005-0025-3-1.jpg\n",
      "Loading image dataset/cut/affected/IM-0005-0025-3-2.jpg\n",
      "Loading image dataset/cut/affected/IM-0005-0026-1-1.jpg\n"
     ]
    },
    {
     "name": "stderr",
     "output_type": "stream",
     "text": [
      "Shape features are only available 3D input (for 2D input, use shape2D). Found 2D input\n",
      "GLCM is symmetrical, therefore Sum Average = 2 * Joint Average, only 1 needs to be calculated\n",
      "Shape features are only available 3D input (for 2D input, use shape2D). Found 2D input\n",
      "GLCM is symmetrical, therefore Sum Average = 2 * Joint Average, only 1 needs to be calculated\n",
      "Shape features are only available 3D input (for 2D input, use shape2D). Found 2D input\n",
      "GLCM is symmetrical, therefore Sum Average = 2 * Joint Average, only 1 needs to be calculated\n"
     ]
    },
    {
     "name": "stdout",
     "output_type": "stream",
     "text": [
      "Loading image dataset/cut/affected/IM-0005-0026-1-2.jpg\n",
      "Loading image dataset/cut/affected/IM-0005-0026-3-1.jpg\n",
      "Loading image dataset/cut/affected/IM-0005-0026-3-2.jpg\n",
      "Loading image dataset/cut/affected/IM-0005-0027-1-1.jpg\n"
     ]
    },
    {
     "name": "stderr",
     "output_type": "stream",
     "text": [
      "Shape features are only available 3D input (for 2D input, use shape2D). Found 2D input\n",
      "GLCM is symmetrical, therefore Sum Average = 2 * Joint Average, only 1 needs to be calculated\n",
      "Shape features are only available 3D input (for 2D input, use shape2D). Found 2D input\n",
      "GLCM is symmetrical, therefore Sum Average = 2 * Joint Average, only 1 needs to be calculated\n",
      "Shape features are only available 3D input (for 2D input, use shape2D). Found 2D input\n",
      "GLCM is symmetrical, therefore Sum Average = 2 * Joint Average, only 1 needs to be calculated\n",
      "Shape features are only available 3D input (for 2D input, use shape2D). Found 2D input\n",
      "GLCM is symmetrical, therefore Sum Average = 2 * Joint Average, only 1 needs to be calculated\n"
     ]
    },
    {
     "name": "stdout",
     "output_type": "stream",
     "text": [
      "Loading image dataset/cut/affected/IM-0005-0027-1-2.jpg\n",
      "Loading image dataset/cut/affected/IM-0005-0027-3-1.jpg\n",
      "Loading image dataset/cut/affected/IM-0005-0027-3-2.jpg\n",
      "Loading image dataset/cut/affected/IM-0005-0028-1-1.jpg\n"
     ]
    },
    {
     "name": "stderr",
     "output_type": "stream",
     "text": [
      "Shape features are only available 3D input (for 2D input, use shape2D). Found 2D input\n",
      "GLCM is symmetrical, therefore Sum Average = 2 * Joint Average, only 1 needs to be calculated\n",
      "Shape features are only available 3D input (for 2D input, use shape2D). Found 2D input\n",
      "GLCM is symmetrical, therefore Sum Average = 2 * Joint Average, only 1 needs to be calculated\n",
      "Shape features are only available 3D input (for 2D input, use shape2D). Found 2D input\n",
      "GLCM is symmetrical, therefore Sum Average = 2 * Joint Average, only 1 needs to be calculated\n",
      "Shape features are only available 3D input (for 2D input, use shape2D). Found 2D input\n",
      "GLCM is symmetrical, therefore Sum Average = 2 * Joint Average, only 1 needs to be calculated\n",
      "Shape features are only available 3D input (for 2D input, use shape2D). Found 2D input\n",
      "GLCM is symmetrical, therefore Sum Average = 2 * Joint Average, only 1 needs to be calculated\n",
      "Shape features are only available 3D input (for 2D input, use shape2D). Found 2D input\n",
      "GLCM is symmetrical, therefore Sum Average = 2 * Joint Average, only 1 needs to be calculated\n"
     ]
    },
    {
     "name": "stdout",
     "output_type": "stream",
     "text": [
      "Loading image dataset/cut/affected/IM-0005-0028-1-2.jpg\n",
      "Loading image dataset/cut/affected/IM-0005-0029-1-1.jpg\n",
      "Loading image dataset/cut/affected/IM-0005-0029-1-2.jpg\n",
      "Loading image dataset/cut/affected/IM-0009-0004-1.jpg\n",
      "Loading image dataset/cut/affected/IM-0009-0004-2-1.jpg\n"
     ]
    },
    {
     "name": "stderr",
     "output_type": "stream",
     "text": [
      "Shape features are only available 3D input (for 2D input, use shape2D). Found 2D input\n",
      "GLCM is symmetrical, therefore Sum Average = 2 * Joint Average, only 1 needs to be calculated\n",
      "Shape features are only available 3D input (for 2D input, use shape2D). Found 2D input\n",
      "GLCM is symmetrical, therefore Sum Average = 2 * Joint Average, only 1 needs to be calculated\n",
      "Shape features are only available 3D input (for 2D input, use shape2D). Found 2D input\n",
      "GLCM is symmetrical, therefore Sum Average = 2 * Joint Average, only 1 needs to be calculated\n",
      "Shape features are only available 3D input (for 2D input, use shape2D). Found 2D input\n",
      "GLCM is symmetrical, therefore Sum Average = 2 * Joint Average, only 1 needs to be calculated\n",
      "Shape features are only available 3D input (for 2D input, use shape2D). Found 2D input\n",
      "GLCM is symmetrical, therefore Sum Average = 2 * Joint Average, only 1 needs to be calculated\n",
      "Shape features are only available 3D input (for 2D input, use shape2D). Found 2D input\n",
      "GLCM is symmetrical, therefore Sum Average = 2 * Joint Average, only 1 needs to be calculated\n",
      "Shape features are only available 3D input (for 2D input, use shape2D). Found 2D input\n",
      "GLCM is symmetrical, therefore Sum Average = 2 * Joint Average, only 1 needs to be calculated\n",
      "Shape features are only available 3D input (for 2D input, use shape2D). Found 2D input\n",
      "GLCM is symmetrical, therefore Sum Average = 2 * Joint Average, only 1 needs to be calculated\n"
     ]
    },
    {
     "name": "stdout",
     "output_type": "stream",
     "text": [
      "Loading image dataset/cut/affected/IM-0009-0004-2-2.jpg\n",
      "Loading image dataset/cut/affected/IM-0009-0004-2.jpg\n",
      "Loading image dataset/cut/affected/IM-0009-0004-5-1.jpg\n",
      "Loading image dataset/cut/affected/IM-0009-0004-5-2.jpg\n",
      "Loading image dataset/cut/affected/IM-0009-0005-1.jpg\n",
      "Loading image dataset/cut/affected/IM-0009-0005-2-1.jpg\n",
      "Loading image dataset/cut/affected/IM-0009-0005-2-2.jpg\n",
      "Loading image dataset/cut/affected/IM-0009-0005-2.jpg\n",
      "Loading image dataset/cut/affected/IM-0009-0005-5-1.jpg\n"
     ]
    },
    {
     "name": "stderr",
     "output_type": "stream",
     "text": [
      "Shape features are only available 3D input (for 2D input, use shape2D). Found 2D input\n",
      "GLCM is symmetrical, therefore Sum Average = 2 * Joint Average, only 1 needs to be calculated\n",
      "Shape features are only available 3D input (for 2D input, use shape2D). Found 2D input\n",
      "GLCM is symmetrical, therefore Sum Average = 2 * Joint Average, only 1 needs to be calculated\n",
      "Shape features are only available 3D input (for 2D input, use shape2D). Found 2D input\n",
      "GLCM is symmetrical, therefore Sum Average = 2 * Joint Average, only 1 needs to be calculated\n",
      "Shape features are only available 3D input (for 2D input, use shape2D). Found 2D input\n",
      "GLCM is symmetrical, therefore Sum Average = 2 * Joint Average, only 1 needs to be calculated\n",
      "Shape features are only available 3D input (for 2D input, use shape2D). Found 2D input\n",
      "GLCM is symmetrical, therefore Sum Average = 2 * Joint Average, only 1 needs to be calculated\n",
      "Shape features are only available 3D input (for 2D input, use shape2D). Found 2D input\n",
      "GLCM is symmetrical, therefore Sum Average = 2 * Joint Average, only 1 needs to be calculated\n",
      "Shape features are only available 3D input (for 2D input, use shape2D). Found 2D input\n",
      "GLCM is symmetrical, therefore Sum Average = 2 * Joint Average, only 1 needs to be calculated\n",
      "Shape features are only available 3D input (for 2D input, use shape2D). Found 2D input\n",
      "GLCM is symmetrical, therefore Sum Average = 2 * Joint Average, only 1 needs to be calculated\n",
      "Shape features are only available 3D input (for 2D input, use shape2D). Found 2D input\n",
      "GLCM is symmetrical, therefore Sum Average = 2 * Joint Average, only 1 needs to be calculated\n",
      "Shape features are only available 3D input (for 2D input, use shape2D). Found 2D input\n",
      "GLCM is symmetrical, therefore Sum Average = 2 * Joint Average, only 1 needs to be calculated\n"
     ]
    },
    {
     "name": "stdout",
     "output_type": "stream",
     "text": [
      "Loading image dataset/cut/affected/IM-0009-0005-5-2.jpg\n",
      "Loading image dataset/cut/affected/IM-0009-0006-1.jpg\n",
      "Loading image dataset/cut/affected/IM-0009-0006-2-1.jpg\n",
      "Loading image dataset/cut/affected/IM-0009-0006-2-2.jpg\n",
      "Loading image dataset/cut/affected/IM-0009-0006-2.jpg\n",
      "Loading image dataset/cut/affected/IM-0009-0006-5-1.jpg\n",
      "Loading image dataset/cut/affected/IM-0009-0006-5-2.jpg\n",
      "Loading image dataset/cut/affected/IM-0009-0007-1.jpg\n",
      "Loading image dataset/cut/affected/IM-0009-0007-2-1.jpg\n"
     ]
    },
    {
     "name": "stderr",
     "output_type": "stream",
     "text": [
      "Shape features are only available 3D input (for 2D input, use shape2D). Found 2D input\n",
      "GLCM is symmetrical, therefore Sum Average = 2 * Joint Average, only 1 needs to be calculated\n",
      "Shape features are only available 3D input (for 2D input, use shape2D). Found 2D input\n",
      "GLCM is symmetrical, therefore Sum Average = 2 * Joint Average, only 1 needs to be calculated\n",
      "Shape features are only available 3D input (for 2D input, use shape2D). Found 2D input\n",
      "GLCM is symmetrical, therefore Sum Average = 2 * Joint Average, only 1 needs to be calculated\n",
      "Shape features are only available 3D input (for 2D input, use shape2D). Found 2D input\n",
      "GLCM is symmetrical, therefore Sum Average = 2 * Joint Average, only 1 needs to be calculated\n",
      "Shape features are only available 3D input (for 2D input, use shape2D). Found 2D input\n",
      "GLCM is symmetrical, therefore Sum Average = 2 * Joint Average, only 1 needs to be calculated\n",
      "Shape features are only available 3D input (for 2D input, use shape2D). Found 2D input\n",
      "GLCM is symmetrical, therefore Sum Average = 2 * Joint Average, only 1 needs to be calculated\n",
      "Shape features are only available 3D input (for 2D input, use shape2D). Found 2D input\n",
      "GLCM is symmetrical, therefore Sum Average = 2 * Joint Average, only 1 needs to be calculated\n",
      "Shape features are only available 3D input (for 2D input, use shape2D). Found 2D input\n",
      "GLCM is symmetrical, therefore Sum Average = 2 * Joint Average, only 1 needs to be calculated\n"
     ]
    },
    {
     "name": "stdout",
     "output_type": "stream",
     "text": [
      "Loading image dataset/cut/affected/IM-0009-0007-2-2.jpg\n",
      "Loading image dataset/cut/affected/IM-0009-0007-2.jpg\n",
      "Loading image dataset/cut/affected/IM-0009-0007-5-1.jpg\n",
      "Loading image dataset/cut/affected/IM-0009-0007-5-2.jpg\n",
      "Loading image dataset/cut/affected/IM-0009-0008-1.jpg\n",
      "Loading image dataset/cut/affected/IM-0009-0008-2-1.jpg\n",
      "Loading image dataset/cut/affected/IM-0009-0008-2-2.jpg\n",
      "Loading image dataset/cut/affected/IM-0009-0008-2.jpg\n"
     ]
    },
    {
     "name": "stderr",
     "output_type": "stream",
     "text": [
      "Shape features are only available 3D input (for 2D input, use shape2D). Found 2D input\n",
      "GLCM is symmetrical, therefore Sum Average = 2 * Joint Average, only 1 needs to be calculated\n",
      "Shape features are only available 3D input (for 2D input, use shape2D). Found 2D input\n",
      "GLCM is symmetrical, therefore Sum Average = 2 * Joint Average, only 1 needs to be calculated\n",
      "Shape features are only available 3D input (for 2D input, use shape2D). Found 2D input\n",
      "GLCM is symmetrical, therefore Sum Average = 2 * Joint Average, only 1 needs to be calculated\n",
      "Shape features are only available 3D input (for 2D input, use shape2D). Found 2D input\n",
      "GLCM is symmetrical, therefore Sum Average = 2 * Joint Average, only 1 needs to be calculated\n",
      "Shape features are only available 3D input (for 2D input, use shape2D). Found 2D input\n",
      "GLCM is symmetrical, therefore Sum Average = 2 * Joint Average, only 1 needs to be calculated\n",
      "Shape features are only available 3D input (for 2D input, use shape2D). Found 2D input\n",
      "GLCM is symmetrical, therefore Sum Average = 2 * Joint Average, only 1 needs to be calculated\n",
      "Shape features are only available 3D input (for 2D input, use shape2D). Found 2D input\n",
      "GLCM is symmetrical, therefore Sum Average = 2 * Joint Average, only 1 needs to be calculated\n",
      "Shape features are only available 3D input (for 2D input, use shape2D). Found 2D input\n",
      "GLCM is symmetrical, therefore Sum Average = 2 * Joint Average, only 1 needs to be calculated\n"
     ]
    },
    {
     "name": "stdout",
     "output_type": "stream",
     "text": [
      "Loading image dataset/cut/affected/IM-0009-0008-5-1.jpg\n",
      "Loading image dataset/cut/affected/IM-0009-0008-5-2.jpg\n",
      "Loading image dataset/cut/affected/IM-0009-0009-1.jpg\n",
      "Loading image dataset/cut/affected/IM-0009-0009-2-1.jpg\n",
      "Loading image dataset/cut/affected/IM-0009-0009-2-2.jpg\n",
      "Loading image dataset/cut/affected/IM-0009-0009-2.jpg\n",
      "Loading image dataset/cut/affected/IM-0009-0009-5-1.jpg\n",
      "Loading image dataset/cut/affected/IM-0009-0009-5-2.jpg\n"
     ]
    },
    {
     "name": "stderr",
     "output_type": "stream",
     "text": [
      "Shape features are only available 3D input (for 2D input, use shape2D). Found 2D input\n",
      "GLCM is symmetrical, therefore Sum Average = 2 * Joint Average, only 1 needs to be calculated\n",
      "Shape features are only available 3D input (for 2D input, use shape2D). Found 2D input\n",
      "GLCM is symmetrical, therefore Sum Average = 2 * Joint Average, only 1 needs to be calculated\n",
      "Shape features are only available 3D input (for 2D input, use shape2D). Found 2D input\n",
      "GLCM is symmetrical, therefore Sum Average = 2 * Joint Average, only 1 needs to be calculated\n",
      "Shape features are only available 3D input (for 2D input, use shape2D). Found 2D input\n",
      "GLCM is symmetrical, therefore Sum Average = 2 * Joint Average, only 1 needs to be calculated\n",
      "Shape features are only available 3D input (for 2D input, use shape2D). Found 2D input\n",
      "GLCM is symmetrical, therefore Sum Average = 2 * Joint Average, only 1 needs to be calculated\n",
      "Shape features are only available 3D input (for 2D input, use shape2D). Found 2D input\n",
      "GLCM is symmetrical, therefore Sum Average = 2 * Joint Average, only 1 needs to be calculated\n"
     ]
    },
    {
     "name": "stdout",
     "output_type": "stream",
     "text": [
      "Loading image dataset/cut/affected/IM-0009-0010-1.jpg\n",
      "Loading image dataset/cut/affected/IM-0009-0010-2-1.jpg\n",
      "Loading image dataset/cut/affected/IM-0009-0010-2-2.jpg\n",
      "Loading image dataset/cut/affected/IM-0009-0010-2.jpg\n",
      "Loading image dataset/cut/affected/IM-0009-0010-5-1.jpg\n",
      "Loading image dataset/cut/affected/IM-0009-0010-5-2.jpg\n",
      "Loading image dataset/cut/affected/IM-0009-0011-1.jpg\n"
     ]
    },
    {
     "name": "stderr",
     "output_type": "stream",
     "text": [
      "Shape features are only available 3D input (for 2D input, use shape2D). Found 2D input\n",
      "GLCM is symmetrical, therefore Sum Average = 2 * Joint Average, only 1 needs to be calculated\n",
      "Shape features are only available 3D input (for 2D input, use shape2D). Found 2D input\n",
      "GLCM is symmetrical, therefore Sum Average = 2 * Joint Average, only 1 needs to be calculated\n",
      "Shape features are only available 3D input (for 2D input, use shape2D). Found 2D input\n",
      "GLCM is symmetrical, therefore Sum Average = 2 * Joint Average, only 1 needs to be calculated\n",
      "Shape features are only available 3D input (for 2D input, use shape2D). Found 2D input\n",
      "GLCM is symmetrical, therefore Sum Average = 2 * Joint Average, only 1 needs to be calculated\n",
      "Shape features are only available 3D input (for 2D input, use shape2D). Found 2D input\n",
      "GLCM is symmetrical, therefore Sum Average = 2 * Joint Average, only 1 needs to be calculated\n",
      "Shape features are only available 3D input (for 2D input, use shape2D). Found 2D input\n",
      "GLCM is symmetrical, therefore Sum Average = 2 * Joint Average, only 1 needs to be calculated\n",
      "Shape features are only available 3D input (for 2D input, use shape2D). Found 2D input\n",
      "GLCM is symmetrical, therefore Sum Average = 2 * Joint Average, only 1 needs to be calculated\n",
      "Shape features are only available 3D input (for 2D input, use shape2D). Found 2D input\n",
      "GLCM is symmetrical, therefore Sum Average = 2 * Joint Average, only 1 needs to be calculated\n"
     ]
    },
    {
     "name": "stdout",
     "output_type": "stream",
     "text": [
      "Loading image dataset/cut/affected/IM-0009-0011-2-1.jpg\n",
      "Loading image dataset/cut/affected/IM-0009-0011-2-2.jpg\n",
      "Loading image dataset/cut/affected/IM-0009-0011-2.jpg\n",
      "Loading image dataset/cut/affected/IM-0009-0011-5-1.jpg\n",
      "Loading image dataset/cut/affected/IM-0009-0011-5-2.jpg\n",
      "Loading image dataset/cut/affected/IM-0009-0012-1.jpg\n",
      "Loading image dataset/cut/affected/IM-0009-0012-2-1.jpg\n",
      "Loading image dataset/cut/affected/IM-0009-0012-2-2.jpg\n"
     ]
    },
    {
     "name": "stderr",
     "output_type": "stream",
     "text": [
      "Shape features are only available 3D input (for 2D input, use shape2D). Found 2D input\n",
      "GLCM is symmetrical, therefore Sum Average = 2 * Joint Average, only 1 needs to be calculated\n",
      "Shape features are only available 3D input (for 2D input, use shape2D). Found 2D input\n",
      "GLCM is symmetrical, therefore Sum Average = 2 * Joint Average, only 1 needs to be calculated\n",
      "Shape features are only available 3D input (for 2D input, use shape2D). Found 2D input\n",
      "GLCM is symmetrical, therefore Sum Average = 2 * Joint Average, only 1 needs to be calculated\n",
      "Shape features are only available 3D input (for 2D input, use shape2D). Found 2D input\n",
      "GLCM is symmetrical, therefore Sum Average = 2 * Joint Average, only 1 needs to be calculated\n",
      "Shape features are only available 3D input (for 2D input, use shape2D). Found 2D input\n",
      "GLCM is symmetrical, therefore Sum Average = 2 * Joint Average, only 1 needs to be calculated\n",
      "Shape features are only available 3D input (for 2D input, use shape2D). Found 2D input\n",
      "GLCM is symmetrical, therefore Sum Average = 2 * Joint Average, only 1 needs to be calculated\n",
      "Shape features are only available 3D input (for 2D input, use shape2D). Found 2D input\n",
      "GLCM is symmetrical, therefore Sum Average = 2 * Joint Average, only 1 needs to be calculated\n",
      "Shape features are only available 3D input (for 2D input, use shape2D). Found 2D input\n",
      "GLCM is symmetrical, therefore Sum Average = 2 * Joint Average, only 1 needs to be calculated\n",
      "Shape features are only available 3D input (for 2D input, use shape2D). Found 2D input\n",
      "GLCM is symmetrical, therefore Sum Average = 2 * Joint Average, only 1 needs to be calculated\n"
     ]
    },
    {
     "name": "stdout",
     "output_type": "stream",
     "text": [
      "Loading image dataset/cut/affected/IM-0009-0012-2.jpg\n",
      "Loading image dataset/cut/affected/IM-0009-0012-5-1.jpg\n",
      "Loading image dataset/cut/affected/IM-0009-0012-5-2.jpg\n",
      "Loading image dataset/cut/affected/IM-0009-0013-1.jpg\n",
      "Loading image dataset/cut/affected/IM-0009-0013-2-1.jpg\n",
      "Loading image dataset/cut/affected/IM-0009-0013-2-2.jpg\n",
      "Loading image dataset/cut/affected/IM-0009-0013-2.jpg\n",
      "Loading image dataset/cut/affected/IM-0009-0013-5-1.jpg\n",
      "Loading image dataset/cut/affected/IM-0009-0013-5-2.jpg\n"
     ]
    },
    {
     "name": "stderr",
     "output_type": "stream",
     "text": [
      "Shape features are only available 3D input (for 2D input, use shape2D). Found 2D input\n",
      "GLCM is symmetrical, therefore Sum Average = 2 * Joint Average, only 1 needs to be calculated\n",
      "Shape features are only available 3D input (for 2D input, use shape2D). Found 2D input\n",
      "GLCM is symmetrical, therefore Sum Average = 2 * Joint Average, only 1 needs to be calculated\n",
      "Shape features are only available 3D input (for 2D input, use shape2D). Found 2D input\n",
      "GLCM is symmetrical, therefore Sum Average = 2 * Joint Average, only 1 needs to be calculated\n",
      "Shape features are only available 3D input (for 2D input, use shape2D). Found 2D input\n",
      "GLCM is symmetrical, therefore Sum Average = 2 * Joint Average, only 1 needs to be calculated\n",
      "Shape features are only available 3D input (for 2D input, use shape2D). Found 2D input\n",
      "GLCM is symmetrical, therefore Sum Average = 2 * Joint Average, only 1 needs to be calculated\n",
      "Shape features are only available 3D input (for 2D input, use shape2D). Found 2D input\n",
      "GLCM is symmetrical, therefore Sum Average = 2 * Joint Average, only 1 needs to be calculated\n",
      "Shape features are only available 3D input (for 2D input, use shape2D). Found 2D input\n",
      "GLCM is symmetrical, therefore Sum Average = 2 * Joint Average, only 1 needs to be calculated\n",
      "Shape features are only available 3D input (for 2D input, use shape2D). Found 2D input\n",
      "GLCM is symmetrical, therefore Sum Average = 2 * Joint Average, only 1 needs to be calculated\n",
      "Shape features are only available 3D input (for 2D input, use shape2D). Found 2D input\n",
      "GLCM is symmetrical, therefore Sum Average = 2 * Joint Average, only 1 needs to be calculated\n"
     ]
    },
    {
     "name": "stdout",
     "output_type": "stream",
     "text": [
      "Loading image dataset/cut/affected/IM-0009-0014-1.jpg\n",
      "Loading image dataset/cut/affected/IM-0009-0014-2-1.jpg\n",
      "Loading image dataset/cut/affected/IM-0009-0014-2-2.jpg\n",
      "Loading image dataset/cut/affected/IM-0009-0014-2.jpg\n",
      "Loading image dataset/cut/affected/IM-0009-0014-5-1.jpg\n",
      "Loading image dataset/cut/affected/IM-0009-0014-5-2.jpg\n",
      "Loading image dataset/cut/affected/IM-0009-0015-1.jpg\n",
      "Loading image dataset/cut/affected/IM-0009-0015-2-1.jpg\n",
      "Loading image dataset/cut/affected/IM-0009-0015-2-2.jpg\n"
     ]
    },
    {
     "name": "stderr",
     "output_type": "stream",
     "text": [
      "Shape features are only available 3D input (for 2D input, use shape2D). Found 2D input\n",
      "GLCM is symmetrical, therefore Sum Average = 2 * Joint Average, only 1 needs to be calculated\n",
      "Shape features are only available 3D input (for 2D input, use shape2D). Found 2D input\n",
      "GLCM is symmetrical, therefore Sum Average = 2 * Joint Average, only 1 needs to be calculated\n",
      "Shape features are only available 3D input (for 2D input, use shape2D). Found 2D input\n",
      "GLCM is symmetrical, therefore Sum Average = 2 * Joint Average, only 1 needs to be calculated\n",
      "Shape features are only available 3D input (for 2D input, use shape2D). Found 2D input\n",
      "GLCM is symmetrical, therefore Sum Average = 2 * Joint Average, only 1 needs to be calculated\n",
      "Shape features are only available 3D input (for 2D input, use shape2D). Found 2D input\n",
      "GLCM is symmetrical, therefore Sum Average = 2 * Joint Average, only 1 needs to be calculated\n",
      "Shape features are only available 3D input (for 2D input, use shape2D). Found 2D input\n",
      "GLCM is symmetrical, therefore Sum Average = 2 * Joint Average, only 1 needs to be calculated\n",
      "Shape features are only available 3D input (for 2D input, use shape2D). Found 2D input\n",
      "GLCM is symmetrical, therefore Sum Average = 2 * Joint Average, only 1 needs to be calculated\n",
      "Shape features are only available 3D input (for 2D input, use shape2D). Found 2D input\n",
      "GLCM is symmetrical, therefore Sum Average = 2 * Joint Average, only 1 needs to be calculated\n",
      "Shape features are only available 3D input (for 2D input, use shape2D). Found 2D input\n",
      "GLCM is symmetrical, therefore Sum Average = 2 * Joint Average, only 1 needs to be calculated\n"
     ]
    },
    {
     "name": "stdout",
     "output_type": "stream",
     "text": [
      "Loading image dataset/cut/affected/IM-0009-0015-2.jpg\n",
      "Loading image dataset/cut/affected/IM-0009-0015-5-1.jpg\n",
      "Loading image dataset/cut/affected/IM-0009-0015-5-2.jpg\n",
      "Loading image dataset/cut/affected/IM-0009-0016-1.jpg\n",
      "Loading image dataset/cut/affected/IM-0009-0016-2-1.jpg\n",
      "Loading image dataset/cut/affected/IM-0009-0016-2-2.jpg\n",
      "Loading image dataset/cut/affected/IM-0009-0016-2.jpg\n",
      "Loading image dataset/cut/affected/IM-0009-0016-5-1.jpg\n",
      "Loading image dataset/cut/affected/IM-0009-0016-5-2.jpg\n"
     ]
    },
    {
     "name": "stderr",
     "output_type": "stream",
     "text": [
      "Shape features are only available 3D input (for 2D input, use shape2D). Found 2D input\n",
      "GLCM is symmetrical, therefore Sum Average = 2 * Joint Average, only 1 needs to be calculated\n",
      "Shape features are only available 3D input (for 2D input, use shape2D). Found 2D input\n",
      "GLCM is symmetrical, therefore Sum Average = 2 * Joint Average, only 1 needs to be calculated\n",
      "Shape features are only available 3D input (for 2D input, use shape2D). Found 2D input\n",
      "GLCM is symmetrical, therefore Sum Average = 2 * Joint Average, only 1 needs to be calculated\n",
      "Shape features are only available 3D input (for 2D input, use shape2D). Found 2D input\n",
      "GLCM is symmetrical, therefore Sum Average = 2 * Joint Average, only 1 needs to be calculated\n",
      "Shape features are only available 3D input (for 2D input, use shape2D). Found 2D input\n",
      "GLCM is symmetrical, therefore Sum Average = 2 * Joint Average, only 1 needs to be calculated\n",
      "Shape features are only available 3D input (for 2D input, use shape2D). Found 2D input\n",
      "GLCM is symmetrical, therefore Sum Average = 2 * Joint Average, only 1 needs to be calculated\n",
      "Shape features are only available 3D input (for 2D input, use shape2D). Found 2D input\n",
      "GLCM is symmetrical, therefore Sum Average = 2 * Joint Average, only 1 needs to be calculated\n",
      "Shape features are only available 3D input (for 2D input, use shape2D). Found 2D input\n",
      "GLCM is symmetrical, therefore Sum Average = 2 * Joint Average, only 1 needs to be calculated\n"
     ]
    },
    {
     "name": "stdout",
     "output_type": "stream",
     "text": [
      "Loading image dataset/cut/affected/IM-0009-0017-1.jpg\n",
      "Loading image dataset/cut/affected/IM-0009-0017-2-1.jpg\n",
      "Loading image dataset/cut/affected/IM-0009-0017-2-2.jpg\n",
      "Loading image dataset/cut/affected/IM-0009-0017-2.jpg\n",
      "Loading image dataset/cut/affected/IM-0009-0017-5-1.jpg\n",
      "Loading image dataset/cut/affected/IM-0009-0017-5-2.jpg\n",
      "Loading image dataset/cut/affected/IM-0009-0018-1.jpg\n",
      "Loading image dataset/cut/affected/IM-0009-0018-2-1.jpg\n"
     ]
    },
    {
     "name": "stderr",
     "output_type": "stream",
     "text": [
      "Shape features are only available 3D input (for 2D input, use shape2D). Found 2D input\n",
      "GLCM is symmetrical, therefore Sum Average = 2 * Joint Average, only 1 needs to be calculated\n",
      "Shape features are only available 3D input (for 2D input, use shape2D). Found 2D input\n",
      "GLCM is symmetrical, therefore Sum Average = 2 * Joint Average, only 1 needs to be calculated\n",
      "Shape features are only available 3D input (for 2D input, use shape2D). Found 2D input\n",
      "GLCM is symmetrical, therefore Sum Average = 2 * Joint Average, only 1 needs to be calculated\n",
      "Shape features are only available 3D input (for 2D input, use shape2D). Found 2D input\n",
      "GLCM is symmetrical, therefore Sum Average = 2 * Joint Average, only 1 needs to be calculated\n",
      "Shape features are only available 3D input (for 2D input, use shape2D). Found 2D input\n",
      "GLCM is symmetrical, therefore Sum Average = 2 * Joint Average, only 1 needs to be calculated\n",
      "Shape features are only available 3D input (for 2D input, use shape2D). Found 2D input\n",
      "GLCM is symmetrical, therefore Sum Average = 2 * Joint Average, only 1 needs to be calculated\n",
      "Shape features are only available 3D input (for 2D input, use shape2D). Found 2D input\n",
      "GLCM is symmetrical, therefore Sum Average = 2 * Joint Average, only 1 needs to be calculated\n",
      "Shape features are only available 3D input (for 2D input, use shape2D). Found 2D input\n",
      "GLCM is symmetrical, therefore Sum Average = 2 * Joint Average, only 1 needs to be calculated\n"
     ]
    },
    {
     "name": "stdout",
     "output_type": "stream",
     "text": [
      "Loading image dataset/cut/affected/IM-0009-0018-2-2.jpg\n",
      "Loading image dataset/cut/affected/IM-0009-0018-2.jpg\n",
      "Loading image dataset/cut/affected/IM-0009-0018-5-1.jpg\n",
      "Loading image dataset/cut/affected/IM-0009-0018-5-2.jpg\n",
      "Loading image dataset/cut/affected/IM-0009-0019-1.jpg\n",
      "Loading image dataset/cut/affected/IM-0009-0019-2-1.jpg\n",
      "Loading image dataset/cut/affected/IM-0009-0019-2-2.jpg\n",
      "Loading image dataset/cut/affected/IM-0009-0019-2.jpg\n"
     ]
    },
    {
     "name": "stderr",
     "output_type": "stream",
     "text": [
      "Shape features are only available 3D input (for 2D input, use shape2D). Found 2D input\n",
      "GLCM is symmetrical, therefore Sum Average = 2 * Joint Average, only 1 needs to be calculated\n",
      "Shape features are only available 3D input (for 2D input, use shape2D). Found 2D input\n",
      "GLCM is symmetrical, therefore Sum Average = 2 * Joint Average, only 1 needs to be calculated\n",
      "Shape features are only available 3D input (for 2D input, use shape2D). Found 2D input\n",
      "GLCM is symmetrical, therefore Sum Average = 2 * Joint Average, only 1 needs to be calculated\n",
      "Shape features are only available 3D input (for 2D input, use shape2D). Found 2D input\n",
      "GLCM is symmetrical, therefore Sum Average = 2 * Joint Average, only 1 needs to be calculated\n",
      "Shape features are only available 3D input (for 2D input, use shape2D). Found 2D input\n",
      "GLCM is symmetrical, therefore Sum Average = 2 * Joint Average, only 1 needs to be calculated\n",
      "Shape features are only available 3D input (for 2D input, use shape2D). Found 2D input\n",
      "GLCM is symmetrical, therefore Sum Average = 2 * Joint Average, only 1 needs to be calculated\n",
      "Shape features are only available 3D input (for 2D input, use shape2D). Found 2D input\n",
      "GLCM is symmetrical, therefore Sum Average = 2 * Joint Average, only 1 needs to be calculated\n",
      "Shape features are only available 3D input (for 2D input, use shape2D). Found 2D input\n",
      "GLCM is symmetrical, therefore Sum Average = 2 * Joint Average, only 1 needs to be calculated\n",
      "Shape features are only available 3D input (for 2D input, use shape2D). Found 2D input\n",
      "GLCM is symmetrical, therefore Sum Average = 2 * Joint Average, only 1 needs to be calculated\n"
     ]
    },
    {
     "name": "stdout",
     "output_type": "stream",
     "text": [
      "Loading image dataset/cut/affected/IM-0009-0019-5-1.jpg\n",
      "Loading image dataset/cut/affected/IM-0009-0019-5-2.jpg\n",
      "Loading image dataset/cut/affected/IM-0009-0020-1.jpg\n",
      "Loading image dataset/cut/affected/IM-0009-0020-2-1.jpg\n",
      "Loading image dataset/cut/affected/IM-0009-0020-2-2.jpg\n",
      "Loading image dataset/cut/affected/IM-0009-0020-2.jpg\n",
      "Loading image dataset/cut/affected/IM-0009-0020-5-1.jpg\n",
      "Loading image dataset/cut/affected/IM-0009-0020-5-2.jpg\n",
      "Loading image dataset/cut/affected/IM-0009-0021-1.jpg\n"
     ]
    },
    {
     "name": "stderr",
     "output_type": "stream",
     "text": [
      "Shape features are only available 3D input (for 2D input, use shape2D). Found 2D input\n",
      "GLCM is symmetrical, therefore Sum Average = 2 * Joint Average, only 1 needs to be calculated\n",
      "Shape features are only available 3D input (for 2D input, use shape2D). Found 2D input\n",
      "GLCM is symmetrical, therefore Sum Average = 2 * Joint Average, only 1 needs to be calculated\n",
      "Shape features are only available 3D input (for 2D input, use shape2D). Found 2D input\n",
      "GLCM is symmetrical, therefore Sum Average = 2 * Joint Average, only 1 needs to be calculated\n",
      "Shape features are only available 3D input (for 2D input, use shape2D). Found 2D input\n",
      "GLCM is symmetrical, therefore Sum Average = 2 * Joint Average, only 1 needs to be calculated\n",
      "Shape features are only available 3D input (for 2D input, use shape2D). Found 2D input\n",
      "GLCM is symmetrical, therefore Sum Average = 2 * Joint Average, only 1 needs to be calculated\n",
      "Shape features are only available 3D input (for 2D input, use shape2D). Found 2D input\n",
      "GLCM is symmetrical, therefore Sum Average = 2 * Joint Average, only 1 needs to be calculated\n",
      "Shape features are only available 3D input (for 2D input, use shape2D). Found 2D input\n",
      "GLCM is symmetrical, therefore Sum Average = 2 * Joint Average, only 1 needs to be calculated\n",
      "Shape features are only available 3D input (for 2D input, use shape2D). Found 2D input\n",
      "GLCM is symmetrical, therefore Sum Average = 2 * Joint Average, only 1 needs to be calculated\n",
      "Shape features are only available 3D input (for 2D input, use shape2D). Found 2D input\n",
      "GLCM is symmetrical, therefore Sum Average = 2 * Joint Average, only 1 needs to be calculated\n"
     ]
    },
    {
     "name": "stdout",
     "output_type": "stream",
     "text": [
      "Loading image dataset/cut/affected/IM-0009-0021-2-1.jpg\n",
      "Loading image dataset/cut/affected/IM-0009-0021-2-2.jpg\n",
      "Loading image dataset/cut/affected/IM-0009-0021-2.jpg\n",
      "Loading image dataset/cut/affected/IM-0009-0021-5-1.jpg\n",
      "Loading image dataset/cut/affected/IM-0009-0021-5-2.jpg\n",
      "Loading image dataset/cut/affected/IM-0009-0022-1.jpg\n",
      "Loading image dataset/cut/affected/IM-0009-0022-2-1.jpg\n",
      "Loading image dataset/cut/affected/IM-0009-0022-2-2.jpg\n"
     ]
    },
    {
     "name": "stderr",
     "output_type": "stream",
     "text": [
      "Shape features are only available 3D input (for 2D input, use shape2D). Found 2D input\n",
      "GLCM is symmetrical, therefore Sum Average = 2 * Joint Average, only 1 needs to be calculated\n",
      "Shape features are only available 3D input (for 2D input, use shape2D). Found 2D input\n",
      "GLCM is symmetrical, therefore Sum Average = 2 * Joint Average, only 1 needs to be calculated\n",
      "Shape features are only available 3D input (for 2D input, use shape2D). Found 2D input\n",
      "GLCM is symmetrical, therefore Sum Average = 2 * Joint Average, only 1 needs to be calculated\n",
      "Shape features are only available 3D input (for 2D input, use shape2D). Found 2D input\n",
      "GLCM is symmetrical, therefore Sum Average = 2 * Joint Average, only 1 needs to be calculated\n",
      "Shape features are only available 3D input (for 2D input, use shape2D). Found 2D input\n",
      "GLCM is symmetrical, therefore Sum Average = 2 * Joint Average, only 1 needs to be calculated\n"
     ]
    },
    {
     "name": "stdout",
     "output_type": "stream",
     "text": [
      "Loading image dataset/cut/affected/IM-0009-0022-2.jpg\n",
      "Loading image dataset/cut/affected/IM-0009-0022-5-1.jpg\n",
      "Loading image dataset/cut/affected/IM-0009-0022-5-2.jpg\n",
      "Loading image dataset/cut/affected/IM-0009-0023-1.jpg\n",
      "Loading image dataset/cut/affected/IM-0009-0023-2-1.jpg\n"
     ]
    },
    {
     "name": "stderr",
     "output_type": "stream",
     "text": [
      "Shape features are only available 3D input (for 2D input, use shape2D). Found 2D input\n",
      "GLCM is symmetrical, therefore Sum Average = 2 * Joint Average, only 1 needs to be calculated\n",
      "Shape features are only available 3D input (for 2D input, use shape2D). Found 2D input\n",
      "GLCM is symmetrical, therefore Sum Average = 2 * Joint Average, only 1 needs to be calculated\n",
      "Shape features are only available 3D input (for 2D input, use shape2D). Found 2D input\n",
      "GLCM is symmetrical, therefore Sum Average = 2 * Joint Average, only 1 needs to be calculated\n",
      "Shape features are only available 3D input (for 2D input, use shape2D). Found 2D input\n",
      "GLCM is symmetrical, therefore Sum Average = 2 * Joint Average, only 1 needs to be calculated\n"
     ]
    },
    {
     "name": "stdout",
     "output_type": "stream",
     "text": [
      "Loading image dataset/cut/affected/IM-0009-0023-2-2.jpg\n",
      "Loading image dataset/cut/affected/IM-0009-0023-2.jpg\n",
      "Loading image dataset/cut/affected/IM-0009-0023-5-1.jpg\n",
      "Loading image dataset/cut/affected/IM-0009-0023-5-2.jpg\n",
      "Loading image dataset/cut/affected/IM-0009-0024-1.jpg\n"
     ]
    },
    {
     "name": "stderr",
     "output_type": "stream",
     "text": [
      "Shape features are only available 3D input (for 2D input, use shape2D). Found 2D input\n",
      "GLCM is symmetrical, therefore Sum Average = 2 * Joint Average, only 1 needs to be calculated\n",
      "Shape features are only available 3D input (for 2D input, use shape2D). Found 2D input\n",
      "GLCM is symmetrical, therefore Sum Average = 2 * Joint Average, only 1 needs to be calculated\n",
      "Shape features are only available 3D input (for 2D input, use shape2D). Found 2D input\n",
      "GLCM is symmetrical, therefore Sum Average = 2 * Joint Average, only 1 needs to be calculated\n",
      "Shape features are only available 3D input (for 2D input, use shape2D). Found 2D input\n",
      "GLCM is symmetrical, therefore Sum Average = 2 * Joint Average, only 1 needs to be calculated\n",
      "Shape features are only available 3D input (for 2D input, use shape2D). Found 2D input\n",
      "GLCM is symmetrical, therefore Sum Average = 2 * Joint Average, only 1 needs to be calculated\n"
     ]
    },
    {
     "name": "stdout",
     "output_type": "stream",
     "text": [
      "Loading image dataset/cut/affected/IM-0009-0024-2-1.jpg\n",
      "Loading image dataset/cut/affected/IM-0009-0024-2-2.jpg\n",
      "Loading image dataset/cut/affected/IM-0009-0024-2.jpg\n",
      "Loading image dataset/cut/affected/IM-0009-0024-5-1.jpg\n",
      "Loading image dataset/cut/affected/IM-0009-0024-5-2.jpg\n"
     ]
    },
    {
     "name": "stderr",
     "output_type": "stream",
     "text": [
      "Shape features are only available 3D input (for 2D input, use shape2D). Found 2D input\n",
      "GLCM is symmetrical, therefore Sum Average = 2 * Joint Average, only 1 needs to be calculated\n",
      "Shape features are only available 3D input (for 2D input, use shape2D). Found 2D input\n",
      "GLCM is symmetrical, therefore Sum Average = 2 * Joint Average, only 1 needs to be calculated\n",
      "Shape features are only available 3D input (for 2D input, use shape2D). Found 2D input\n",
      "GLCM is symmetrical, therefore Sum Average = 2 * Joint Average, only 1 needs to be calculated\n",
      "Shape features are only available 3D input (for 2D input, use shape2D). Found 2D input\n",
      "GLCM is symmetrical, therefore Sum Average = 2 * Joint Average, only 1 needs to be calculated\n",
      "Shape features are only available 3D input (for 2D input, use shape2D). Found 2D input\n",
      "GLCM is symmetrical, therefore Sum Average = 2 * Joint Average, only 1 needs to be calculated\n",
      "Shape features are only available 3D input (for 2D input, use shape2D). Found 2D input\n",
      "GLCM is symmetrical, therefore Sum Average = 2 * Joint Average, only 1 needs to be calculated\n"
     ]
    },
    {
     "name": "stdout",
     "output_type": "stream",
     "text": [
      "Loading image dataset/cut/affected/IM-0009-0025-1.jpg\n",
      "Loading image dataset/cut/affected/IM-0009-0025-2-1.jpg\n",
      "Loading image dataset/cut/affected/IM-0009-0025-2-2.jpg\n",
      "Loading image dataset/cut/affected/IM-0009-0025-2.jpg\n",
      "Loading image dataset/cut/affected/IM-0009-0025-5-1.jpg\n",
      "Loading image dataset/cut/affected/IM-0009-0025-5-2.jpg\n"
     ]
    },
    {
     "name": "stderr",
     "output_type": "stream",
     "text": [
      "Shape features are only available 3D input (for 2D input, use shape2D). Found 2D input\n",
      "GLCM is symmetrical, therefore Sum Average = 2 * Joint Average, only 1 needs to be calculated\n",
      "Shape features are only available 3D input (for 2D input, use shape2D). Found 2D input\n",
      "GLCM is symmetrical, therefore Sum Average = 2 * Joint Average, only 1 needs to be calculated\n",
      "Shape features are only available 3D input (for 2D input, use shape2D). Found 2D input\n",
      "GLCM is symmetrical, therefore Sum Average = 2 * Joint Average, only 1 needs to be calculated\n",
      "Shape features are only available 3D input (for 2D input, use shape2D). Found 2D input\n",
      "GLCM is symmetrical, therefore Sum Average = 2 * Joint Average, only 1 needs to be calculated\n",
      "Shape features are only available 3D input (for 2D input, use shape2D). Found 2D input\n",
      "GLCM is symmetrical, therefore Sum Average = 2 * Joint Average, only 1 needs to be calculated\n",
      "Shape features are only available 3D input (for 2D input, use shape2D). Found 2D input\n",
      "GLCM is symmetrical, therefore Sum Average = 2 * Joint Average, only 1 needs to be calculated\n"
     ]
    },
    {
     "name": "stdout",
     "output_type": "stream",
     "text": [
      "Loading image dataset/cut/affected/IM-0009-0026-1.jpg\n",
      "Loading image dataset/cut/affected/IM-0009-0026-2-1.jpg\n",
      "Loading image dataset/cut/affected/IM-0009-0026-2-2.jpg\n",
      "Loading image dataset/cut/affected/IM-0009-0026-2.jpg\n",
      "Loading image dataset/cut/affected/IM-0009-0026-5-1.jpg\n",
      "Loading image dataset/cut/affected/IM-0009-0026-5-2.jpg\n"
     ]
    },
    {
     "name": "stderr",
     "output_type": "stream",
     "text": [
      "Shape features are only available 3D input (for 2D input, use shape2D). Found 2D input\n",
      "GLCM is symmetrical, therefore Sum Average = 2 * Joint Average, only 1 needs to be calculated\n",
      "Shape features are only available 3D input (for 2D input, use shape2D). Found 2D input\n",
      "GLCM is symmetrical, therefore Sum Average = 2 * Joint Average, only 1 needs to be calculated\n",
      "Shape features are only available 3D input (for 2D input, use shape2D). Found 2D input\n",
      "GLCM is symmetrical, therefore Sum Average = 2 * Joint Average, only 1 needs to be calculated\n",
      "Shape features are only available 3D input (for 2D input, use shape2D). Found 2D input\n",
      "GLCM is symmetrical, therefore Sum Average = 2 * Joint Average, only 1 needs to be calculated\n",
      "Shape features are only available 3D input (for 2D input, use shape2D). Found 2D input\n",
      "GLCM is symmetrical, therefore Sum Average = 2 * Joint Average, only 1 needs to be calculated\n",
      "Shape features are only available 3D input (for 2D input, use shape2D). Found 2D input\n",
      "GLCM is symmetrical, therefore Sum Average = 2 * Joint Average, only 1 needs to be calculated\n",
      "Shape features are only available 3D input (for 2D input, use shape2D). Found 2D input\n",
      "GLCM is symmetrical, therefore Sum Average = 2 * Joint Average, only 1 needs to be calculated\n",
      "Shape features are only available 3D input (for 2D input, use shape2D). Found 2D input\n",
      "GLCM is symmetrical, therefore Sum Average = 2 * Joint Average, only 1 needs to be calculated\n",
      "Shape features are only available 3D input (for 2D input, use shape2D). Found 2D input\n",
      "GLCM is symmetrical, therefore Sum Average = 2 * Joint Average, only 1 needs to be calculated\n"
     ]
    },
    {
     "name": "stdout",
     "output_type": "stream",
     "text": [
      "Loading image dataset/cut/affected/IM-0009-0027-1.jpg\n",
      "Loading image dataset/cut/affected/IM-0009-0027-2-1.jpg\n",
      "Loading image dataset/cut/affected/IM-0009-0027-2-2.jpg\n",
      "Loading image dataset/cut/affected/IM-0009-0027-2.jpg\n",
      "Loading image dataset/cut/affected/IM-0009-0028-1.jpg\n",
      "Loading image dataset/cut/affected/IM-0009-0028-2-1.jpg\n",
      "Loading image dataset/cut/affected/IM-0009-0028-2-2.jpg\n",
      "Loading image dataset/cut/affected/IM-0009-0028-2.jpg\n",
      "Loading image dataset/cut/affected/IM-0009-0029-1.jpg\n"
     ]
    },
    {
     "name": "stderr",
     "output_type": "stream",
     "text": [
      "Shape features are only available 3D input (for 2D input, use shape2D). Found 2D input\n",
      "GLCM is symmetrical, therefore Sum Average = 2 * Joint Average, only 1 needs to be calculated\n",
      "Shape features are only available 3D input (for 2D input, use shape2D). Found 2D input\n",
      "GLCM is symmetrical, therefore Sum Average = 2 * Joint Average, only 1 needs to be calculated\n",
      "Shape features are only available 3D input (for 2D input, use shape2D). Found 2D input\n",
      "GLCM is symmetrical, therefore Sum Average = 2 * Joint Average, only 1 needs to be calculated\n",
      "Shape features are only available 3D input (for 2D input, use shape2D). Found 2D input\n",
      "GLCM is symmetrical, therefore Sum Average = 2 * Joint Average, only 1 needs to be calculated\n",
      "Shape features are only available 3D input (for 2D input, use shape2D). Found 2D input\n",
      "GLCM is symmetrical, therefore Sum Average = 2 * Joint Average, only 1 needs to be calculated\n",
      "Shape features are only available 3D input (for 2D input, use shape2D). Found 2D input\n",
      "GLCM is symmetrical, therefore Sum Average = 2 * Joint Average, only 1 needs to be calculated\n",
      "Shape features are only available 3D input (for 2D input, use shape2D). Found 2D input\n",
      "GLCM is symmetrical, therefore Sum Average = 2 * Joint Average, only 1 needs to be calculated\n",
      "Shape features are only available 3D input (for 2D input, use shape2D). Found 2D input\n",
      "GLCM is symmetrical, therefore Sum Average = 2 * Joint Average, only 1 needs to be calculated\n"
     ]
    },
    {
     "name": "stdout",
     "output_type": "stream",
     "text": [
      "Loading image dataset/cut/affected/IM-0009-0029-2-1.jpg\n",
      "Loading image dataset/cut/affected/IM-0009-0029-2-2.jpg\n",
      "Loading image dataset/cut/affected/IM-0009-0029-2.jpg\n",
      "Loading image dataset/cut/affected/IM-0009-0030-1.jpg\n",
      "Loading image dataset/cut/affected/IM-0009-0030-2.jpg\n",
      "Loading image dataset/cut/healthy/IM-0003-0003-h4-1.jpg\n",
      "Loading image dataset/cut/healthy/IM-0003-0004-h-1.jpg\n",
      "Loading image dataset/cut/healthy/IM-0003-0004-h1-1.jpg\n"
     ]
    },
    {
     "name": "stderr",
     "output_type": "stream",
     "text": [
      "Shape features are only available 3D input (for 2D input, use shape2D). Found 2D input\n",
      "GLCM is symmetrical, therefore Sum Average = 2 * Joint Average, only 1 needs to be calculated\n",
      "Shape features are only available 3D input (for 2D input, use shape2D). Found 2D input\n",
      "GLCM is symmetrical, therefore Sum Average = 2 * Joint Average, only 1 needs to be calculated\n",
      "Shape features are only available 3D input (for 2D input, use shape2D). Found 2D input\n",
      "GLCM is symmetrical, therefore Sum Average = 2 * Joint Average, only 1 needs to be calculated\n",
      "Shape features are only available 3D input (for 2D input, use shape2D). Found 2D input\n",
      "GLCM is symmetrical, therefore Sum Average = 2 * Joint Average, only 1 needs to be calculated\n",
      "Shape features are only available 3D input (for 2D input, use shape2D). Found 2D input\n",
      "GLCM is symmetrical, therefore Sum Average = 2 * Joint Average, only 1 needs to be calculated\n",
      "Shape features are only available 3D input (for 2D input, use shape2D). Found 2D input\n"
     ]
    },
    {
     "name": "stdout",
     "output_type": "stream",
     "text": [
      "Loading image dataset/cut/healthy/IM-0003-0004-h2-1.jpg\n",
      "Loading image dataset/cut/healthy/IM-0003-0004-h4-1.jpg\n",
      "Loading image dataset/cut/healthy/IM-0003-0004-h5-1.jpg\n",
      "Loading image dataset/cut/healthy/IM-0003-0005-h-1.jpg\n",
      "Loading image dataset/cut/healthy/IM-0003-0005-h1-1.jpg\n"
     ]
    },
    {
     "name": "stderr",
     "output_type": "stream",
     "text": [
      "GLCM is symmetrical, therefore Sum Average = 2 * Joint Average, only 1 needs to be calculated\n",
      "Shape features are only available 3D input (for 2D input, use shape2D). Found 2D input\n",
      "GLCM is symmetrical, therefore Sum Average = 2 * Joint Average, only 1 needs to be calculated\n",
      "Shape features are only available 3D input (for 2D input, use shape2D). Found 2D input\n",
      "GLCM is symmetrical, therefore Sum Average = 2 * Joint Average, only 1 needs to be calculated\n",
      "Shape features are only available 3D input (for 2D input, use shape2D). Found 2D input\n",
      "GLCM is symmetrical, therefore Sum Average = 2 * Joint Average, only 1 needs to be calculated\n",
      "Shape features are only available 3D input (for 2D input, use shape2D). Found 2D input\n",
      "GLCM is symmetrical, therefore Sum Average = 2 * Joint Average, only 1 needs to be calculated\n",
      "Shape features are only available 3D input (for 2D input, use shape2D). Found 2D input\n"
     ]
    },
    {
     "name": "stdout",
     "output_type": "stream",
     "text": [
      "Loading image dataset/cut/healthy/IM-0003-0005-h2-1.jpg\n",
      "Loading image dataset/cut/healthy/IM-0003-0005-h4-1.jpg\n",
      "Loading image dataset/cut/healthy/IM-0003-0005-h5-1.jpg\n",
      "Loading image dataset/cut/healthy/IM-0003-0006-h-1.jpg\n",
      "Loading image dataset/cut/healthy/IM-0003-0006-h1-1.jpg\n"
     ]
    },
    {
     "name": "stderr",
     "output_type": "stream",
     "text": [
      "GLCM is symmetrical, therefore Sum Average = 2 * Joint Average, only 1 needs to be calculated\n",
      "Shape features are only available 3D input (for 2D input, use shape2D). Found 2D input\n",
      "GLCM is symmetrical, therefore Sum Average = 2 * Joint Average, only 1 needs to be calculated\n",
      "Shape features are only available 3D input (for 2D input, use shape2D). Found 2D input\n",
      "GLCM is symmetrical, therefore Sum Average = 2 * Joint Average, only 1 needs to be calculated\n",
      "Shape features are only available 3D input (for 2D input, use shape2D). Found 2D input\n",
      "GLCM is symmetrical, therefore Sum Average = 2 * Joint Average, only 1 needs to be calculated\n",
      "Shape features are only available 3D input (for 2D input, use shape2D). Found 2D input\n",
      "GLCM is symmetrical, therefore Sum Average = 2 * Joint Average, only 1 needs to be calculated\n",
      "Shape features are only available 3D input (for 2D input, use shape2D). Found 2D input\n"
     ]
    },
    {
     "name": "stdout",
     "output_type": "stream",
     "text": [
      "Loading image dataset/cut/healthy/IM-0003-0006-h2-1.jpg\n",
      "Loading image dataset/cut/healthy/IM-0003-0006-h4-1.jpg\n",
      "Loading image dataset/cut/healthy/IM-0003-0006-h5-1.jpg\n",
      "Loading image dataset/cut/healthy/IM-0003-0007-h-1.jpg\n",
      "Loading image dataset/cut/healthy/IM-0003-0007-h1-1.jpg\n"
     ]
    },
    {
     "name": "stderr",
     "output_type": "stream",
     "text": [
      "GLCM is symmetrical, therefore Sum Average = 2 * Joint Average, only 1 needs to be calculated\n",
      "Shape features are only available 3D input (for 2D input, use shape2D). Found 2D input\n",
      "GLCM is symmetrical, therefore Sum Average = 2 * Joint Average, only 1 needs to be calculated\n",
      "Shape features are only available 3D input (for 2D input, use shape2D). Found 2D input\n",
      "GLCM is symmetrical, therefore Sum Average = 2 * Joint Average, only 1 needs to be calculated\n",
      "Shape features are only available 3D input (for 2D input, use shape2D). Found 2D input\n",
      "GLCM is symmetrical, therefore Sum Average = 2 * Joint Average, only 1 needs to be calculated\n",
      "Shape features are only available 3D input (for 2D input, use shape2D). Found 2D input\n",
      "GLCM is symmetrical, therefore Sum Average = 2 * Joint Average, only 1 needs to be calculated\n",
      "Shape features are only available 3D input (for 2D input, use shape2D). Found 2D input\n"
     ]
    },
    {
     "name": "stdout",
     "output_type": "stream",
     "text": [
      "Loading image dataset/cut/healthy/IM-0003-0007-h2-1.jpg\n",
      "Loading image dataset/cut/healthy/IM-0003-0007-h4-1.jpg\n",
      "Loading image dataset/cut/healthy/IM-0003-0007-h5-1.jpg\n",
      "Loading image dataset/cut/healthy/IM-0003-0008-h-1.jpg\n",
      "Loading image dataset/cut/healthy/IM-0003-0008-h1-1.jpg\n"
     ]
    },
    {
     "name": "stderr",
     "output_type": "stream",
     "text": [
      "GLCM is symmetrical, therefore Sum Average = 2 * Joint Average, only 1 needs to be calculated\n",
      "Shape features are only available 3D input (for 2D input, use shape2D). Found 2D input\n",
      "GLCM is symmetrical, therefore Sum Average = 2 * Joint Average, only 1 needs to be calculated\n",
      "Shape features are only available 3D input (for 2D input, use shape2D). Found 2D input\n",
      "GLCM is symmetrical, therefore Sum Average = 2 * Joint Average, only 1 needs to be calculated\n",
      "Shape features are only available 3D input (for 2D input, use shape2D). Found 2D input\n",
      "GLCM is symmetrical, therefore Sum Average = 2 * Joint Average, only 1 needs to be calculated\n",
      "Shape features are only available 3D input (for 2D input, use shape2D). Found 2D input\n",
      "GLCM is symmetrical, therefore Sum Average = 2 * Joint Average, only 1 needs to be calculated\n"
     ]
    },
    {
     "name": "stdout",
     "output_type": "stream",
     "text": [
      "Loading image dataset/cut/healthy/IM-0003-0008-h2-1.jpg\n",
      "Loading image dataset/cut/healthy/IM-0003-0008-h4-1.jpg\n",
      "Loading image dataset/cut/healthy/IM-0003-0008-h5-1.jpg\n",
      "Loading image dataset/cut/healthy/IM-0003-0009-h-1.jpg\n",
      "Loading image dataset/cut/healthy/IM-0003-0009-h1-1.jpg\n"
     ]
    },
    {
     "name": "stderr",
     "output_type": "stream",
     "text": [
      "Shape features are only available 3D input (for 2D input, use shape2D). Found 2D input\n",
      "GLCM is symmetrical, therefore Sum Average = 2 * Joint Average, only 1 needs to be calculated\n",
      "Shape features are only available 3D input (for 2D input, use shape2D). Found 2D input\n",
      "GLCM is symmetrical, therefore Sum Average = 2 * Joint Average, only 1 needs to be calculated\n",
      "Shape features are only available 3D input (for 2D input, use shape2D). Found 2D input\n",
      "GLCM is symmetrical, therefore Sum Average = 2 * Joint Average, only 1 needs to be calculated\n",
      "Shape features are only available 3D input (for 2D input, use shape2D). Found 2D input\n",
      "GLCM is symmetrical, therefore Sum Average = 2 * Joint Average, only 1 needs to be calculated\n",
      "Shape features are only available 3D input (for 2D input, use shape2D). Found 2D input\n",
      "GLCM is symmetrical, therefore Sum Average = 2 * Joint Average, only 1 needs to be calculated\n"
     ]
    },
    {
     "name": "stdout",
     "output_type": "stream",
     "text": [
      "Loading image dataset/cut/healthy/IM-0003-0009-h2-1.jpg\n",
      "Loading image dataset/cut/healthy/IM-0003-0009-h4-1.jpg\n",
      "Loading image dataset/cut/healthy/IM-0003-0009-h5-1.jpg\n",
      "Loading image dataset/cut/healthy/IM-0003-0010-h-1.jpg\n",
      "Loading image dataset/cut/healthy/IM-0003-0010-h1-1.jpg\n"
     ]
    },
    {
     "name": "stderr",
     "output_type": "stream",
     "text": [
      "Shape features are only available 3D input (for 2D input, use shape2D). Found 2D input\n",
      "GLCM is symmetrical, therefore Sum Average = 2 * Joint Average, only 1 needs to be calculated\n",
      "Shape features are only available 3D input (for 2D input, use shape2D). Found 2D input\n",
      "GLCM is symmetrical, therefore Sum Average = 2 * Joint Average, only 1 needs to be calculated\n",
      "Shape features are only available 3D input (for 2D input, use shape2D). Found 2D input\n",
      "GLCM is symmetrical, therefore Sum Average = 2 * Joint Average, only 1 needs to be calculated\n",
      "Shape features are only available 3D input (for 2D input, use shape2D). Found 2D input\n",
      "GLCM is symmetrical, therefore Sum Average = 2 * Joint Average, only 1 needs to be calculated\n",
      "Shape features are only available 3D input (for 2D input, use shape2D). Found 2D input\n",
      "GLCM is symmetrical, therefore Sum Average = 2 * Joint Average, only 1 needs to be calculated\n"
     ]
    },
    {
     "name": "stdout",
     "output_type": "stream",
     "text": [
      "Loading image dataset/cut/healthy/IM-0003-0010-h2-1.jpg\n",
      "Loading image dataset/cut/healthy/IM-0003-0010-h4-1.jpg\n",
      "Loading image dataset/cut/healthy/IM-0003-0010-h5-1.jpg\n",
      "Loading image dataset/cut/healthy/IM-0003-0011-h-1.jpg\n"
     ]
    },
    {
     "name": "stderr",
     "output_type": "stream",
     "text": [
      "Shape features are only available 3D input (for 2D input, use shape2D). Found 2D input\n",
      "GLCM is symmetrical, therefore Sum Average = 2 * Joint Average, only 1 needs to be calculated\n",
      "Shape features are only available 3D input (for 2D input, use shape2D). Found 2D input\n",
      "GLCM is symmetrical, therefore Sum Average = 2 * Joint Average, only 1 needs to be calculated\n",
      "Shape features are only available 3D input (for 2D input, use shape2D). Found 2D input\n",
      "GLCM is symmetrical, therefore Sum Average = 2 * Joint Average, only 1 needs to be calculated\n",
      "Shape features are only available 3D input (for 2D input, use shape2D). Found 2D input\n",
      "GLCM is symmetrical, therefore Sum Average = 2 * Joint Average, only 1 needs to be calculated\n"
     ]
    },
    {
     "name": "stdout",
     "output_type": "stream",
     "text": [
      "Loading image dataset/cut/healthy/IM-0003-0011-h1-1.jpg\n",
      "Loading image dataset/cut/healthy/IM-0003-0011-h2-1.jpg\n",
      "Loading image dataset/cut/healthy/IM-0003-0011-h4-1.jpg\n",
      "Loading image dataset/cut/healthy/IM-0003-0011-h5-1.jpg\n"
     ]
    },
    {
     "name": "stderr",
     "output_type": "stream",
     "text": [
      "Shape features are only available 3D input (for 2D input, use shape2D). Found 2D input\n",
      "GLCM is symmetrical, therefore Sum Average = 2 * Joint Average, only 1 needs to be calculated\n",
      "Shape features are only available 3D input (for 2D input, use shape2D). Found 2D input\n",
      "GLCM is symmetrical, therefore Sum Average = 2 * Joint Average, only 1 needs to be calculated\n",
      "Shape features are only available 3D input (for 2D input, use shape2D). Found 2D input\n",
      "GLCM is symmetrical, therefore Sum Average = 2 * Joint Average, only 1 needs to be calculated\n",
      "Shape features are only available 3D input (for 2D input, use shape2D). Found 2D input\n",
      "GLCM is symmetrical, therefore Sum Average = 2 * Joint Average, only 1 needs to be calculated\n"
     ]
    },
    {
     "name": "stdout",
     "output_type": "stream",
     "text": [
      "Loading image dataset/cut/healthy/IM-0003-0012-h-1.jpg\n",
      "Loading image dataset/cut/healthy/IM-0003-0012-h1-1.jpg\n",
      "Loading image dataset/cut/healthy/IM-0003-0012-h2-1.jpg\n",
      "Loading image dataset/cut/healthy/IM-0003-0012-h4-1.jpg\n"
     ]
    },
    {
     "name": "stderr",
     "output_type": "stream",
     "text": [
      "Shape features are only available 3D input (for 2D input, use shape2D). Found 2D input\n",
      "GLCM is symmetrical, therefore Sum Average = 2 * Joint Average, only 1 needs to be calculated\n",
      "Shape features are only available 3D input (for 2D input, use shape2D). Found 2D input\n",
      "GLCM is symmetrical, therefore Sum Average = 2 * Joint Average, only 1 needs to be calculated\n",
      "Shape features are only available 3D input (for 2D input, use shape2D). Found 2D input\n",
      "GLCM is symmetrical, therefore Sum Average = 2 * Joint Average, only 1 needs to be calculated\n",
      "Shape features are only available 3D input (for 2D input, use shape2D). Found 2D input\n",
      "GLCM is symmetrical, therefore Sum Average = 2 * Joint Average, only 1 needs to be calculated\n"
     ]
    },
    {
     "name": "stdout",
     "output_type": "stream",
     "text": [
      "Loading image dataset/cut/healthy/IM-0003-0012-h5-1.jpg\n",
      "Loading image dataset/cut/healthy/IM-0003-0013-h-1.jpg\n",
      "Loading image dataset/cut/healthy/IM-0003-0013-h1-1.jpg\n",
      "Loading image dataset/cut/healthy/IM-0003-0013-h2-1.jpg\n"
     ]
    },
    {
     "name": "stderr",
     "output_type": "stream",
     "text": [
      "Shape features are only available 3D input (for 2D input, use shape2D). Found 2D input\n",
      "GLCM is symmetrical, therefore Sum Average = 2 * Joint Average, only 1 needs to be calculated\n",
      "Shape features are only available 3D input (for 2D input, use shape2D). Found 2D input\n",
      "GLCM is symmetrical, therefore Sum Average = 2 * Joint Average, only 1 needs to be calculated\n",
      "Shape features are only available 3D input (for 2D input, use shape2D). Found 2D input\n",
      "GLCM is symmetrical, therefore Sum Average = 2 * Joint Average, only 1 needs to be calculated\n",
      "Shape features are only available 3D input (for 2D input, use shape2D). Found 2D input\n",
      "GLCM is symmetrical, therefore Sum Average = 2 * Joint Average, only 1 needs to be calculated\n"
     ]
    },
    {
     "name": "stdout",
     "output_type": "stream",
     "text": [
      "Loading image dataset/cut/healthy/IM-0003-0013-h4-1.jpg\n",
      "Loading image dataset/cut/healthy/IM-0003-0013-h5-1.jpg\n",
      "Loading image dataset/cut/healthy/IM-0003-0014-h-1.jpg\n",
      "Loading image dataset/cut/healthy/IM-0003-0014-h1-1.jpg\n",
      "Loading image dataset/cut/healthy/IM-0003-0014-h2-1.jpg\n"
     ]
    },
    {
     "name": "stderr",
     "output_type": "stream",
     "text": [
      "Shape features are only available 3D input (for 2D input, use shape2D). Found 2D input\n",
      "GLCM is symmetrical, therefore Sum Average = 2 * Joint Average, only 1 needs to be calculated\n",
      "Shape features are only available 3D input (for 2D input, use shape2D). Found 2D input\n",
      "GLCM is symmetrical, therefore Sum Average = 2 * Joint Average, only 1 needs to be calculated\n",
      "Shape features are only available 3D input (for 2D input, use shape2D). Found 2D input\n",
      "GLCM is symmetrical, therefore Sum Average = 2 * Joint Average, only 1 needs to be calculated\n",
      "Shape features are only available 3D input (for 2D input, use shape2D). Found 2D input\n",
      "GLCM is symmetrical, therefore Sum Average = 2 * Joint Average, only 1 needs to be calculated\n",
      "Shape features are only available 3D input (for 2D input, use shape2D). Found 2D input\n",
      "GLCM is symmetrical, therefore Sum Average = 2 * Joint Average, only 1 needs to be calculated\n",
      "Shape features are only available 3D input (for 2D input, use shape2D). Found 2D input\n",
      "GLCM is symmetrical, therefore Sum Average = 2 * Joint Average, only 1 needs to be calculated\n"
     ]
    },
    {
     "name": "stdout",
     "output_type": "stream",
     "text": [
      "Loading image dataset/cut/healthy/IM-0003-0014-h4-1.jpg\n",
      "Loading image dataset/cut/healthy/IM-0003-0014-h4-2.jpg\n",
      "Loading image dataset/cut/healthy/IM-0003-0014-h5-1.jpg\n",
      "Loading image dataset/cut/healthy/IM-0003-0015-h-1.jpg\n",
      "Loading image dataset/cut/healthy/IM-0003-0015-h1-1.jpg\n"
     ]
    },
    {
     "name": "stderr",
     "output_type": "stream",
     "text": [
      "Shape features are only available 3D input (for 2D input, use shape2D). Found 2D input\n",
      "GLCM is symmetrical, therefore Sum Average = 2 * Joint Average, only 1 needs to be calculated\n",
      "Shape features are only available 3D input (for 2D input, use shape2D). Found 2D input\n",
      "GLCM is symmetrical, therefore Sum Average = 2 * Joint Average, only 1 needs to be calculated\n",
      "Shape features are only available 3D input (for 2D input, use shape2D). Found 2D input\n",
      "GLCM is symmetrical, therefore Sum Average = 2 * Joint Average, only 1 needs to be calculated\n",
      "Shape features are only available 3D input (for 2D input, use shape2D). Found 2D input\n",
      "GLCM is symmetrical, therefore Sum Average = 2 * Joint Average, only 1 needs to be calculated\n",
      "Shape features are only available 3D input (for 2D input, use shape2D). Found 2D input\n",
      "GLCM is symmetrical, therefore Sum Average = 2 * Joint Average, only 1 needs to be calculated\n"
     ]
    },
    {
     "name": "stdout",
     "output_type": "stream",
     "text": [
      "Loading image dataset/cut/healthy/IM-0003-0015-h2-1.jpg\n",
      "Loading image dataset/cut/healthy/IM-0003-0015-h4-1.jpg\n",
      "Loading image dataset/cut/healthy/IM-0003-0015-h4-2.jpg\n",
      "Loading image dataset/cut/healthy/IM-0003-0015-h5-1.jpg\n",
      "Loading image dataset/cut/healthy/IM-0003-0016-h-1.jpg\n"
     ]
    },
    {
     "name": "stderr",
     "output_type": "stream",
     "text": [
      "Shape features are only available 3D input (for 2D input, use shape2D). Found 2D input\n",
      "GLCM is symmetrical, therefore Sum Average = 2 * Joint Average, only 1 needs to be calculated\n",
      "Shape features are only available 3D input (for 2D input, use shape2D). Found 2D input\n",
      "GLCM is symmetrical, therefore Sum Average = 2 * Joint Average, only 1 needs to be calculated\n",
      "Shape features are only available 3D input (for 2D input, use shape2D). Found 2D input\n",
      "GLCM is symmetrical, therefore Sum Average = 2 * Joint Average, only 1 needs to be calculated\n",
      "Shape features are only available 3D input (for 2D input, use shape2D). Found 2D input\n",
      "GLCM is symmetrical, therefore Sum Average = 2 * Joint Average, only 1 needs to be calculated\n",
      "Shape features are only available 3D input (for 2D input, use shape2D). Found 2D input\n",
      "GLCM is symmetrical, therefore Sum Average = 2 * Joint Average, only 1 needs to be calculated\n"
     ]
    },
    {
     "name": "stdout",
     "output_type": "stream",
     "text": [
      "Loading image dataset/cut/healthy/IM-0003-0016-h-2.jpg\n",
      "Loading image dataset/cut/healthy/IM-0003-0016-h1-1.jpg\n",
      "Loading image dataset/cut/healthy/IM-0003-0016-h2-1.jpg\n",
      "Loading image dataset/cut/healthy/IM-0003-0016-h2-2.jpg\n",
      "Loading image dataset/cut/healthy/IM-0003-0016-h4-1.jpg\n"
     ]
    },
    {
     "name": "stderr",
     "output_type": "stream",
     "text": [
      "Shape features are only available 3D input (for 2D input, use shape2D). Found 2D input\n",
      "GLCM is symmetrical, therefore Sum Average = 2 * Joint Average, only 1 needs to be calculated\n",
      "Shape features are only available 3D input (for 2D input, use shape2D). Found 2D input\n",
      "GLCM is symmetrical, therefore Sum Average = 2 * Joint Average, only 1 needs to be calculated\n",
      "Shape features are only available 3D input (for 2D input, use shape2D). Found 2D input\n",
      "GLCM is symmetrical, therefore Sum Average = 2 * Joint Average, only 1 needs to be calculated\n",
      "Shape features are only available 3D input (for 2D input, use shape2D). Found 2D input\n",
      "GLCM is symmetrical, therefore Sum Average = 2 * Joint Average, only 1 needs to be calculated\n"
     ]
    },
    {
     "name": "stdout",
     "output_type": "stream",
     "text": [
      "Loading image dataset/cut/healthy/IM-0003-0016-h4-2.jpg\n",
      "Loading image dataset/cut/healthy/IM-0003-0016-h5-1.jpg\n",
      "Loading image dataset/cut/healthy/IM-0003-0016-h5-2.jpg\n",
      "Loading image dataset/cut/healthy/IM-0003-0017-h-1.jpg\n",
      "Loading image dataset/cut/healthy/IM-0003-0017-h-2.jpg\n"
     ]
    },
    {
     "name": "stderr",
     "output_type": "stream",
     "text": [
      "Shape features are only available 3D input (for 2D input, use shape2D). Found 2D input\n",
      "GLCM is symmetrical, therefore Sum Average = 2 * Joint Average, only 1 needs to be calculated\n",
      "Shape features are only available 3D input (for 2D input, use shape2D). Found 2D input\n",
      "GLCM is symmetrical, therefore Sum Average = 2 * Joint Average, only 1 needs to be calculated\n",
      "Shape features are only available 3D input (for 2D input, use shape2D). Found 2D input\n",
      "GLCM is symmetrical, therefore Sum Average = 2 * Joint Average, only 1 needs to be calculated\n"
     ]
    },
    {
     "name": "stdout",
     "output_type": "stream",
     "text": [
      "Loading image dataset/cut/healthy/IM-0003-0017-h1-1.jpg\n",
      "Loading image dataset/cut/healthy/IM-0003-0017-h2-1.jpg\n",
      "Loading image dataset/cut/healthy/IM-0003-0017-h2-2.jpg\n"
     ]
    },
    {
     "name": "stderr",
     "output_type": "stream",
     "text": [
      "Shape features are only available 3D input (for 2D input, use shape2D). Found 2D input\n",
      "GLCM is symmetrical, therefore Sum Average = 2 * Joint Average, only 1 needs to be calculated\n",
      "Shape features are only available 3D input (for 2D input, use shape2D). Found 2D input\n",
      "GLCM is symmetrical, therefore Sum Average = 2 * Joint Average, only 1 needs to be calculated\n",
      "Shape features are only available 3D input (for 2D input, use shape2D). Found 2D input\n",
      "GLCM is symmetrical, therefore Sum Average = 2 * Joint Average, only 1 needs to be calculated\n",
      "Shape features are only available 3D input (for 2D input, use shape2D). Found 2D input\n",
      "GLCM is symmetrical, therefore Sum Average = 2 * Joint Average, only 1 needs to be calculated\n",
      "Shape features are only available 3D input (for 2D input, use shape2D). Found 2D input\n"
     ]
    },
    {
     "name": "stdout",
     "output_type": "stream",
     "text": [
      "Loading image dataset/cut/healthy/IM-0003-0017-h4-1.jpg\n",
      "Loading image dataset/cut/healthy/IM-0003-0017-h4-2.jpg\n",
      "Loading image dataset/cut/healthy/IM-0003-0017-h5-1.jpg\n",
      "Loading image dataset/cut/healthy/IM-0003-0017-h5-2.jpg\n"
     ]
    },
    {
     "name": "stderr",
     "output_type": "stream",
     "text": [
      "GLCM is symmetrical, therefore Sum Average = 2 * Joint Average, only 1 needs to be calculated\n",
      "Shape features are only available 3D input (for 2D input, use shape2D). Found 2D input\n",
      "GLCM is symmetrical, therefore Sum Average = 2 * Joint Average, only 1 needs to be calculated\n",
      "Shape features are only available 3D input (for 2D input, use shape2D). Found 2D input\n",
      "GLCM is symmetrical, therefore Sum Average = 2 * Joint Average, only 1 needs to be calculated\n",
      "Shape features are only available 3D input (for 2D input, use shape2D). Found 2D input\n",
      "GLCM is symmetrical, therefore Sum Average = 2 * Joint Average, only 1 needs to be calculated\n"
     ]
    },
    {
     "name": "stdout",
     "output_type": "stream",
     "text": [
      "Loading image dataset/cut/healthy/IM-0003-0018-h-1.jpg\n",
      "Loading image dataset/cut/healthy/IM-0003-0018-h-2.jpg\n",
      "Loading image dataset/cut/healthy/IM-0003-0018-h1-1.jpg\n",
      "Loading image dataset/cut/healthy/IM-0003-0018-h2-1.jpg\n"
     ]
    },
    {
     "name": "stderr",
     "output_type": "stream",
     "text": [
      "Shape features are only available 3D input (for 2D input, use shape2D). Found 2D input\n",
      "GLCM is symmetrical, therefore Sum Average = 2 * Joint Average, only 1 needs to be calculated\n",
      "Shape features are only available 3D input (for 2D input, use shape2D). Found 2D input\n",
      "GLCM is symmetrical, therefore Sum Average = 2 * Joint Average, only 1 needs to be calculated\n",
      "Shape features are only available 3D input (for 2D input, use shape2D). Found 2D input\n",
      "GLCM is symmetrical, therefore Sum Average = 2 * Joint Average, only 1 needs to be calculated\n",
      "Shape features are only available 3D input (for 2D input, use shape2D). Found 2D input\n",
      "GLCM is symmetrical, therefore Sum Average = 2 * Joint Average, only 1 needs to be calculated\n",
      "Shape features are only available 3D input (for 2D input, use shape2D). Found 2D input\n"
     ]
    },
    {
     "name": "stdout",
     "output_type": "stream",
     "text": [
      "Loading image dataset/cut/healthy/IM-0003-0018-h2-2.jpg\n",
      "Loading image dataset/cut/healthy/IM-0003-0018-h4-1.jpg\n",
      "Loading image dataset/cut/healthy/IM-0003-0018-h4-2.jpg\n",
      "Loading image dataset/cut/healthy/IM-0003-0018-h5-1.jpg\n"
     ]
    },
    {
     "name": "stderr",
     "output_type": "stream",
     "text": [
      "GLCM is symmetrical, therefore Sum Average = 2 * Joint Average, only 1 needs to be calculated\n",
      "Shape features are only available 3D input (for 2D input, use shape2D). Found 2D input\n",
      "GLCM is symmetrical, therefore Sum Average = 2 * Joint Average, only 1 needs to be calculated\n",
      "Shape features are only available 3D input (for 2D input, use shape2D). Found 2D input\n",
      "GLCM is symmetrical, therefore Sum Average = 2 * Joint Average, only 1 needs to be calculated\n",
      "Shape features are only available 3D input (for 2D input, use shape2D). Found 2D input\n",
      "GLCM is symmetrical, therefore Sum Average = 2 * Joint Average, only 1 needs to be calculated\n",
      "Shape features are only available 3D input (for 2D input, use shape2D). Found 2D input\n",
      "GLCM is symmetrical, therefore Sum Average = 2 * Joint Average, only 1 needs to be calculated\n"
     ]
    },
    {
     "name": "stdout",
     "output_type": "stream",
     "text": [
      "Loading image dataset/cut/healthy/IM-0003-0018-h5-2.jpg\n",
      "Loading image dataset/cut/healthy/IM-0003-0019-h-1.jpg\n",
      "Loading image dataset/cut/healthy/IM-0003-0019-h-2.jpg\n",
      "Loading image dataset/cut/healthy/IM-0003-0019-h1-1.jpg\n",
      "Loading image dataset/cut/healthy/IM-0003-0019-h2-1.jpg\n"
     ]
    },
    {
     "name": "stderr",
     "output_type": "stream",
     "text": [
      "Shape features are only available 3D input (for 2D input, use shape2D). Found 2D input\n",
      "GLCM is symmetrical, therefore Sum Average = 2 * Joint Average, only 1 needs to be calculated\n",
      "Shape features are only available 3D input (for 2D input, use shape2D). Found 2D input\n",
      "GLCM is symmetrical, therefore Sum Average = 2 * Joint Average, only 1 needs to be calculated\n",
      "Shape features are only available 3D input (for 2D input, use shape2D). Found 2D input\n",
      "GLCM is symmetrical, therefore Sum Average = 2 * Joint Average, only 1 needs to be calculated\n",
      "Shape features are only available 3D input (for 2D input, use shape2D). Found 2D input\n",
      "GLCM is symmetrical, therefore Sum Average = 2 * Joint Average, only 1 needs to be calculated\n",
      "Shape features are only available 3D input (for 2D input, use shape2D). Found 2D input\n",
      "GLCM is symmetrical, therefore Sum Average = 2 * Joint Average, only 1 needs to be calculated\n",
      "Shape features are only available 3D input (for 2D input, use shape2D). Found 2D input\n",
      "GLCM is symmetrical, therefore Sum Average = 2 * Joint Average, only 1 needs to be calculated\n"
     ]
    },
    {
     "name": "stdout",
     "output_type": "stream",
     "text": [
      "Loading image dataset/cut/healthy/IM-0003-0019-h2-2.jpg\n",
      "Loading image dataset/cut/healthy/IM-0003-0019-h4-1.jpg\n",
      "Loading image dataset/cut/healthy/IM-0003-0019-h4-2.jpg\n",
      "Loading image dataset/cut/healthy/IM-0003-0019-h5-1.jpg\n",
      "Loading image dataset/cut/healthy/IM-0003-0019-h5-2.jpg\n",
      "Loading image dataset/cut/healthy/IM-0003-0020-h-1.jpg\n"
     ]
    },
    {
     "name": "stderr",
     "output_type": "stream",
     "text": [
      "Shape features are only available 3D input (for 2D input, use shape2D). Found 2D input\n",
      "GLCM is symmetrical, therefore Sum Average = 2 * Joint Average, only 1 needs to be calculated\n",
      "Shape features are only available 3D input (for 2D input, use shape2D). Found 2D input\n",
      "GLCM is symmetrical, therefore Sum Average = 2 * Joint Average, only 1 needs to be calculated\n",
      "Shape features are only available 3D input (for 2D input, use shape2D). Found 2D input\n",
      "GLCM is symmetrical, therefore Sum Average = 2 * Joint Average, only 1 needs to be calculated\n",
      "Shape features are only available 3D input (for 2D input, use shape2D). Found 2D input\n",
      "GLCM is symmetrical, therefore Sum Average = 2 * Joint Average, only 1 needs to be calculated\n",
      "Shape features are only available 3D input (for 2D input, use shape2D). Found 2D input\n",
      "GLCM is symmetrical, therefore Sum Average = 2 * Joint Average, only 1 needs to be calculated\n",
      "Shape features are only available 3D input (for 2D input, use shape2D). Found 2D input\n",
      "GLCM is symmetrical, therefore Sum Average = 2 * Joint Average, only 1 needs to be calculated\n",
      "Shape features are only available 3D input (for 2D input, use shape2D). Found 2D input\n"
     ]
    },
    {
     "name": "stdout",
     "output_type": "stream",
     "text": [
      "Loading image dataset/cut/healthy/IM-0003-0020-h-2.jpg\n",
      "Loading image dataset/cut/healthy/IM-0003-0020-h1-1.jpg\n",
      "Loading image dataset/cut/healthy/IM-0003-0020-h2-1.jpg\n",
      "Loading image dataset/cut/healthy/IM-0003-0020-h2-2.jpg\n",
      "Loading image dataset/cut/healthy/IM-0003-0020-h4-1.jpg\n",
      "Loading image dataset/cut/healthy/IM-0003-0020-h4-2.jpg\n"
     ]
    },
    {
     "name": "stderr",
     "output_type": "stream",
     "text": [
      "GLCM is symmetrical, therefore Sum Average = 2 * Joint Average, only 1 needs to be calculated\n",
      "Shape features are only available 3D input (for 2D input, use shape2D). Found 2D input\n",
      "GLCM is symmetrical, therefore Sum Average = 2 * Joint Average, only 1 needs to be calculated\n",
      "Shape features are only available 3D input (for 2D input, use shape2D). Found 2D input\n",
      "GLCM is symmetrical, therefore Sum Average = 2 * Joint Average, only 1 needs to be calculated\n",
      "Shape features are only available 3D input (for 2D input, use shape2D). Found 2D input\n",
      "GLCM is symmetrical, therefore Sum Average = 2 * Joint Average, only 1 needs to be calculated\n",
      "Shape features are only available 3D input (for 2D input, use shape2D). Found 2D input\n",
      "GLCM is symmetrical, therefore Sum Average = 2 * Joint Average, only 1 needs to be calculated\n",
      "Shape features are only available 3D input (for 2D input, use shape2D). Found 2D input\n",
      "GLCM is symmetrical, therefore Sum Average = 2 * Joint Average, only 1 needs to be calculated\n",
      "Shape features are only available 3D input (for 2D input, use shape2D). Found 2D input\n",
      "GLCM is symmetrical, therefore Sum Average = 2 * Joint Average, only 1 needs to be calculated\n",
      "Shape features are only available 3D input (for 2D input, use shape2D). Found 2D input\n"
     ]
    },
    {
     "name": "stdout",
     "output_type": "stream",
     "text": [
      "Loading image dataset/cut/healthy/IM-0003-0020-h5-1.jpg\n",
      "Loading image dataset/cut/healthy/IM-0003-0020-h5-2.jpg\n",
      "Loading image dataset/cut/healthy/IM-0003-0021-h-1.jpg\n",
      "Loading image dataset/cut/healthy/IM-0003-0021-h-2.jpg\n",
      "Loading image dataset/cut/healthy/IM-0003-0021-h1-1.jpg\n",
      "Loading image dataset/cut/healthy/IM-0003-0021-h1-2.jpg\n",
      "Loading image dataset/cut/healthy/IM-0003-0021-h2-1.jpg\n"
     ]
    },
    {
     "name": "stderr",
     "output_type": "stream",
     "text": [
      "GLCM is symmetrical, therefore Sum Average = 2 * Joint Average, only 1 needs to be calculated\n",
      "Shape features are only available 3D input (for 2D input, use shape2D). Found 2D input\n",
      "GLCM is symmetrical, therefore Sum Average = 2 * Joint Average, only 1 needs to be calculated\n",
      "Shape features are only available 3D input (for 2D input, use shape2D). Found 2D input\n",
      "GLCM is symmetrical, therefore Sum Average = 2 * Joint Average, only 1 needs to be calculated\n",
      "Shape features are only available 3D input (for 2D input, use shape2D). Found 2D input\n",
      "GLCM is symmetrical, therefore Sum Average = 2 * Joint Average, only 1 needs to be calculated\n",
      "Shape features are only available 3D input (for 2D input, use shape2D). Found 2D input\n",
      "GLCM is symmetrical, therefore Sum Average = 2 * Joint Average, only 1 needs to be calculated\n",
      "Shape features are only available 3D input (for 2D input, use shape2D). Found 2D input\n",
      "GLCM is symmetrical, therefore Sum Average = 2 * Joint Average, only 1 needs to be calculated\n",
      "Shape features are only available 3D input (for 2D input, use shape2D). Found 2D input\n",
      "GLCM is symmetrical, therefore Sum Average = 2 * Joint Average, only 1 needs to be calculated\n",
      "Shape features are only available 3D input (for 2D input, use shape2D). Found 2D input\n",
      "GLCM is symmetrical, therefore Sum Average = 2 * Joint Average, only 1 needs to be calculated\n"
     ]
    },
    {
     "name": "stdout",
     "output_type": "stream",
     "text": [
      "Loading image dataset/cut/healthy/IM-0003-0021-h2-2.jpg\n",
      "Loading image dataset/cut/healthy/IM-0003-0021-h4-1.jpg\n",
      "Loading image dataset/cut/healthy/IM-0003-0021-h4-2.jpg\n",
      "Loading image dataset/cut/healthy/IM-0003-0021-h5-1.jpg\n",
      "Loading image dataset/cut/healthy/IM-0003-0021-h5-2.jpg\n",
      "Loading image dataset/cut/healthy/IM-0003-0022-h-1.jpg\n",
      "Loading image dataset/cut/healthy/IM-0003-0022-h-2.jpg\n",
      "Loading image dataset/cut/healthy/IM-0003-0022-h1-1.jpg\n"
     ]
    },
    {
     "name": "stderr",
     "output_type": "stream",
     "text": [
      "Shape features are only available 3D input (for 2D input, use shape2D). Found 2D input\n",
      "GLCM is symmetrical, therefore Sum Average = 2 * Joint Average, only 1 needs to be calculated\n",
      "Shape features are only available 3D input (for 2D input, use shape2D). Found 2D input\n",
      "GLCM is symmetrical, therefore Sum Average = 2 * Joint Average, only 1 needs to be calculated\n",
      "Shape features are only available 3D input (for 2D input, use shape2D). Found 2D input\n",
      "GLCM is symmetrical, therefore Sum Average = 2 * Joint Average, only 1 needs to be calculated\n",
      "Shape features are only available 3D input (for 2D input, use shape2D). Found 2D input\n",
      "GLCM is symmetrical, therefore Sum Average = 2 * Joint Average, only 1 needs to be calculated\n",
      "Shape features are only available 3D input (for 2D input, use shape2D). Found 2D input\n",
      "GLCM is symmetrical, therefore Sum Average = 2 * Joint Average, only 1 needs to be calculated\n",
      "Shape features are only available 3D input (for 2D input, use shape2D). Found 2D input\n",
      "GLCM is symmetrical, therefore Sum Average = 2 * Joint Average, only 1 needs to be calculated\n",
      "Shape features are only available 3D input (for 2D input, use shape2D). Found 2D input\n",
      "GLCM is symmetrical, therefore Sum Average = 2 * Joint Average, only 1 needs to be calculated\n"
     ]
    },
    {
     "name": "stdout",
     "output_type": "stream",
     "text": [
      "Loading image dataset/cut/healthy/IM-0003-0022-h1-2.jpg\n",
      "Loading image dataset/cut/healthy/IM-0003-0022-h2-1.jpg\n",
      "Loading image dataset/cut/healthy/IM-0003-0022-h2-2.jpg\n",
      "Loading image dataset/cut/healthy/IM-0003-0022-h4-1.jpg\n",
      "Loading image dataset/cut/healthy/IM-0003-0022-h4-2.jpg\n",
      "Loading image dataset/cut/healthy/IM-0003-0022-h5-1.jpg\n",
      "Loading image dataset/cut/healthy/IM-0003-0022-h5-2.jpg\n"
     ]
    },
    {
     "name": "stderr",
     "output_type": "stream",
     "text": [
      "Shape features are only available 3D input (for 2D input, use shape2D). Found 2D input\n",
      "GLCM is symmetrical, therefore Sum Average = 2 * Joint Average, only 1 needs to be calculated\n",
      "Shape features are only available 3D input (for 2D input, use shape2D). Found 2D input\n",
      "GLCM is symmetrical, therefore Sum Average = 2 * Joint Average, only 1 needs to be calculated\n",
      "Shape features are only available 3D input (for 2D input, use shape2D). Found 2D input\n",
      "GLCM is symmetrical, therefore Sum Average = 2 * Joint Average, only 1 needs to be calculated\n",
      "Shape features are only available 3D input (for 2D input, use shape2D). Found 2D input\n",
      "GLCM is symmetrical, therefore Sum Average = 2 * Joint Average, only 1 needs to be calculated\n",
      "Shape features are only available 3D input (for 2D input, use shape2D). Found 2D input\n",
      "GLCM is symmetrical, therefore Sum Average = 2 * Joint Average, only 1 needs to be calculated\n",
      "Shape features are only available 3D input (for 2D input, use shape2D). Found 2D input\n",
      "GLCM is symmetrical, therefore Sum Average = 2 * Joint Average, only 1 needs to be calculated\n"
     ]
    },
    {
     "name": "stdout",
     "output_type": "stream",
     "text": [
      "Loading image dataset/cut/healthy/IM-0003-0023-h-1.jpg\n",
      "Loading image dataset/cut/healthy/IM-0003-0023-h-2.jpg\n",
      "Loading image dataset/cut/healthy/IM-0003-0023-h1-1.jpg\n",
      "Loading image dataset/cut/healthy/IM-0003-0023-h1-2.jpg\n",
      "Loading image dataset/cut/healthy/IM-0003-0023-h2-1.jpg\n",
      "Loading image dataset/cut/healthy/IM-0003-0023-h2-2.jpg\n"
     ]
    },
    {
     "name": "stderr",
     "output_type": "stream",
     "text": [
      "Shape features are only available 3D input (for 2D input, use shape2D). Found 2D input\n",
      "GLCM is symmetrical, therefore Sum Average = 2 * Joint Average, only 1 needs to be calculated\n",
      "Shape features are only available 3D input (for 2D input, use shape2D). Found 2D input\n",
      "GLCM is symmetrical, therefore Sum Average = 2 * Joint Average, only 1 needs to be calculated\n",
      "Shape features are only available 3D input (for 2D input, use shape2D). Found 2D input\n",
      "GLCM is symmetrical, therefore Sum Average = 2 * Joint Average, only 1 needs to be calculated\n",
      "Shape features are only available 3D input (for 2D input, use shape2D). Found 2D input\n",
      "GLCM is symmetrical, therefore Sum Average = 2 * Joint Average, only 1 needs to be calculated\n",
      "Shape features are only available 3D input (for 2D input, use shape2D). Found 2D input\n",
      "GLCM is symmetrical, therefore Sum Average = 2 * Joint Average, only 1 needs to be calculated\n",
      "Shape features are only available 3D input (for 2D input, use shape2D). Found 2D input\n",
      "GLCM is symmetrical, therefore Sum Average = 2 * Joint Average, only 1 needs to be calculated\n",
      "Shape features are only available 3D input (for 2D input, use shape2D). Found 2D input\n",
      "GLCM is symmetrical, therefore Sum Average = 2 * Joint Average, only 1 needs to be calculated\n"
     ]
    },
    {
     "name": "stdout",
     "output_type": "stream",
     "text": [
      "Loading image dataset/cut/healthy/IM-0003-0023-h4-1.jpg\n",
      "Loading image dataset/cut/healthy/IM-0003-0023-h4-2.jpg\n",
      "Loading image dataset/cut/healthy/IM-0003-0023-h5-1.jpg\n",
      "Loading image dataset/cut/healthy/IM-0003-0023-h5-2.jpg\n",
      "Loading image dataset/cut/healthy/IM-0003-0024-h-1.jpg\n",
      "Loading image dataset/cut/healthy/IM-0003-0024-h-2.jpg\n",
      "Loading image dataset/cut/healthy/IM-0003-0024-h1-1.jpg\n"
     ]
    },
    {
     "name": "stderr",
     "output_type": "stream",
     "text": [
      "Shape features are only available 3D input (for 2D input, use shape2D). Found 2D input\n",
      "GLCM is symmetrical, therefore Sum Average = 2 * Joint Average, only 1 needs to be calculated\n",
      "Shape features are only available 3D input (for 2D input, use shape2D). Found 2D input\n",
      "GLCM is symmetrical, therefore Sum Average = 2 * Joint Average, only 1 needs to be calculated\n",
      "Shape features are only available 3D input (for 2D input, use shape2D). Found 2D input\n",
      "GLCM is symmetrical, therefore Sum Average = 2 * Joint Average, only 1 needs to be calculated\n",
      "Shape features are only available 3D input (for 2D input, use shape2D). Found 2D input\n",
      "GLCM is symmetrical, therefore Sum Average = 2 * Joint Average, only 1 needs to be calculated\n",
      "Shape features are only available 3D input (for 2D input, use shape2D). Found 2D input\n",
      "GLCM is symmetrical, therefore Sum Average = 2 * Joint Average, only 1 needs to be calculated\n",
      "Shape features are only available 3D input (for 2D input, use shape2D). Found 2D input\n",
      "GLCM is symmetrical, therefore Sum Average = 2 * Joint Average, only 1 needs to be calculated\n",
      "Shape features are only available 3D input (for 2D input, use shape2D). Found 2D input\n",
      "GLCM is symmetrical, therefore Sum Average = 2 * Joint Average, only 1 needs to be calculated\n",
      "Shape features are only available 3D input (for 2D input, use shape2D). Found 2D input\n",
      "GLCM is symmetrical, therefore Sum Average = 2 * Joint Average, only 1 needs to be calculated\n"
     ]
    },
    {
     "name": "stdout",
     "output_type": "stream",
     "text": [
      "Loading image dataset/cut/healthy/IM-0003-0024-h1-2.jpg\n",
      "Loading image dataset/cut/healthy/IM-0003-0024-h2-1.jpg\n",
      "Loading image dataset/cut/healthy/IM-0003-0024-h2-2.jpg\n",
      "Loading image dataset/cut/healthy/IM-0003-0024-h4-1.jpg\n",
      "Loading image dataset/cut/healthy/IM-0003-0024-h4-2.jpg\n",
      "Loading image dataset/cut/healthy/IM-0003-0024-h5-1.jpg\n",
      "Loading image dataset/cut/healthy/IM-0003-0024-h5-2.jpg\n"
     ]
    },
    {
     "name": "stderr",
     "output_type": "stream",
     "text": [
      "Shape features are only available 3D input (for 2D input, use shape2D). Found 2D input\n",
      "GLCM is symmetrical, therefore Sum Average = 2 * Joint Average, only 1 needs to be calculated\n",
      "Shape features are only available 3D input (for 2D input, use shape2D). Found 2D input\n",
      "GLCM is symmetrical, therefore Sum Average = 2 * Joint Average, only 1 needs to be calculated\n",
      "Shape features are only available 3D input (for 2D input, use shape2D). Found 2D input\n",
      "GLCM is symmetrical, therefore Sum Average = 2 * Joint Average, only 1 needs to be calculated\n",
      "Shape features are only available 3D input (for 2D input, use shape2D). Found 2D input\n",
      "GLCM is symmetrical, therefore Sum Average = 2 * Joint Average, only 1 needs to be calculated\n",
      "Shape features are only available 3D input (for 2D input, use shape2D). Found 2D input\n",
      "GLCM is symmetrical, therefore Sum Average = 2 * Joint Average, only 1 needs to be calculated\n",
      "Shape features are only available 3D input (for 2D input, use shape2D). Found 2D input\n",
      "GLCM is symmetrical, therefore Sum Average = 2 * Joint Average, only 1 needs to be calculated\n"
     ]
    },
    {
     "name": "stdout",
     "output_type": "stream",
     "text": [
      "Loading image dataset/cut/healthy/IM-0003-0025-h-1.jpg\n",
      "Loading image dataset/cut/healthy/IM-0003-0025-h-2.jpg\n",
      "Loading image dataset/cut/healthy/IM-0003-0025-h1-1.jpg\n",
      "Loading image dataset/cut/healthy/IM-0003-0025-h1-2.jpg\n",
      "Loading image dataset/cut/healthy/IM-0003-0025-h2-1.jpg\n",
      "Loading image dataset/cut/healthy/IM-0003-0025-h2-2.jpg\n",
      "Loading image dataset/cut/healthy/IM-0003-0025-h4-1.jpg\n"
     ]
    },
    {
     "name": "stderr",
     "output_type": "stream",
     "text": [
      "Shape features are only available 3D input (for 2D input, use shape2D). Found 2D input\n",
      "GLCM is symmetrical, therefore Sum Average = 2 * Joint Average, only 1 needs to be calculated\n",
      "Shape features are only available 3D input (for 2D input, use shape2D). Found 2D input\n",
      "GLCM is symmetrical, therefore Sum Average = 2 * Joint Average, only 1 needs to be calculated\n",
      "Shape features are only available 3D input (for 2D input, use shape2D). Found 2D input\n",
      "GLCM is symmetrical, therefore Sum Average = 2 * Joint Average, only 1 needs to be calculated\n",
      "Shape features are only available 3D input (for 2D input, use shape2D). Found 2D input\n",
      "GLCM is symmetrical, therefore Sum Average = 2 * Joint Average, only 1 needs to be calculated\n",
      "Shape features are only available 3D input (for 2D input, use shape2D). Found 2D input\n",
      "GLCM is symmetrical, therefore Sum Average = 2 * Joint Average, only 1 needs to be calculated\n",
      "Shape features are only available 3D input (for 2D input, use shape2D). Found 2D input\n",
      "GLCM is symmetrical, therefore Sum Average = 2 * Joint Average, only 1 needs to be calculated\n",
      "Shape features are only available 3D input (for 2D input, use shape2D). Found 2D input\n",
      "GLCM is symmetrical, therefore Sum Average = 2 * Joint Average, only 1 needs to be calculated\n",
      "Shape features are only available 3D input (for 2D input, use shape2D). Found 2D input\n",
      "GLCM is symmetrical, therefore Sum Average = 2 * Joint Average, only 1 needs to be calculated\n"
     ]
    },
    {
     "name": "stdout",
     "output_type": "stream",
     "text": [
      "Loading image dataset/cut/healthy/IM-0003-0025-h4-2.jpg\n",
      "Loading image dataset/cut/healthy/IM-0003-0025-h5-1.jpg\n",
      "Loading image dataset/cut/healthy/IM-0003-0025-h5-2.jpg\n",
      "Loading image dataset/cut/healthy/IM-0003-0026-h-1.jpg\n",
      "Loading image dataset/cut/healthy/IM-0003-0026-h-2.jpg\n",
      "Loading image dataset/cut/healthy/IM-0003-0026-h1-1.jpg\n",
      "Loading image dataset/cut/healthy/IM-0003-0026-h1-2.jpg\n",
      "Loading image dataset/cut/healthy/IM-0003-0026-h2-1.jpg\n"
     ]
    },
    {
     "name": "stderr",
     "output_type": "stream",
     "text": [
      "Shape features are only available 3D input (for 2D input, use shape2D). Found 2D input\n",
      "GLCM is symmetrical, therefore Sum Average = 2 * Joint Average, only 1 needs to be calculated\n",
      "Shape features are only available 3D input (for 2D input, use shape2D). Found 2D input\n",
      "GLCM is symmetrical, therefore Sum Average = 2 * Joint Average, only 1 needs to be calculated\n",
      "Shape features are only available 3D input (for 2D input, use shape2D). Found 2D input\n",
      "GLCM is symmetrical, therefore Sum Average = 2 * Joint Average, only 1 needs to be calculated\n",
      "Shape features are only available 3D input (for 2D input, use shape2D). Found 2D input\n",
      "GLCM is symmetrical, therefore Sum Average = 2 * Joint Average, only 1 needs to be calculated\n",
      "Shape features are only available 3D input (for 2D input, use shape2D). Found 2D input\n",
      "GLCM is symmetrical, therefore Sum Average = 2 * Joint Average, only 1 needs to be calculated\n",
      "Shape features are only available 3D input (for 2D input, use shape2D). Found 2D input\n",
      "GLCM is symmetrical, therefore Sum Average = 2 * Joint Average, only 1 needs to be calculated\n",
      "Shape features are only available 3D input (for 2D input, use shape2D). Found 2D input\n",
      "GLCM is symmetrical, therefore Sum Average = 2 * Joint Average, only 1 needs to be calculated\n",
      "Shape features are only available 3D input (for 2D input, use shape2D). Found 2D input\n",
      "GLCM is symmetrical, therefore Sum Average = 2 * Joint Average, only 1 needs to be calculated\n",
      "Shape features are only available 3D input (for 2D input, use shape2D). Found 2D input\n",
      "GLCM is symmetrical, therefore Sum Average = 2 * Joint Average, only 1 needs to be calculated\n"
     ]
    },
    {
     "name": "stdout",
     "output_type": "stream",
     "text": [
      "Loading image dataset/cut/healthy/IM-0003-0026-h2-2.jpg\n",
      "Loading image dataset/cut/healthy/IM-0003-0026-h4-1.jpg\n",
      "Loading image dataset/cut/healthy/IM-0003-0026-h4-2.jpg\n",
      "Loading image dataset/cut/healthy/IM-0003-0026-h5-1.jpg\n",
      "Loading image dataset/cut/healthy/IM-0003-0026-h5-2.jpg\n",
      "Loading image dataset/cut/healthy/IM-0003-0027-h-1.jpg\n",
      "Loading image dataset/cut/healthy/IM-0003-0027-h-2.jpg\n",
      "Loading image dataset/cut/healthy/IM-0003-0027-h1-1.jpg\n",
      "Loading image dataset/cut/healthy/IM-0003-0027-h1-2.jpg\n"
     ]
    },
    {
     "name": "stderr",
     "output_type": "stream",
     "text": [
      "Shape features are only available 3D input (for 2D input, use shape2D). Found 2D input\n",
      "GLCM is symmetrical, therefore Sum Average = 2 * Joint Average, only 1 needs to be calculated\n",
      "Shape features are only available 3D input (for 2D input, use shape2D). Found 2D input\n",
      "GLCM is symmetrical, therefore Sum Average = 2 * Joint Average, only 1 needs to be calculated\n",
      "Shape features are only available 3D input (for 2D input, use shape2D). Found 2D input\n",
      "GLCM is symmetrical, therefore Sum Average = 2 * Joint Average, only 1 needs to be calculated\n",
      "Shape features are only available 3D input (for 2D input, use shape2D). Found 2D input\n",
      "GLCM is symmetrical, therefore Sum Average = 2 * Joint Average, only 1 needs to be calculated\n",
      "Shape features are only available 3D input (for 2D input, use shape2D). Found 2D input\n",
      "GLCM is symmetrical, therefore Sum Average = 2 * Joint Average, only 1 needs to be calculated\n",
      "Shape features are only available 3D input (for 2D input, use shape2D). Found 2D input\n",
      "GLCM is symmetrical, therefore Sum Average = 2 * Joint Average, only 1 needs to be calculated\n",
      "Shape features are only available 3D input (for 2D input, use shape2D). Found 2D input\n",
      "GLCM is symmetrical, therefore Sum Average = 2 * Joint Average, only 1 needs to be calculated\n",
      "Shape features are only available 3D input (for 2D input, use shape2D). Found 2D input\n",
      "GLCM is symmetrical, therefore Sum Average = 2 * Joint Average, only 1 needs to be calculated\n"
     ]
    },
    {
     "name": "stdout",
     "output_type": "stream",
     "text": [
      "Loading image dataset/cut/healthy/IM-0003-0027-h2-1.jpg\n",
      "Loading image dataset/cut/healthy/IM-0003-0027-h2-2.jpg\n",
      "Loading image dataset/cut/healthy/IM-0003-0027-h4-1.jpg\n",
      "Loading image dataset/cut/healthy/IM-0003-0027-h4-2.jpg\n",
      "Loading image dataset/cut/healthy/IM-0003-0027-h5-1.jpg\n",
      "Loading image dataset/cut/healthy/IM-0003-0027-h5-2.jpg\n",
      "Loading image dataset/cut/healthy/IM-0003-0028-h-1.jpg\n",
      "Loading image dataset/cut/healthy/IM-0003-0028-h-2.jpg\n"
     ]
    },
    {
     "name": "stderr",
     "output_type": "stream",
     "text": [
      "Shape features are only available 3D input (for 2D input, use shape2D). Found 2D input\n",
      "GLCM is symmetrical, therefore Sum Average = 2 * Joint Average, only 1 needs to be calculated\n",
      "Shape features are only available 3D input (for 2D input, use shape2D). Found 2D input\n",
      "GLCM is symmetrical, therefore Sum Average = 2 * Joint Average, only 1 needs to be calculated\n",
      "Shape features are only available 3D input (for 2D input, use shape2D). Found 2D input\n",
      "GLCM is symmetrical, therefore Sum Average = 2 * Joint Average, only 1 needs to be calculated\n",
      "Shape features are only available 3D input (for 2D input, use shape2D). Found 2D input\n",
      "GLCM is symmetrical, therefore Sum Average = 2 * Joint Average, only 1 needs to be calculated\n",
      "Shape features are only available 3D input (for 2D input, use shape2D). Found 2D input\n",
      "GLCM is symmetrical, therefore Sum Average = 2 * Joint Average, only 1 needs to be calculated\n",
      "Shape features are only available 3D input (for 2D input, use shape2D). Found 2D input\n",
      "GLCM is symmetrical, therefore Sum Average = 2 * Joint Average, only 1 needs to be calculated\n",
      "Shape features are only available 3D input (for 2D input, use shape2D). Found 2D input\n",
      "GLCM is symmetrical, therefore Sum Average = 2 * Joint Average, only 1 needs to be calculated\n",
      "Shape features are only available 3D input (for 2D input, use shape2D). Found 2D input\n",
      "GLCM is symmetrical, therefore Sum Average = 2 * Joint Average, only 1 needs to be calculated\n",
      "Shape features are only available 3D input (for 2D input, use shape2D). Found 2D input\n"
     ]
    },
    {
     "name": "stdout",
     "output_type": "stream",
     "text": [
      "Loading image dataset/cut/healthy/IM-0003-0028-h1-1.jpg\n",
      "Loading image dataset/cut/healthy/IM-0003-0028-h1-2.jpg\n",
      "Loading image dataset/cut/healthy/IM-0003-0028-h4-1.jpg\n",
      "Loading image dataset/cut/healthy/IM-0003-0028-h4-2.jpg\n",
      "Loading image dataset/cut/healthy/IM-0003-0028-h5-1.jpg\n",
      "Loading image dataset/cut/healthy/IM-0003-0028-h5-2.jpg\n",
      "Loading image dataset/cut/healthy/IM-0003-0029-h-1.jpg\n",
      "Loading image dataset/cut/healthy/IM-0003-0029-h-2.jpg\n"
     ]
    },
    {
     "name": "stderr",
     "output_type": "stream",
     "text": [
      "GLCM is symmetrical, therefore Sum Average = 2 * Joint Average, only 1 needs to be calculated\n",
      "Shape features are only available 3D input (for 2D input, use shape2D). Found 2D input\n",
      "GLCM is symmetrical, therefore Sum Average = 2 * Joint Average, only 1 needs to be calculated\n",
      "Shape features are only available 3D input (for 2D input, use shape2D). Found 2D input\n",
      "GLCM is symmetrical, therefore Sum Average = 2 * Joint Average, only 1 needs to be calculated\n",
      "Shape features are only available 3D input (for 2D input, use shape2D). Found 2D input\n",
      "GLCM is symmetrical, therefore Sum Average = 2 * Joint Average, only 1 needs to be calculated\n",
      "Shape features are only available 3D input (for 2D input, use shape2D). Found 2D input\n",
      "GLCM is symmetrical, therefore Sum Average = 2 * Joint Average, only 1 needs to be calculated\n",
      "Shape features are only available 3D input (for 2D input, use shape2D). Found 2D input\n",
      "GLCM is symmetrical, therefore Sum Average = 2 * Joint Average, only 1 needs to be calculated\n",
      "Shape features are only available 3D input (for 2D input, use shape2D). Found 2D input\n",
      "GLCM is symmetrical, therefore Sum Average = 2 * Joint Average, only 1 needs to be calculated\n",
      "Shape features are only available 3D input (for 2D input, use shape2D). Found 2D input\n",
      "GLCM is symmetrical, therefore Sum Average = 2 * Joint Average, only 1 needs to be calculated\n"
     ]
    },
    {
     "name": "stdout",
     "output_type": "stream",
     "text": [
      "Loading image dataset/cut/healthy/IM-0003-0029-h1-1.jpg\n",
      "Loading image dataset/cut/healthy/IM-0003-0029-h1-2.jpg\n",
      "Loading image dataset/cut/healthy/IM-0003-0029-h4-1.jpg\n",
      "Loading image dataset/cut/healthy/IM-0003-0029-h4-2.jpg\n",
      "Loading image dataset/cut/healthy/IM-0003-0029-h5-1.jpg\n",
      "Loading image dataset/cut/healthy/IM-0003-0029-h5-2.jpg\n",
      "Loading image dataset/cut/healthy/IM-0003-0030-h-1.jpg\n",
      "Loading image dataset/cut/healthy/IM-0003-0030-h-2.jpg\n"
     ]
    },
    {
     "name": "stderr",
     "output_type": "stream",
     "text": [
      "Shape features are only available 3D input (for 2D input, use shape2D). Found 2D input\n",
      "GLCM is symmetrical, therefore Sum Average = 2 * Joint Average, only 1 needs to be calculated\n",
      "Shape features are only available 3D input (for 2D input, use shape2D). Found 2D input\n",
      "GLCM is symmetrical, therefore Sum Average = 2 * Joint Average, only 1 needs to be calculated\n",
      "Shape features are only available 3D input (for 2D input, use shape2D). Found 2D input\n",
      "GLCM is symmetrical, therefore Sum Average = 2 * Joint Average, only 1 needs to be calculated\n",
      "Shape features are only available 3D input (for 2D input, use shape2D). Found 2D input\n",
      "GLCM is symmetrical, therefore Sum Average = 2 * Joint Average, only 1 needs to be calculated\n",
      "Shape features are only available 3D input (for 2D input, use shape2D). Found 2D input\n",
      "GLCM is symmetrical, therefore Sum Average = 2 * Joint Average, only 1 needs to be calculated\n"
     ]
    },
    {
     "name": "stdout",
     "output_type": "stream",
     "text": [
      "Loading image dataset/cut/healthy/IM-0003-0030-h1-1.jpg\n",
      "Loading image dataset/cut/healthy/IM-0003-0030-h1-2.jpg\n",
      "Loading image dataset/cut/healthy/IM-0003-0030-h5-1.jpg\n",
      "Loading image dataset/cut/healthy/IM-0003-0030-h5-2.jpg\n"
     ]
    },
    {
     "name": "stderr",
     "output_type": "stream",
     "text": [
      "Shape features are only available 3D input (for 2D input, use shape2D). Found 2D input\n",
      "GLCM is symmetrical, therefore Sum Average = 2 * Joint Average, only 1 needs to be calculated\n",
      "Shape features are only available 3D input (for 2D input, use shape2D). Found 2D input\n",
      "GLCM is symmetrical, therefore Sum Average = 2 * Joint Average, only 1 needs to be calculated\n",
      "Shape features are only available 3D input (for 2D input, use shape2D). Found 2D input\n",
      "GLCM is symmetrical, therefore Sum Average = 2 * Joint Average, only 1 needs to be calculated\n",
      "Shape features are only available 3D input (for 2D input, use shape2D). Found 2D input\n",
      "GLCM is symmetrical, therefore Sum Average = 2 * Joint Average, only 1 needs to be calculated\n",
      "Shape features are only available 3D input (for 2D input, use shape2D). Found 2D input\n",
      "GLCM is symmetrical, therefore Sum Average = 2 * Joint Average, only 1 needs to be calculated\n"
     ]
    },
    {
     "name": "stdout",
     "output_type": "stream",
     "text": [
      "Loading image dataset/cut/healthy/IM-0005-0014-h5-1.jpg\n",
      "Loading image dataset/cut/healthy/IM-0005-0014-h5-2.jpg\n",
      "Loading image dataset/cut/healthy/IM-0005-0015-h5-1.jpg\n",
      "Loading image dataset/cut/healthy/IM-0005-0015-h5-2.jpg\n",
      "Loading image dataset/cut/healthy/IM-0005-0016-h5-1.jpg\n"
     ]
    },
    {
     "name": "stderr",
     "output_type": "stream",
     "text": [
      "Shape features are only available 3D input (for 2D input, use shape2D). Found 2D input\n",
      "GLCM is symmetrical, therefore Sum Average = 2 * Joint Average, only 1 needs to be calculated\n",
      "Shape features are only available 3D input (for 2D input, use shape2D). Found 2D input\n",
      "GLCM is symmetrical, therefore Sum Average = 2 * Joint Average, only 1 needs to be calculated\n",
      "Shape features are only available 3D input (for 2D input, use shape2D). Found 2D input\n",
      "GLCM is symmetrical, therefore Sum Average = 2 * Joint Average, only 1 needs to be calculated\n",
      "Shape features are only available 3D input (for 2D input, use shape2D). Found 2D input\n",
      "GLCM is symmetrical, therefore Sum Average = 2 * Joint Average, only 1 needs to be calculated\n",
      "Shape features are only available 3D input (for 2D input, use shape2D). Found 2D input\n",
      "GLCM is symmetrical, therefore Sum Average = 2 * Joint Average, only 1 needs to be calculated\n",
      "Shape features are only available 3D input (for 2D input, use shape2D). Found 2D input\n"
     ]
    },
    {
     "name": "stdout",
     "output_type": "stream",
     "text": [
      "Loading image dataset/cut/healthy/IM-0005-0016-h5-2.jpg\n",
      "Loading image dataset/cut/healthy/IM-0005-0017-h5-1.jpg\n",
      "Loading image dataset/cut/healthy/IM-0005-0017-h5-2.jpg\n",
      "Loading image dataset/cut/healthy/IM-0005-0018-h5-1.jpg\n",
      "Loading image dataset/cut/healthy/IM-0005-0018-h5-2.jpg\n",
      "Loading image dataset/cut/healthy/IM-0005-0019-h5-1.jpg\n"
     ]
    },
    {
     "name": "stderr",
     "output_type": "stream",
     "text": [
      "GLCM is symmetrical, therefore Sum Average = 2 * Joint Average, only 1 needs to be calculated\n",
      "Shape features are only available 3D input (for 2D input, use shape2D). Found 2D input\n",
      "GLCM is symmetrical, therefore Sum Average = 2 * Joint Average, only 1 needs to be calculated\n",
      "Shape features are only available 3D input (for 2D input, use shape2D). Found 2D input\n",
      "GLCM is symmetrical, therefore Sum Average = 2 * Joint Average, only 1 needs to be calculated\n",
      "Shape features are only available 3D input (for 2D input, use shape2D). Found 2D input\n",
      "GLCM is symmetrical, therefore Sum Average = 2 * Joint Average, only 1 needs to be calculated\n",
      "Shape features are only available 3D input (for 2D input, use shape2D). Found 2D input\n",
      "GLCM is symmetrical, therefore Sum Average = 2 * Joint Average, only 1 needs to be calculated\n",
      "Shape features are only available 3D input (for 2D input, use shape2D). Found 2D input\n",
      "GLCM is symmetrical, therefore Sum Average = 2 * Joint Average, only 1 needs to be calculated\n"
     ]
    },
    {
     "name": "stdout",
     "output_type": "stream",
     "text": [
      "Loading image dataset/cut/healthy/IM-0005-0019-h5-2.jpg\n",
      "Loading image dataset/cut/healthy/IM-0005-0020-h5-1.jpg\n",
      "Loading image dataset/cut/healthy/IM-0005-0020-h5-2.jpg\n",
      "Loading image dataset/cut/healthy/IM-0005-0021-h5-1.jpg\n",
      "Loading image dataset/cut/healthy/IM-0005-0021-h5-2.jpg\n",
      "Loading image dataset/cut/healthy/IM-0005-0022-h5-1.jpg\n"
     ]
    },
    {
     "name": "stderr",
     "output_type": "stream",
     "text": [
      "Shape features are only available 3D input (for 2D input, use shape2D). Found 2D input\n",
      "GLCM is symmetrical, therefore Sum Average = 2 * Joint Average, only 1 needs to be calculated\n",
      "Shape features are only available 3D input (for 2D input, use shape2D). Found 2D input\n",
      "GLCM is symmetrical, therefore Sum Average = 2 * Joint Average, only 1 needs to be calculated\n",
      "Shape features are only available 3D input (for 2D input, use shape2D). Found 2D input\n",
      "GLCM is symmetrical, therefore Sum Average = 2 * Joint Average, only 1 needs to be calculated\n",
      "Shape features are only available 3D input (for 2D input, use shape2D). Found 2D input\n",
      "GLCM is symmetrical, therefore Sum Average = 2 * Joint Average, only 1 needs to be calculated\n",
      "Shape features are only available 3D input (for 2D input, use shape2D). Found 2D input\n",
      "GLCM is symmetrical, therefore Sum Average = 2 * Joint Average, only 1 needs to be calculated\n",
      "Shape features are only available 3D input (for 2D input, use shape2D). Found 2D input\n",
      "GLCM is symmetrical, therefore Sum Average = 2 * Joint Average, only 1 needs to be calculated\n",
      "Shape features are only available 3D input (for 2D input, use shape2D). Found 2D input\n",
      "GLCM is symmetrical, therefore Sum Average = 2 * Joint Average, only 1 needs to be calculated\n"
     ]
    },
    {
     "name": "stdout",
     "output_type": "stream",
     "text": [
      "Loading image dataset/cut/healthy/IM-0005-0022-h5-2.jpg\n",
      "Loading image dataset/cut/healthy/IM-0005-0023-h5-1.jpg\n",
      "Loading image dataset/cut/healthy/IM-0005-0023-h5-2.jpg\n",
      "Loading image dataset/cut/healthy/IM-0005-0024-h5-1.jpg\n",
      "Loading image dataset/cut/healthy/IM-0005-0024-h5-2.jpg\n",
      "Loading image dataset/cut/healthy/IM-0005-0025-h5-1.jpg\n"
     ]
    },
    {
     "name": "stderr",
     "output_type": "stream",
     "text": [
      "Shape features are only available 3D input (for 2D input, use shape2D). Found 2D input\n",
      "GLCM is symmetrical, therefore Sum Average = 2 * Joint Average, only 1 needs to be calculated\n",
      "Shape features are only available 3D input (for 2D input, use shape2D). Found 2D input\n",
      "GLCM is symmetrical, therefore Sum Average = 2 * Joint Average, only 1 needs to be calculated\n",
      "Shape features are only available 3D input (for 2D input, use shape2D). Found 2D input\n",
      "GLCM is symmetrical, therefore Sum Average = 2 * Joint Average, only 1 needs to be calculated\n",
      "Shape features are only available 3D input (for 2D input, use shape2D). Found 2D input\n",
      "GLCM is symmetrical, therefore Sum Average = 2 * Joint Average, only 1 needs to be calculated\n",
      "Shape features are only available 3D input (for 2D input, use shape2D). Found 2D input\n",
      "GLCM is symmetrical, therefore Sum Average = 2 * Joint Average, only 1 needs to be calculated\n",
      "Shape features are only available 3D input (for 2D input, use shape2D). Found 2D input\n",
      "GLCM is symmetrical, therefore Sum Average = 2 * Joint Average, only 1 needs to be calculated\n",
      "Shape features are only available 3D input (for 2D input, use shape2D). Found 2D input\n",
      "GLCM is symmetrical, therefore Sum Average = 2 * Joint Average, only 1 needs to be calculated\n",
      "Shape features are only available 3D input (for 2D input, use shape2D). Found 2D input\n",
      "GLCM is symmetrical, therefore Sum Average = 2 * Joint Average, only 1 needs to be calculated\n",
      "Shape features are only available 3D input (for 2D input, use shape2D). Found 2D input\n"
     ]
    },
    {
     "name": "stdout",
     "output_type": "stream",
     "text": [
      "Loading image dataset/cut/healthy/IM-0005-0025-h5-2.jpg\n",
      "Loading image dataset/cut/healthy/IM-0005-0026-h5-1.jpg\n",
      "Loading image dataset/cut/healthy/IM-0005-0026-h5-2.jpg\n",
      "Loading image dataset/cut/healthy/IM-0005-0027-h5-1.jpg\n",
      "Loading image dataset/cut/healthy/IM-0005-0027-h5-2.jpg\n",
      "Loading image dataset/cut/healthy/IM-0005-0028-h5-1.jpg\n",
      "Loading image dataset/cut/healthy/IM-0005-0028-h5-2.jpg\n",
      "Loading image dataset/cut/healthy/IM-0005-0029-h5-1.jpg\n",
      "Loading image dataset/cut/healthy/IM-0005-0029-h5-2.jpg\n"
     ]
    },
    {
     "name": "stderr",
     "output_type": "stream",
     "text": [
      "GLCM is symmetrical, therefore Sum Average = 2 * Joint Average, only 1 needs to be calculated\n",
      "Shape features are only available 3D input (for 2D input, use shape2D). Found 2D input\n",
      "GLCM is symmetrical, therefore Sum Average = 2 * Joint Average, only 1 needs to be calculated\n",
      "Shape features are only available 3D input (for 2D input, use shape2D). Found 2D input\n",
      "GLCM is symmetrical, therefore Sum Average = 2 * Joint Average, only 1 needs to be calculated\n",
      "Shape features are only available 3D input (for 2D input, use shape2D). Found 2D input\n",
      "GLCM is symmetrical, therefore Sum Average = 2 * Joint Average, only 1 needs to be calculated\n",
      "Shape features are only available 3D input (for 2D input, use shape2D). Found 2D input\n",
      "GLCM is symmetrical, therefore Sum Average = 2 * Joint Average, only 1 needs to be calculated\n",
      "Shape features are only available 3D input (for 2D input, use shape2D). Found 2D input\n",
      "GLCM is symmetrical, therefore Sum Average = 2 * Joint Average, only 1 needs to be calculated\n",
      "Shape features are only available 3D input (for 2D input, use shape2D). Found 2D input\n",
      "GLCM is symmetrical, therefore Sum Average = 2 * Joint Average, only 1 needs to be calculated\n",
      "Shape features are only available 3D input (for 2D input, use shape2D). Found 2D input\n",
      "GLCM is symmetrical, therefore Sum Average = 2 * Joint Average, only 1 needs to be calculated\n",
      "Shape features are only available 3D input (for 2D input, use shape2D). Found 2D input\n",
      "GLCM is symmetrical, therefore Sum Average = 2 * Joint Average, only 1 needs to be calculated\n",
      "Shape features are only available 3D input (for 2D input, use shape2D). Found 2D input\n",
      "GLCM is symmetrical, therefore Sum Average = 2 * Joint Average, only 1 needs to be calculated\n"
     ]
    },
    {
     "name": "stdout",
     "output_type": "stream",
     "text": [
      "Loading image dataset/cut/healthy/IM-0007-0001-h5-1.jpg\n",
      "Loading image dataset/cut/healthy/IM-0007-0001-h5-2.jpg\n",
      "Loading image dataset/cut/healthy/IM-0007-0002-h5-1.jpg\n",
      "Loading image dataset/cut/healthy/IM-0007-0002-h5-2.jpg\n",
      "Loading image dataset/cut/healthy/IM-0007-0003-h5-1.jpg\n",
      "Loading image dataset/cut/healthy/IM-0007-0003-h5-2.jpg\n",
      "Loading image dataset/cut/healthy/IM-0007-0004-h5-1.jpg\n",
      "Loading image dataset/cut/healthy/IM-0007-0004-h5-2.jpg\n",
      "Loading image dataset/cut/healthy/IM-0007-0005-h5-1.jpg\n",
      "Loading image dataset/cut/healthy/IM-0007-0005-h5-2.jpg\n"
     ]
    },
    {
     "name": "stderr",
     "output_type": "stream",
     "text": [
      "Shape features are only available 3D input (for 2D input, use shape2D). Found 2D input\n",
      "GLCM is symmetrical, therefore Sum Average = 2 * Joint Average, only 1 needs to be calculated\n",
      "Shape features are only available 3D input (for 2D input, use shape2D). Found 2D input\n",
      "GLCM is symmetrical, therefore Sum Average = 2 * Joint Average, only 1 needs to be calculated\n",
      "Shape features are only available 3D input (for 2D input, use shape2D). Found 2D input\n",
      "GLCM is symmetrical, therefore Sum Average = 2 * Joint Average, only 1 needs to be calculated\n",
      "Shape features are only available 3D input (for 2D input, use shape2D). Found 2D input\n",
      "GLCM is symmetrical, therefore Sum Average = 2 * Joint Average, only 1 needs to be calculated\n",
      "Shape features are only available 3D input (for 2D input, use shape2D). Found 2D input\n",
      "GLCM is symmetrical, therefore Sum Average = 2 * Joint Average, only 1 needs to be calculated\n",
      "Shape features are only available 3D input (for 2D input, use shape2D). Found 2D input\n",
      "GLCM is symmetrical, therefore Sum Average = 2 * Joint Average, only 1 needs to be calculated\n",
      "Shape features are only available 3D input (for 2D input, use shape2D). Found 2D input\n",
      "GLCM is symmetrical, therefore Sum Average = 2 * Joint Average, only 1 needs to be calculated\n",
      "Shape features are only available 3D input (for 2D input, use shape2D). Found 2D input\n",
      "GLCM is symmetrical, therefore Sum Average = 2 * Joint Average, only 1 needs to be calculated\n",
      "Shape features are only available 3D input (for 2D input, use shape2D). Found 2D input\n",
      "GLCM is symmetrical, therefore Sum Average = 2 * Joint Average, only 1 needs to be calculated\n",
      "Shape features are only available 3D input (for 2D input, use shape2D). Found 2D input\n",
      "GLCM is symmetrical, therefore Sum Average = 2 * Joint Average, only 1 needs to be calculated\n",
      "Shape features are only available 3D input (for 2D input, use shape2D). Found 2D input\n"
     ]
    },
    {
     "name": "stdout",
     "output_type": "stream",
     "text": [
      "Loading image dataset/cut/healthy/IM-0007-0006-h5-1.jpg\n",
      "Loading image dataset/cut/healthy/IM-0007-0006-h5-2.jpg\n",
      "Loading image dataset/cut/healthy/IM-0007-0007-h5-1.jpg\n",
      "Loading image dataset/cut/healthy/IM-0007-0007-h5-2.jpg\n",
      "Loading image dataset/cut/healthy/IM-0007-0008-h5-1.jpg\n",
      "Loading image dataset/cut/healthy/IM-0007-0008-h5-2.jpg\n",
      "Loading image dataset/cut/healthy/IM-0007-0009-h5-1.jpg\n",
      "Loading image dataset/cut/healthy/IM-0007-0009-h5-2.jpg\n",
      "Loading image dataset/cut/healthy/IM-0007-0010-h5-1.jpg\n",
      "Loading image dataset/cut/healthy/IM-0007-0010-h5-2.jpg\n"
     ]
    },
    {
     "name": "stderr",
     "output_type": "stream",
     "text": [
      "GLCM is symmetrical, therefore Sum Average = 2 * Joint Average, only 1 needs to be calculated\n",
      "Shape features are only available 3D input (for 2D input, use shape2D). Found 2D input\n",
      "GLCM is symmetrical, therefore Sum Average = 2 * Joint Average, only 1 needs to be calculated\n",
      "Shape features are only available 3D input (for 2D input, use shape2D). Found 2D input\n",
      "GLCM is symmetrical, therefore Sum Average = 2 * Joint Average, only 1 needs to be calculated\n",
      "Shape features are only available 3D input (for 2D input, use shape2D). Found 2D input\n",
      "GLCM is symmetrical, therefore Sum Average = 2 * Joint Average, only 1 needs to be calculated\n",
      "Shape features are only available 3D input (for 2D input, use shape2D). Found 2D input\n",
      "GLCM is symmetrical, therefore Sum Average = 2 * Joint Average, only 1 needs to be calculated\n",
      "Shape features are only available 3D input (for 2D input, use shape2D). Found 2D input\n",
      "GLCM is symmetrical, therefore Sum Average = 2 * Joint Average, only 1 needs to be calculated\n",
      "Shape features are only available 3D input (for 2D input, use shape2D). Found 2D input\n",
      "GLCM is symmetrical, therefore Sum Average = 2 * Joint Average, only 1 needs to be calculated\n",
      "Shape features are only available 3D input (for 2D input, use shape2D). Found 2D input\n",
      "GLCM is symmetrical, therefore Sum Average = 2 * Joint Average, only 1 needs to be calculated\n",
      "Shape features are only available 3D input (for 2D input, use shape2D). Found 2D input\n",
      "GLCM is symmetrical, therefore Sum Average = 2 * Joint Average, only 1 needs to be calculated\n"
     ]
    },
    {
     "name": "stdout",
     "output_type": "stream",
     "text": [
      "Loading image dataset/cut/healthy/IM-0009-0004-h-1.jpg\n",
      "Loading image dataset/cut/healthy/IM-0009-0004-h-2.jpg\n",
      "Loading image dataset/cut/healthy/IM-0009-0005-h-1.jpg\n",
      "Loading image dataset/cut/healthy/IM-0009-0005-h-2.jpg\n",
      "Loading image dataset/cut/healthy/IM-0009-0005-h4-1.jpg\n",
      "Loading image dataset/cut/healthy/IM-0009-0005-h4-2.jpg\n",
      "Loading image dataset/cut/healthy/IM-0009-0006-h-1.jpg\n",
      "Loading image dataset/cut/healthy/IM-0009-0006-h-2.jpg\n",
      "Loading image dataset/cut/healthy/IM-0009-0006-h4-1.jpg\n"
     ]
    },
    {
     "name": "stderr",
     "output_type": "stream",
     "text": [
      "Shape features are only available 3D input (for 2D input, use shape2D). Found 2D input\n",
      "GLCM is symmetrical, therefore Sum Average = 2 * Joint Average, only 1 needs to be calculated\n",
      "Shape features are only available 3D input (for 2D input, use shape2D). Found 2D input\n",
      "GLCM is symmetrical, therefore Sum Average = 2 * Joint Average, only 1 needs to be calculated\n",
      "Shape features are only available 3D input (for 2D input, use shape2D). Found 2D input\n",
      "GLCM is symmetrical, therefore Sum Average = 2 * Joint Average, only 1 needs to be calculated\n",
      "Shape features are only available 3D input (for 2D input, use shape2D). Found 2D input\n",
      "GLCM is symmetrical, therefore Sum Average = 2 * Joint Average, only 1 needs to be calculated\n",
      "Shape features are only available 3D input (for 2D input, use shape2D). Found 2D input\n",
      "GLCM is symmetrical, therefore Sum Average = 2 * Joint Average, only 1 needs to be calculated\n",
      "Shape features are only available 3D input (for 2D input, use shape2D). Found 2D input\n",
      "GLCM is symmetrical, therefore Sum Average = 2 * Joint Average, only 1 needs to be calculated\n",
      "Shape features are only available 3D input (for 2D input, use shape2D). Found 2D input\n",
      "GLCM is symmetrical, therefore Sum Average = 2 * Joint Average, only 1 needs to be calculated\n",
      "Shape features are only available 3D input (for 2D input, use shape2D). Found 2D input\n",
      "GLCM is symmetrical, therefore Sum Average = 2 * Joint Average, only 1 needs to be calculated\n"
     ]
    },
    {
     "name": "stdout",
     "output_type": "stream",
     "text": [
      "Loading image dataset/cut/healthy/IM-0009-0006-h4-2.jpg\n",
      "Loading image dataset/cut/healthy/IM-0009-0007-h-1.jpg\n",
      "Loading image dataset/cut/healthy/IM-0009-0007-h-2.jpg\n",
      "Loading image dataset/cut/healthy/IM-0009-0007-h4-1.jpg\n",
      "Loading image dataset/cut/healthy/IM-0009-0007-h4-2.jpg\n",
      "Loading image dataset/cut/healthy/IM-0009-0008-h-1.jpg\n",
      "Loading image dataset/cut/healthy/IM-0009-0008-h-2.jpg\n",
      "Loading image dataset/cut/healthy/IM-0009-0008-h4-1.jpg\n"
     ]
    },
    {
     "name": "stderr",
     "output_type": "stream",
     "text": [
      "Shape features are only available 3D input (for 2D input, use shape2D). Found 2D input\n",
      "GLCM is symmetrical, therefore Sum Average = 2 * Joint Average, only 1 needs to be calculated\n",
      "Shape features are only available 3D input (for 2D input, use shape2D). Found 2D input\n",
      "GLCM is symmetrical, therefore Sum Average = 2 * Joint Average, only 1 needs to be calculated\n",
      "Shape features are only available 3D input (for 2D input, use shape2D). Found 2D input\n",
      "GLCM is symmetrical, therefore Sum Average = 2 * Joint Average, only 1 needs to be calculated\n",
      "Shape features are only available 3D input (for 2D input, use shape2D). Found 2D input\n",
      "GLCM is symmetrical, therefore Sum Average = 2 * Joint Average, only 1 needs to be calculated\n",
      "Shape features are only available 3D input (for 2D input, use shape2D). Found 2D input\n",
      "GLCM is symmetrical, therefore Sum Average = 2 * Joint Average, only 1 needs to be calculated\n",
      "Shape features are only available 3D input (for 2D input, use shape2D). Found 2D input\n",
      "GLCM is symmetrical, therefore Sum Average = 2 * Joint Average, only 1 needs to be calculated\n",
      "Shape features are only available 3D input (for 2D input, use shape2D). Found 2D input\n",
      "GLCM is symmetrical, therefore Sum Average = 2 * Joint Average, only 1 needs to be calculated\n",
      "Shape features are only available 3D input (for 2D input, use shape2D). Found 2D input\n",
      "GLCM is symmetrical, therefore Sum Average = 2 * Joint Average, only 1 needs to be calculated\n",
      "Shape features are only available 3D input (for 2D input, use shape2D). Found 2D input\n",
      "GLCM is symmetrical, therefore Sum Average = 2 * Joint Average, only 1 needs to be calculated\n"
     ]
    },
    {
     "name": "stdout",
     "output_type": "stream",
     "text": [
      "Loading image dataset/cut/healthy/IM-0009-0008-h4-2.jpg\n",
      "Loading image dataset/cut/healthy/IM-0009-0009-h-1.jpg\n",
      "Loading image dataset/cut/healthy/IM-0009-0009-h-2.jpg\n",
      "Loading image dataset/cut/healthy/IM-0009-0009-h4-1.jpg\n",
      "Loading image dataset/cut/healthy/IM-0009-0009-h4-2.jpg\n",
      "Loading image dataset/cut/healthy/IM-0009-0010-h-1.jpg\n",
      "Loading image dataset/cut/healthy/IM-0009-0010-h-2.jpg\n",
      "Loading image dataset/cut/healthy/IM-0009-0010-h4-1.jpg\n"
     ]
    },
    {
     "name": "stderr",
     "output_type": "stream",
     "text": [
      "Shape features are only available 3D input (for 2D input, use shape2D). Found 2D input\n",
      "GLCM is symmetrical, therefore Sum Average = 2 * Joint Average, only 1 needs to be calculated\n",
      "Shape features are only available 3D input (for 2D input, use shape2D). Found 2D input\n",
      "GLCM is symmetrical, therefore Sum Average = 2 * Joint Average, only 1 needs to be calculated\n",
      "Shape features are only available 3D input (for 2D input, use shape2D). Found 2D input\n",
      "GLCM is symmetrical, therefore Sum Average = 2 * Joint Average, only 1 needs to be calculated\n",
      "Shape features are only available 3D input (for 2D input, use shape2D). Found 2D input\n",
      "GLCM is symmetrical, therefore Sum Average = 2 * Joint Average, only 1 needs to be calculated\n",
      "Shape features are only available 3D input (for 2D input, use shape2D). Found 2D input\n",
      "GLCM is symmetrical, therefore Sum Average = 2 * Joint Average, only 1 needs to be calculated\n",
      "Shape features are only available 3D input (for 2D input, use shape2D). Found 2D input\n",
      "GLCM is symmetrical, therefore Sum Average = 2 * Joint Average, only 1 needs to be calculated\n",
      "Shape features are only available 3D input (for 2D input, use shape2D). Found 2D input\n",
      "GLCM is symmetrical, therefore Sum Average = 2 * Joint Average, only 1 needs to be calculated\n",
      "Shape features are only available 3D input (for 2D input, use shape2D). Found 2D input\n",
      "GLCM is symmetrical, therefore Sum Average = 2 * Joint Average, only 1 needs to be calculated\n",
      "Shape features are only available 3D input (for 2D input, use shape2D). Found 2D input\n",
      "GLCM is symmetrical, therefore Sum Average = 2 * Joint Average, only 1 needs to be calculated\n"
     ]
    },
    {
     "name": "stdout",
     "output_type": "stream",
     "text": [
      "Loading image dataset/cut/healthy/IM-0009-0010-h4-2.jpg\n",
      "Loading image dataset/cut/healthy/IM-0009-0011-h-1.jpg\n",
      "Loading image dataset/cut/healthy/IM-0009-0011-h-2.jpg\n",
      "Loading image dataset/cut/healthy/IM-0009-0011-h4-1.jpg\n",
      "Loading image dataset/cut/healthy/IM-0009-0011-h4-2.jpg\n",
      "Loading image dataset/cut/healthy/IM-0009-0012-h-1.jpg\n",
      "Loading image dataset/cut/healthy/IM-0009-0012-h-2.jpg\n",
      "Loading image dataset/cut/healthy/IM-0009-0012-h4-1.jpg\n",
      "Loading image dataset/cut/healthy/IM-0009-0012-h4-2.jpg\n"
     ]
    },
    {
     "name": "stderr",
     "output_type": "stream",
     "text": [
      "Shape features are only available 3D input (for 2D input, use shape2D). Found 2D input\n",
      "GLCM is symmetrical, therefore Sum Average = 2 * Joint Average, only 1 needs to be calculated\n",
      "Shape features are only available 3D input (for 2D input, use shape2D). Found 2D input\n",
      "GLCM is symmetrical, therefore Sum Average = 2 * Joint Average, only 1 needs to be calculated\n",
      "Shape features are only available 3D input (for 2D input, use shape2D). Found 2D input\n",
      "GLCM is symmetrical, therefore Sum Average = 2 * Joint Average, only 1 needs to be calculated\n",
      "Shape features are only available 3D input (for 2D input, use shape2D). Found 2D input\n",
      "GLCM is symmetrical, therefore Sum Average = 2 * Joint Average, only 1 needs to be calculated\n",
      "Shape features are only available 3D input (for 2D input, use shape2D). Found 2D input\n",
      "GLCM is symmetrical, therefore Sum Average = 2 * Joint Average, only 1 needs to be calculated\n",
      "Shape features are only available 3D input (for 2D input, use shape2D). Found 2D input\n",
      "GLCM is symmetrical, therefore Sum Average = 2 * Joint Average, only 1 needs to be calculated\n",
      "Shape features are only available 3D input (for 2D input, use shape2D). Found 2D input\n",
      "GLCM is symmetrical, therefore Sum Average = 2 * Joint Average, only 1 needs to be calculated\n",
      "Shape features are only available 3D input (for 2D input, use shape2D). Found 2D input\n",
      "GLCM is symmetrical, therefore Sum Average = 2 * Joint Average, only 1 needs to be calculated\n",
      "Shape features are only available 3D input (for 2D input, use shape2D). Found 2D input\n",
      "GLCM is symmetrical, therefore Sum Average = 2 * Joint Average, only 1 needs to be calculated\n"
     ]
    },
    {
     "name": "stdout",
     "output_type": "stream",
     "text": [
      "Loading image dataset/cut/healthy/IM-0009-0013-h-1.jpg\n",
      "Loading image dataset/cut/healthy/IM-0009-0013-h-2.jpg\n",
      "Loading image dataset/cut/healthy/IM-0009-0013-h4-1.jpg\n",
      "Loading image dataset/cut/healthy/IM-0009-0013-h4-2.jpg\n",
      "Loading image dataset/cut/healthy/IM-0009-0014-h-1.jpg\n",
      "Loading image dataset/cut/healthy/IM-0009-0014-h-2.jpg\n",
      "Loading image dataset/cut/healthy/IM-0009-0014-h4-1.jpg\n",
      "Loading image dataset/cut/healthy/IM-0009-0014-h4-2.jpg\n",
      "Loading image dataset/cut/healthy/IM-0009-0015-h-1.jpg\n"
     ]
    },
    {
     "name": "stderr",
     "output_type": "stream",
     "text": [
      "Shape features are only available 3D input (for 2D input, use shape2D). Found 2D input\n",
      "GLCM is symmetrical, therefore Sum Average = 2 * Joint Average, only 1 needs to be calculated\n",
      "Shape features are only available 3D input (for 2D input, use shape2D). Found 2D input\n",
      "GLCM is symmetrical, therefore Sum Average = 2 * Joint Average, only 1 needs to be calculated\n",
      "Shape features are only available 3D input (for 2D input, use shape2D). Found 2D input\n",
      "GLCM is symmetrical, therefore Sum Average = 2 * Joint Average, only 1 needs to be calculated\n",
      "Shape features are only available 3D input (for 2D input, use shape2D). Found 2D input\n",
      "GLCM is symmetrical, therefore Sum Average = 2 * Joint Average, only 1 needs to be calculated\n",
      "Shape features are only available 3D input (for 2D input, use shape2D). Found 2D input\n",
      "GLCM is symmetrical, therefore Sum Average = 2 * Joint Average, only 1 needs to be calculated\n",
      "Shape features are only available 3D input (for 2D input, use shape2D). Found 2D input\n",
      "GLCM is symmetrical, therefore Sum Average = 2 * Joint Average, only 1 needs to be calculated\n",
      "Shape features are only available 3D input (for 2D input, use shape2D). Found 2D input\n",
      "GLCM is symmetrical, therefore Sum Average = 2 * Joint Average, only 1 needs to be calculated\n",
      "Shape features are only available 3D input (for 2D input, use shape2D). Found 2D input\n",
      "GLCM is symmetrical, therefore Sum Average = 2 * Joint Average, only 1 needs to be calculated\n",
      "Shape features are only available 3D input (for 2D input, use shape2D). Found 2D input\n",
      "GLCM is symmetrical, therefore Sum Average = 2 * Joint Average, only 1 needs to be calculated\n"
     ]
    },
    {
     "name": "stdout",
     "output_type": "stream",
     "text": [
      "Loading image dataset/cut/healthy/IM-0009-0015-h-2.jpg\n",
      "Loading image dataset/cut/healthy/IM-0009-0015-h4-1.jpg\n",
      "Loading image dataset/cut/healthy/IM-0009-0015-h4-2.jpg\n",
      "Loading image dataset/cut/healthy/IM-0009-0016-h-1.jpg\n",
      "Loading image dataset/cut/healthy/IM-0009-0016-h-2.jpg\n",
      "Loading image dataset/cut/healthy/IM-0009-0016-h4-1.jpg\n",
      "Loading image dataset/cut/healthy/IM-0009-0016-h4-2.jpg\n",
      "Loading image dataset/cut/healthy/IM-0009-0017-h-1.jpg\n",
      "Loading image dataset/cut/healthy/IM-0009-0017-h-2.jpg\n"
     ]
    },
    {
     "name": "stderr",
     "output_type": "stream",
     "text": [
      "Shape features are only available 3D input (for 2D input, use shape2D). Found 2D input\n",
      "GLCM is symmetrical, therefore Sum Average = 2 * Joint Average, only 1 needs to be calculated\n",
      "Shape features are only available 3D input (for 2D input, use shape2D). Found 2D input\n",
      "GLCM is symmetrical, therefore Sum Average = 2 * Joint Average, only 1 needs to be calculated\n",
      "Shape features are only available 3D input (for 2D input, use shape2D). Found 2D input\n",
      "GLCM is symmetrical, therefore Sum Average = 2 * Joint Average, only 1 needs to be calculated\n",
      "Shape features are only available 3D input (for 2D input, use shape2D). Found 2D input\n",
      "GLCM is symmetrical, therefore Sum Average = 2 * Joint Average, only 1 needs to be calculated\n",
      "Shape features are only available 3D input (for 2D input, use shape2D). Found 2D input\n",
      "GLCM is symmetrical, therefore Sum Average = 2 * Joint Average, only 1 needs to be calculated\n",
      "Shape features are only available 3D input (for 2D input, use shape2D). Found 2D input\n",
      "GLCM is symmetrical, therefore Sum Average = 2 * Joint Average, only 1 needs to be calculated\n",
      "Shape features are only available 3D input (for 2D input, use shape2D). Found 2D input\n",
      "GLCM is symmetrical, therefore Sum Average = 2 * Joint Average, only 1 needs to be calculated\n",
      "Shape features are only available 3D input (for 2D input, use shape2D). Found 2D input\n",
      "GLCM is symmetrical, therefore Sum Average = 2 * Joint Average, only 1 needs to be calculated\n",
      "Shape features are only available 3D input (for 2D input, use shape2D). Found 2D input\n"
     ]
    },
    {
     "name": "stdout",
     "output_type": "stream",
     "text": [
      "Loading image dataset/cut/healthy/IM-0009-0017-h4-1.jpg\n",
      "Loading image dataset/cut/healthy/IM-0009-0017-h4-2.jpg\n",
      "Loading image dataset/cut/healthy/IM-0009-0018-h-1.jpg\n",
      "Loading image dataset/cut/healthy/IM-0009-0018-h-2.jpg\n",
      "Loading image dataset/cut/healthy/IM-0009-0018-h4-1.jpg\n",
      "Loading image dataset/cut/healthy/IM-0009-0018-h4-2.jpg\n",
      "Loading image dataset/cut/healthy/IM-0009-0019-h-1.jpg\n",
      "Loading image dataset/cut/healthy/IM-0009-0019-h-2.jpg\n",
      "Loading image dataset/cut/healthy/IM-0009-0019-h4-1.jpg\n"
     ]
    },
    {
     "name": "stderr",
     "output_type": "stream",
     "text": [
      "GLCM is symmetrical, therefore Sum Average = 2 * Joint Average, only 1 needs to be calculated\n",
      "Shape features are only available 3D input (for 2D input, use shape2D). Found 2D input\n",
      "GLCM is symmetrical, therefore Sum Average = 2 * Joint Average, only 1 needs to be calculated\n",
      "Shape features are only available 3D input (for 2D input, use shape2D). Found 2D input\n",
      "GLCM is symmetrical, therefore Sum Average = 2 * Joint Average, only 1 needs to be calculated\n",
      "Shape features are only available 3D input (for 2D input, use shape2D). Found 2D input\n",
      "GLCM is symmetrical, therefore Sum Average = 2 * Joint Average, only 1 needs to be calculated\n",
      "Shape features are only available 3D input (for 2D input, use shape2D). Found 2D input\n",
      "GLCM is symmetrical, therefore Sum Average = 2 * Joint Average, only 1 needs to be calculated\n",
      "Shape features are only available 3D input (for 2D input, use shape2D). Found 2D input\n",
      "GLCM is symmetrical, therefore Sum Average = 2 * Joint Average, only 1 needs to be calculated\n",
      "Shape features are only available 3D input (for 2D input, use shape2D). Found 2D input\n",
      "GLCM is symmetrical, therefore Sum Average = 2 * Joint Average, only 1 needs to be calculated\n",
      "Shape features are only available 3D input (for 2D input, use shape2D). Found 2D input\n",
      "GLCM is symmetrical, therefore Sum Average = 2 * Joint Average, only 1 needs to be calculated\n",
      "Shape features are only available 3D input (for 2D input, use shape2D). Found 2D input\n",
      "GLCM is symmetrical, therefore Sum Average = 2 * Joint Average, only 1 needs to be calculated\n",
      "Shape features are only available 3D input (for 2D input, use shape2D). Found 2D input\n",
      "GLCM is symmetrical, therefore Sum Average = 2 * Joint Average, only 1 needs to be calculated\n"
     ]
    },
    {
     "name": "stdout",
     "output_type": "stream",
     "text": [
      "Loading image dataset/cut/healthy/IM-0009-0019-h4-2.jpg\n",
      "Loading image dataset/cut/healthy/IM-0009-0020-h-1.jpg\n",
      "Loading image dataset/cut/healthy/IM-0009-0020-h-2.jpg\n",
      "Loading image dataset/cut/healthy/IM-0009-0020-h4-1.jpg\n",
      "Loading image dataset/cut/healthy/IM-0009-0020-h4-2.jpg\n",
      "Loading image dataset/cut/healthy/IM-0009-0021-h-1.jpg\n",
      "Loading image dataset/cut/healthy/IM-0009-0021-h-2.jpg\n",
      "Loading image dataset/cut/healthy/IM-0009-0021-h4-1.jpg\n",
      "Loading image dataset/cut/healthy/IM-0009-0021-h4-2.jpg\n"
     ]
    },
    {
     "name": "stderr",
     "output_type": "stream",
     "text": [
      "Shape features are only available 3D input (for 2D input, use shape2D). Found 2D input\n",
      "GLCM is symmetrical, therefore Sum Average = 2 * Joint Average, only 1 needs to be calculated\n",
      "Shape features are only available 3D input (for 2D input, use shape2D). Found 2D input\n",
      "GLCM is symmetrical, therefore Sum Average = 2 * Joint Average, only 1 needs to be calculated\n",
      "Shape features are only available 3D input (for 2D input, use shape2D). Found 2D input\n",
      "GLCM is symmetrical, therefore Sum Average = 2 * Joint Average, only 1 needs to be calculated\n",
      "Shape features are only available 3D input (for 2D input, use shape2D). Found 2D input\n",
      "GLCM is symmetrical, therefore Sum Average = 2 * Joint Average, only 1 needs to be calculated\n",
      "Shape features are only available 3D input (for 2D input, use shape2D). Found 2D input\n",
      "GLCM is symmetrical, therefore Sum Average = 2 * Joint Average, only 1 needs to be calculated\n",
      "Shape features are only available 3D input (for 2D input, use shape2D). Found 2D input\n",
      "GLCM is symmetrical, therefore Sum Average = 2 * Joint Average, only 1 needs to be calculated\n",
      "Shape features are only available 3D input (for 2D input, use shape2D). Found 2D input\n",
      "GLCM is symmetrical, therefore Sum Average = 2 * Joint Average, only 1 needs to be calculated\n",
      "Shape features are only available 3D input (for 2D input, use shape2D). Found 2D input\n",
      "GLCM is symmetrical, therefore Sum Average = 2 * Joint Average, only 1 needs to be calculated\n",
      "Shape features are only available 3D input (for 2D input, use shape2D). Found 2D input\n",
      "GLCM is symmetrical, therefore Sum Average = 2 * Joint Average, only 1 needs to be calculated\n"
     ]
    },
    {
     "name": "stdout",
     "output_type": "stream",
     "text": [
      "Loading image dataset/cut/healthy/IM-0009-0022-h-1.jpg\n",
      "Loading image dataset/cut/healthy/IM-0009-0022-h-2.jpg\n",
      "Loading image dataset/cut/healthy/IM-0009-0022-h4-1.jpg\n",
      "Loading image dataset/cut/healthy/IM-0009-0022-h4-2.jpg\n",
      "Loading image dataset/cut/healthy/IM-0009-0023-h-1.jpg\n",
      "Loading image dataset/cut/healthy/IM-0009-0023-h-2.jpg\n",
      "Loading image dataset/cut/healthy/IM-0009-0024-h-1.jpg\n",
      "Loading image dataset/cut/healthy/IM-0009-0024-h-2.jpg\n",
      "Loading image dataset/cut/healthy/IM-0009-0025-h-1.jpg\n",
      "Loading image dataset/cut/healthy/IM-0009-0025-h-2.jpg\n"
     ]
    },
    {
     "name": "stderr",
     "output_type": "stream",
     "text": [
      "Shape features are only available 3D input (for 2D input, use shape2D). Found 2D input\n",
      "GLCM is symmetrical, therefore Sum Average = 2 * Joint Average, only 1 needs to be calculated\n",
      "Shape features are only available 3D input (for 2D input, use shape2D). Found 2D input\n",
      "GLCM is symmetrical, therefore Sum Average = 2 * Joint Average, only 1 needs to be calculated\n",
      "Shape features are only available 3D input (for 2D input, use shape2D). Found 2D input\n",
      "GLCM is symmetrical, therefore Sum Average = 2 * Joint Average, only 1 needs to be calculated\n",
      "Shape features are only available 3D input (for 2D input, use shape2D). Found 2D input\n",
      "GLCM is symmetrical, therefore Sum Average = 2 * Joint Average, only 1 needs to be calculated\n",
      "Shape features are only available 3D input (for 2D input, use shape2D). Found 2D input\n",
      "GLCM is symmetrical, therefore Sum Average = 2 * Joint Average, only 1 needs to be calculated\n",
      "Shape features are only available 3D input (for 2D input, use shape2D). Found 2D input\n",
      "GLCM is symmetrical, therefore Sum Average = 2 * Joint Average, only 1 needs to be calculated\n",
      "Shape features are only available 3D input (for 2D input, use shape2D). Found 2D input\n",
      "GLCM is symmetrical, therefore Sum Average = 2 * Joint Average, only 1 needs to be calculated\n",
      "Shape features are only available 3D input (for 2D input, use shape2D). Found 2D input\n",
      "GLCM is symmetrical, therefore Sum Average = 2 * Joint Average, only 1 needs to be calculated\n",
      "Shape features are only available 3D input (for 2D input, use shape2D). Found 2D input\n",
      "GLCM is symmetrical, therefore Sum Average = 2 * Joint Average, only 1 needs to be calculated\n"
     ]
    },
    {
     "name": "stdout",
     "output_type": "stream",
     "text": [
      "Loading image dataset/cut/healthy/IM-0009-0026-h-1.jpg\n",
      "Loading image dataset/cut/healthy/IM-0009-0026-h-2.jpg\n",
      "Loading image dataset/cut/healthy/IM-0009-0027-h-1.jpg\n",
      "Loading image dataset/cut/healthy/IM-0009-0027-h-2.jpg\n",
      "Loading image dataset/cut/healthy/IM-0009-0028-h-1.jpg\n",
      "Loading image dataset/cut/healthy/IM-0009-0028-h-2.jpg\n",
      "Loading image dataset/cut/healthy/IM-0009-0029-h-1.jpg\n",
      "Loading image dataset/cut/healthy/IM-0009-0029-h-2.jpg\n"
     ]
    }
   ],
   "execution_count": 57
  },
  {
   "cell_type": "markdown",
   "metadata": {
    "id": "sSNJaISB17u2"
   },
   "source": [
    "# Accuracy Evaluation"
   ]
  },
  {
   "cell_type": "code",
   "metadata": {
    "id": "CC5wHgHuHFoC",
    "colab": {
     "base_uri": "https://localhost:8080/"
    },
    "outputId": "f2c1a72a-7aae-4bfa-fdd6-ca33554df2b6",
    "ExecuteTime": {
     "end_time": "2024-07-06T09:07:07.686904Z",
     "start_time": "2024-07-06T09:07:05.024656Z"
    }
   },
   "source": [
    "# Fold generator\n",
    "k_folds = 6\n",
    "sgkf = StratifiedGroupKFold(n_splits=k_folds, shuffle=True, random_state=10)\n",
    "\n",
    "# OVERSAMPLING\n",
    "\n",
    "# Train-test split\n",
    "train_index, test_index = next(sgkf.split(X, y, groups))\n",
    "\n",
    "X_with_groups = np.column_stack((X, groups))\n",
    "\n",
    "ros = RandomOverSampler(sampling_strategy=0.82, random_state=0)  #minority/majority\n",
    "\n",
    "train_X_groups_resampled, train_y_resampled = ros.fit_resample(X_with_groups[train_index], y[train_index])\n",
    "\n",
    "train_X_resampled = train_X_groups_resampled[:, :-1]\n",
    "train_groups_resampled = train_X_groups_resampled[:, -1]\n",
    "\n",
    "print('train len', len(train_X_resampled))\n",
    "print('affected', np.count_nonzero(train_y_resampled == 1))\n",
    "print('healthy', np.count_nonzero(train_y_resampled == 0))\n",
    "\n",
    "# Final train with resampling\n",
    "X_train = train_X_resampled\n",
    "y_train = train_y_resampled\n",
    "groups_train = train_groups_resampled\n",
    "\n",
    "# Test\n",
    "X_test = X[test_index]\n",
    "y_test = y[test_index]\n",
    "\n",
    "# Cross validation\n",
    "sgkf = StratifiedGroupKFold(n_splits=k_folds, shuffle=True, random_state=9)\n",
    "scores = []\n",
    "clf = None\n",
    "\n",
    "for fold, (train_index, valid_index) in enumerate(sgkf.split(X_train, y_train, groups_train)):\n",
    "    clf = RandomForestClassifier(n_estimators=100, random_state=42)\n",
    "\n",
    "    # Train and evaluate the classifier\n",
    "    clf.fit(X_train[train_index], y_train[train_index])\n",
    "    predictions = clf.predict(X_train[valid_index])\n",
    "\n",
    "    print('--------------------------------')\n",
    "    print(f'FOLD {fold}')\n",
    "    print('--------------------------------')\n",
    "    accuracy = accuracy_score(y_train[valid_index], predictions)\n",
    "    scores.append(accuracy)\n",
    "    print(\"Validation Accuracy:\", accuracy)\n",
    "    print(\"Classification Report on Test Set:\\n\", classification_report(y_train[valid_index], predictions))\n",
    "\n",
    "# Train and evaluate the classifier\n",
    "clf.fit(X_train, y_train)\n",
    "predictions = clf.predict(X_test)\n",
    "\n",
    "# Output results\n",
    "print(\"Cross-Validation Scores:\", scores)\n",
    "print(\"Average Cross-Validation Accuracy:\", np.mean(scores))\n",
    "print(\"Test Accuracy:\", accuracy_score(y_test, predictions))\n",
    "print(\"Classification Report on Test Set:\\n\", classification_report(y_test, predictions))"
   ],
   "outputs": [
    {
     "name": "stdout",
     "output_type": "stream",
     "text": [
      "train len 913\n",
      "affected 502\n",
      "healthy 411\n",
      "--------------------------------\n",
      "FOLD 0\n",
      "--------------------------------\n",
      "Validation Accuracy: 0.9542857142857143\n",
      "Classification Report on Test Set:\n",
      "               precision    recall  f1-score   support\n",
      "\n",
      "           0       0.96      0.94      0.95        78\n",
      "           1       0.95      0.97      0.96        97\n",
      "\n",
      "    accuracy                           0.95       175\n",
      "   macro avg       0.96      0.95      0.95       175\n",
      "weighted avg       0.95      0.95      0.95       175\n",
      "\n",
      "--------------------------------\n",
      "FOLD 1\n",
      "--------------------------------\n",
      "Validation Accuracy: 0.9727272727272728\n",
      "Classification Report on Test Set:\n",
      "               precision    recall  f1-score   support\n",
      "\n",
      "           0       0.98      0.96      0.97        49\n",
      "           1       0.97      0.98      0.98        61\n",
      "\n",
      "    accuracy                           0.97       110\n",
      "   macro avg       0.97      0.97      0.97       110\n",
      "weighted avg       0.97      0.97      0.97       110\n",
      "\n",
      "--------------------------------\n",
      "FOLD 2\n",
      "--------------------------------\n",
      "Validation Accuracy: 0.9425287356321839\n",
      "Classification Report on Test Set:\n",
      "               precision    recall  f1-score   support\n",
      "\n",
      "           0       0.95      0.93      0.94        83\n",
      "           1       0.94      0.96      0.95        91\n",
      "\n",
      "    accuracy                           0.94       174\n",
      "   macro avg       0.94      0.94      0.94       174\n",
      "weighted avg       0.94      0.94      0.94       174\n",
      "\n",
      "--------------------------------\n",
      "FOLD 3\n",
      "--------------------------------\n",
      "Validation Accuracy: 0.9693877551020408\n",
      "Classification Report on Test Set:\n",
      "               precision    recall  f1-score   support\n",
      "\n",
      "           0       0.95      0.99      0.97        94\n",
      "           1       0.99      0.95      0.97       102\n",
      "\n",
      "    accuracy                           0.97       196\n",
      "   macro avg       0.97      0.97      0.97       196\n",
      "weighted avg       0.97      0.97      0.97       196\n",
      "\n",
      "--------------------------------\n",
      "FOLD 4\n",
      "--------------------------------\n",
      "Validation Accuracy: 0.9439252336448598\n",
      "Classification Report on Test Set:\n",
      "               precision    recall  f1-score   support\n",
      "\n",
      "           0       1.00      0.87      0.93        47\n",
      "           1       0.91      1.00      0.95        60\n",
      "\n",
      "    accuracy                           0.94       107\n",
      "   macro avg       0.95      0.94      0.94       107\n",
      "weighted avg       0.95      0.94      0.94       107\n",
      "\n",
      "--------------------------------\n",
      "FOLD 5\n",
      "--------------------------------\n",
      "Validation Accuracy: 0.9602649006622517\n",
      "Classification Report on Test Set:\n",
      "               precision    recall  f1-score   support\n",
      "\n",
      "           0       0.97      0.93      0.95        60\n",
      "           1       0.96      0.98      0.97        91\n",
      "\n",
      "    accuracy                           0.96       151\n",
      "   macro avg       0.96      0.96      0.96       151\n",
      "weighted avg       0.96      0.96      0.96       151\n",
      "\n",
      "Cross-Validation Scores: [0.9542857142857143, 0.9727272727272728, 0.9425287356321839, 0.9693877551020408, 0.9439252336448598, 0.9602649006622517]\n",
      "Average Cross-Validation Accuracy: 0.9571866020090539\n",
      "Test Accuracy: 0.9565217391304348\n",
      "Classification Report on Test Set:\n",
      "               precision    recall  f1-score   support\n",
      "\n",
      "           0       0.96      0.93      0.95        56\n",
      "           1       0.95      0.98      0.96        82\n",
      "\n",
      "    accuracy                           0.96       138\n",
      "   macro avg       0.96      0.95      0.95       138\n",
      "weighted avg       0.96      0.96      0.96       138\n",
      "\n"
     ]
    }
   ],
   "execution_count": 58
  },
  {
   "cell_type": "markdown",
   "metadata": {
    "id": "V57blt2ZpFF-"
   },
   "source": [
    "## Dump of the results\n",
    "\n",
    "Results obtained evaluating a Random Forest classifier on segmented image (not masked).\n",
    "\n",
    "### FOLD 0\n",
    "\n",
    "Validation Accuracy: 0.96\n",
    "\n",
    "Classification Report on Test Set:\n",
    "\n",
    "                  precision    recall  f1-score   support\n",
    "\n",
    "              0       0.96      0.95      0.95        78\n",
    "              1       0.96      0.97      0.96        97\n",
    "\n",
    "        accuracy                          0.96       175\n",
    "       macro avg      0.96      0.96      0.96       175\n",
    "    weighted avg      0.96      0.96      0.96       175\n",
    "\n",
    "### FOLD 1\n",
    "\n",
    "Validation Accuracy: 0.96\n",
    "\n",
    "Classification Report on Test Set:\n",
    "\n",
    "                  precision    recall  f1-score   support\n",
    "\n",
    "               0       0.96      0.96      0.96        49\n",
    "               1       0.97      0.97      0.97        61\n",
    "\n",
    "        accuracy                           0.96       110\n",
    "       macro avg       0.96      0.96      0.96       110\n",
    "    weighted avg       0.96      0.96      0.96       110\n",
    "\n",
    "### FOLD 2\n",
    "\n",
    "Validation Accuracy: 0.95\n",
    "\n",
    "Classification Report on Test Set:\n",
    "\n",
    "                  precision    recall  f1-score   support\n",
    "\n",
    "               0       1.00      0.89      0.94        83\n",
    "               1       0.91      1.00      0.95        91\n",
    "\n",
    "        accuracy                           0.95       174\n",
    "       macro avg       0.96      0.95      0.95       174\n",
    "    weighted avg       0.95      0.95      0.95       174\n",
    "\n",
    "### FOLD 3\n",
    "\n",
    "Validation Accuracy: 0.97\n",
    "\n",
    "Classification Report on Test Set:\n",
    "\n",
    "                  precision    recall  f1-score   support\n",
    "\n",
    "               0       0.97      0.98      0.97        94\n",
    "               1       0.98      0.97      0.98       102\n",
    "\n",
    "        accuracy                           0.97       196\n",
    "       macro avg       0.97      0.97      0.97       196\n",
    "    weighted avg       0.97      0.97      0.97       196\n",
    "\n",
    "### FOLD 4\n",
    "\n",
    "Validation Accuracy: 0.93\n",
    "\n",
    "Classification Report on Test Set:\n",
    "\n",
    "                  precision    recall  f1-score   support\n",
    "\n",
    "               0       0.95      0.89      0.92        47\n",
    "               1       0.92      0.97      0.94        60\n",
    "\n",
    "        accuracy                           0.93       107\n",
    "       macro avg       0.94      0.93      0.93       107\n",
    "    weighted avg       0.94      0.93      0.93       107\n",
    "\n",
    "### FOLD 5\n",
    "\n",
    "Validation Accuracy: 0.95\n",
    "\n",
    "Classification Report on Test Set:\n",
    "\n",
    "                  precision    recall  f1-score   support\n",
    "\n",
    "               0       0.93      0.95      0.94        60\n",
    "               1       0.97      0.96      0.96        91\n",
    "\n",
    "        accuracy                           0.95       151\n",
    "       macro avg       0.95      0.95      0.95       151\n",
    "    weighted avg       0.95      0.95      0.95       151\n",
    "\n",
    "------------------------------------------------\n",
    "\n",
    "### Overall Scores\n",
    "\n",
    "Cross-Validation Scores: [0.96, 0.96, 0.95, 0.97, 0.93, 0.95]\n",
    "\n",
    "Average Cross-Validation Accuracy: 0.96\n",
    "\n",
    "Test Accuracy: 0.99\n",
    "\n",
    "Classification Report on Test Set:\n",
    "\n",
    "                  precision    recall  f1-score   support\n",
    "\n",
    "               0       1.00      0.98      0.99        56\n",
    "               1       0.99      1.00      0.99        82\n",
    "\n",
    "        accuracy                           0.99       138\n",
    "       macro avg       0.99      0.99      0.99       138\n",
    "    weighted avg       0.99      0.99      0.99       138"
   ]
  },
  {
   "cell_type": "markdown",
   "metadata": {
    "id": "VjpsDsWM4AN3"
   },
   "source": [
    "# Explainability"
   ]
  },
  {
   "cell_type": "markdown",
   "metadata": {
    "id": "J-JWeo-nIG_R"
   },
   "source": [
    "## Single Model Training for Ease of Explainability Experimentation"
   ]
  },
  {
   "cell_type": "code",
   "metadata": {
    "id": "k3gLRhyTmjml",
    "colab": {
     "base_uri": "https://localhost:8080/"
    },
    "outputId": "7b4ec731-8c49-4282-afd2-d77a61960e0d",
    "ExecuteTime": {
     "end_time": "2024-07-06T09:07:08.037646Z",
     "start_time": "2024-07-06T09:07:07.689199Z"
    }
   },
   "source": [
    "# Split the data into training and testing sets\n",
    "X_train, X_test, y_train, y_test = train_test_split(\n",
    "    X, y, test_size=0.2, stratify=y, random_state=42)\n",
    "\n",
    "# Initialize the classifier\n",
    "clf = RandomForestClassifier(n_estimators=100, random_state=42)\n",
    "\n",
    "# Train the classifier on the original training data\n",
    "clf.fit(X_train, y_train)\n",
    "\n",
    "# Make predictions on the test set\n",
    "predictions = clf.predict(X_test)\n",
    "\n",
    "# Evaluate the model\n",
    "test_accuracy = accuracy_score(y_test, predictions)\n",
    "print(\"Test Accuracy:\", test_accuracy)\n",
    "print(\"Classification Report on Test Set:\\n\", classification_report(y_test, predictions))"
   ],
   "outputs": [
    {
     "name": "stdout",
     "output_type": "stream",
     "text": [
      "Test Accuracy: 0.9783783783783784\n",
      "Classification Report on Test Set:\n",
      "               precision    recall  f1-score   support\n",
      "\n",
      "           0       0.97      0.97      0.97        68\n",
      "           1       0.98      0.98      0.98       117\n",
      "\n",
      "    accuracy                           0.98       185\n",
      "   macro avg       0.98      0.98      0.98       185\n",
      "weighted avg       0.98      0.98      0.98       185\n",
      "\n"
     ]
    }
   ],
   "execution_count": 59
  },
  {
   "cell_type": "code",
   "metadata": {
    "id": "cnHq44qSbvWN",
    "colab": {
     "base_uri": "https://localhost:8080/"
    },
    "outputId": "d4f6d492-0e83-40fc-f202-6c7bcf6487f3",
    "ExecuteTime": {
     "end_time": "2024-07-06T09:07:08.195621Z",
     "start_time": "2024-07-06T09:07:08.038680Z"
    }
   },
   "source": [
    "# Extract feature importances\n",
    "importances = clf.feature_importances_\n",
    "feature_names = [f'Feature_{i}' for i in range(X_train.shape[1])]\n",
    "\n",
    "# Create a DataFrame for better visualization\n",
    "feature_importances = pd.DataFrame({'Feature': feature_names, 'Importance': importances})\n",
    "feature_importances = feature_importances.sort_values(by='Importance', ascending=False)\n",
    "\n",
    "# Display feature importances\n",
    "print(feature_importances)\n",
    "\n",
    "# Number of top features to select\n",
    "k = 5  # Adjust k as needed\n",
    "\n",
    "# Select the top k features based on importance\n",
    "top_k_features = feature_importances['Feature'].head(k).values\n",
    "print(f\"Top {k} features: {top_k_features}\")\n",
    "\n",
    "# Create a new dataset with only the top k features\n",
    "top_k_indices = [int(feat.split('_')[1]) for feat in top_k_features]\n",
    "X_train_top_k = X_train[:, top_k_indices]\n",
    "X_test_top_k = X_test[:, top_k_indices]\n",
    "\n",
    "# Train a new Random Forest model using only the top k features\n",
    "rf_top_k = RandomForestClassifier(n_estimators=100, random_state=42)\n",
    "rf_top_k.fit(X_train_top_k, y_train)\n",
    "\n",
    "# Evaluate the new model\n",
    "y_pred_top_k = rf_top_k.predict(X_test_top_k)\n",
    "accuracy = accuracy_score(y_test, y_pred_top_k)\n",
    "print(f\"Accuracy with top {k} features: {accuracy}\")"
   ],
   "outputs": [
    {
     "name": "stdout",
     "output_type": "stream",
     "text": [
      "       Feature  Importance\n",
      "85  Feature_85    0.085241\n",
      "63  Feature_63    0.073693\n",
      "65  Feature_65    0.063950\n",
      "89  Feature_89    0.053664\n",
      "33  Feature_33    0.044347\n",
      "..         ...         ...\n",
      "50  Feature_50    0.001500\n",
      "77  Feature_77    0.001431\n",
      "59  Feature_59    0.001357\n",
      "1    Feature_1    0.001276\n",
      "39  Feature_39    0.001054\n",
      "\n",
      "[93 rows x 2 columns]\n",
      "Top 5 features: ['Feature_85' 'Feature_63' 'Feature_65' 'Feature_89' 'Feature_33']\n",
      "Accuracy with top 5 features: 0.9243243243243243\n"
     ]
    }
   ],
   "execution_count": 60
  },
  {
   "cell_type": "markdown",
   "metadata": {
    "id": "OxJ-aW2vrG-N"
   },
   "source": [
    "## Fuzzy System"
   ]
  },
  {
   "cell_type": "code",
   "metadata": {
    "id": "54aumb9gIVCz",
    "ExecuteTime": {
     "end_time": "2024-07-06T09:07:08.201641Z",
     "start_time": "2024-07-06T09:07:08.196686Z"
    }
   },
   "source": [
    "# Normalize data\n",
    "scaler = MinMaxScaler()\n",
    "# X_train_norm = scaler.fit_transform(X_train_top_k)\n",
    "# X_test_norm = scaler.transform(X_test_top_k)\n",
    "X_train_norm = scaler.fit_transform(X_train)\n",
    "X_test_norm = scaler.transform(X_test)\n",
    "\n",
    "# Convert normalized data to DataFrame for pyFUME\n",
    "# feature_names = ['Feature_85', 'Feature_65', 'Feature_84', 'Feature_63', 'Feature_71']\n",
    "feature_names = [f'Feature_{i}' for i in range(X_train_norm.shape[1])]\n",
    "X_train_df = pd.DataFrame(X_train_norm, columns=feature_names)\n",
    "y_train_df = pd.Series(y_train, name='Outcome')"
   ],
   "outputs": [],
   "execution_count": 61
  },
  {
   "cell_type": "markdown",
   "metadata": {
    "id": "RjTBfagSHF0i"
   },
   "source": [
    "### Feature selection"
   ]
  },
  {
   "cell_type": "code",
   "metadata": {
    "id": "JYiVRYC4Iv36",
    "ExecuteTime": {
     "end_time": "2024-07-06T09:07:08.208364Z",
     "start_time": "2024-07-06T09:07:08.202792Z"
    }
   },
   "source": [
    "def ranking(feature_names, regressor):\n",
    "    # Dictionary to store feature rankings\n",
    "    feature_ranking = {}\n",
    "\n",
    "    # Obtain indices of features sorted by importance in descending order\n",
    "    indices = np.argsort(-regressor.feature_importances_).tolist()\n",
    "\n",
    "    # Loop through each feature index in the sorted list\n",
    "    for idx in indices:\n",
    "        try:\n",
    "            # If the feature name is already in the dictionary, increment its value\n",
    "            # by its position in the sorted list (rank)\n",
    "            feature_ranking[feature_names[idx]] += indices.index(idx)\n",
    "        except:\n",
    "            # If the feature name is not in the dictionary, add it with its rank\n",
    "            feature_ranking[feature_names[idx]] = indices.index(idx)\n",
    "\n",
    "    # Return the updated dictionary\n",
    "    return feature_ranking\n",
    "\n",
    "\n",
    "def statistical_test(df, n1, n2):\n",
    "    # Extract MSE values for the specified number of features (n1 and n2)\n",
    "    values1 = df[df[\"n_features\"] == n1][\"MSE\"].values\n",
    "    values2 = df[df[\"n_features\"] == n2][\"MSE\"].values\n",
    "\n",
    "    # Perform Mann-Whitney U test between the two sets of values\n",
    "    _, pval = mannwhitneyu(values1, values2)\n",
    "\n",
    "    # Print a formatted string showing the comparison and p-value\n",
    "    print(\"   - Comparing %2d features vs %2d features - pval = %.2e\" % (n1, n2, pval))\n",
    "\n",
    "    # Return the p-value and the MSE values for further analysis\n",
    "    return pval, values1, values2\n",
    "\n",
    "\n",
    "def select_n_features(df, features, alpha=0.05):\n",
    "    # Initialize a list to store the best numbers of features\n",
    "    list_best_features = []\n",
    "\n",
    "    # Start comparing from 1 feature to 2 features\n",
    "    n1 = 1\n",
    "    n2 = 2\n",
    "\n",
    "    # Initially add 1 feature as the best\n",
    "    list_best_features.append(n1)\n",
    "\n",
    "    # Continue until all features are tested\n",
    "    while n2 <= len(features):\n",
    "        # Perform statistical test to compare n1 and n2 features\n",
    "        pval, values1, values2 = statistical_test(df, n1, n2)\n",
    "\n",
    "        # Check if the p-value is significant and if the model with n2 features performs better\n",
    "        if (pval < alpha) and (np.median(values2) < np.median(values1)):\n",
    "            # If true, add n2 to the list of best features and update n1 to n2\n",
    "            list_best_features.append(n2)\n",
    "            n1 = n2\n",
    "        n2 += 1\n",
    "\n",
    "    # Print the best number of features at the end of testing\n",
    "    print()\n",
    "    print(\"Best number of features %3d\" % n1)\n",
    "\n",
    "    # Ensure the last set of features is also considered\n",
    "    list_best_features.append(len(features))\n",
    "    return n1, list_best_features\n"
   ],
   "outputs": [],
   "execution_count": 62
  },
  {
   "cell_type": "code",
   "metadata": {
    "id": "GJCxGnSqHIhN",
    "colab": {
     "base_uri": "https://localhost:8080/",
     "height": 1000
    },
    "collapsed": true,
    "outputId": "18fb51f7-f667-4252-9c8a-990e423be9c0",
    "ExecuteTime": {
     "end_time": "2024-07-06T09:07:12.250116Z",
     "start_time": "2024-07-06T09:07:08.209480Z"
    }
   },
   "source": [
    "# Print message indicating the start of feature ranking using Random Forest\n",
    "print(\"* Running RF to rank the features...\")\n",
    "\n",
    "# Initialize and train the Random Forest regressor\n",
    "regressor = RandomForestRegressor(n_estimators=100, random_state=42)\n",
    "regressor.fit(X, y)\n",
    "\n",
    "# Rank the features using the trained regressor\n",
    "feature_ranking = ranking(feature_names, regressor)\n",
    "\n",
    "# Sort the feature rankings in ascending order\n",
    "feature_ranking = dict(sorted(feature_ranking.items(), key=lambda x: x[1]))\n",
    "\n",
    "# List of ranked features\n",
    "features = list(feature_ranking.keys())\n",
    "\n",
    "# DataFrame containing the training data\n",
    "df = X_train_df + y_train_df\n",
    "\n",
    "# Lists to store Mean Squared Error (MSE) and number of features used\n",
    "MSE = []\n",
    "n_features = []\n",
    "\n",
    "# Print message indicating the start of feature selection using pyFUME\n",
    "print(\"* Running pyFUME using the ranked features...\")\n",
    "\n",
    "# Loop through the ranked features, incrementing the number of features used\n",
    "for n_f in range(len(features)):\n",
    "    # Print the number of features being tested\n",
    "    print(\"   - Testing n. features %2d:\" % (n_f + 1), end=\" \")\n",
    "\n",
    "    # Select the top n_f features and the target variable\n",
    "    columns = features[:n_f + 1] + [df.columns[-1]]\n",
    "\n",
    "    # Create a subset of the DataFrame with the selected features\n",
    "    subset = df[columns].copy()\n",
    "\n",
    "    # Initialize pyFUME with the subset data\n",
    "    FIS = pyFUME(dataframe=subset, nr_clus=3)\n",
    "\n",
    "    # Append the number of features used and the corresponding MSE to the lists\n",
    "    n_features.append(n_f + 1)\n",
    "    MSE.append(FIS.calculate_error(\"MSE\"))"
   ],
   "outputs": [
    {
     "name": "stdout",
     "output_type": "stream",
     "text": [
      "* Running RF to rank the features...\n",
      "* Running pyFUME using the ranked features...\n",
      "   - Testing n. features  1:  * Detected 0 categorical variables.\n"
     ]
    },
    {
     "ename": "ValueError",
     "evalue": "zero-size array to reduction operation minimum which has no identity",
     "output_type": "error",
     "traceback": [
      "\u001B[0;31m---------------------------------------------------------------------------\u001B[0m",
      "\u001B[0;31mValueError\u001B[0m                                Traceback (most recent call last)",
      "Cell \u001B[0;32mIn[63], line 39\u001B[0m\n\u001B[1;32m     36\u001B[0m subset \u001B[38;5;241m=\u001B[39m df[columns]\u001B[38;5;241m.\u001B[39mcopy()\n\u001B[1;32m     38\u001B[0m \u001B[38;5;66;03m# Initialize pyFUME with the subset data\u001B[39;00m\n\u001B[0;32m---> 39\u001B[0m FIS \u001B[38;5;241m=\u001B[39m \u001B[43mpyFUME\u001B[49m\u001B[43m(\u001B[49m\u001B[43mdataframe\u001B[49m\u001B[38;5;241;43m=\u001B[39;49m\u001B[43msubset\u001B[49m\u001B[43m,\u001B[49m\u001B[43m \u001B[49m\u001B[43mnr_clus\u001B[49m\u001B[38;5;241;43m=\u001B[39;49m\u001B[38;5;241;43m3\u001B[39;49m\u001B[43m)\u001B[49m\n\u001B[1;32m     41\u001B[0m \u001B[38;5;66;03m# Append the number of features used and the corresponding MSE to the lists\u001B[39;00m\n\u001B[1;32m     42\u001B[0m n_features\u001B[38;5;241m.\u001B[39mappend(n_f \u001B[38;5;241m+\u001B[39m \u001B[38;5;241m1\u001B[39m)\n",
      "File \u001B[0;32m~/PycharmProjects/mri-classification-tru-radiomics/.venv/lib/python3.10/site-packages/pyfume/pyfume.py:65\u001B[0m, in \u001B[0;36mpyFUME.__init__\u001B[0;34m(self, datapath, dataframe, nr_clus, process_categorical, method, variable_names, merge_threshold, remove_flat_threshold, setnes_threshold, **kwargs)\u001B[0m\n\u001B[1;32m     59\u001B[0m     \u001B[38;5;28mself\u001B[39m\u001B[38;5;241m.\u001B[39mFIS \u001B[38;5;241m=\u001B[39m BuildTSFIS(datapath\u001B[38;5;241m=\u001B[39m\u001B[38;5;28mself\u001B[39m\u001B[38;5;241m.\u001B[39mdatapath, \n\u001B[1;32m     60\u001B[0m         nr_clus\u001B[38;5;241m=\u001B[39m\u001B[38;5;28mself\u001B[39m\u001B[38;5;241m.\u001B[39mnr_clus, variable_names\u001B[38;5;241m=\u001B[39mvariable_names, \n\u001B[1;32m     61\u001B[0m         process_categorical\u001B[38;5;241m=\u001B[39mprocess_categorical, \n\u001B[1;32m     62\u001B[0m         merge_threshold\u001B[38;5;241m=\u001B[39mmerge_threshold, \n\u001B[1;32m     63\u001B[0m         setnes_threshold\u001B[38;5;241m=\u001B[39msetnes_threshold, \u001B[38;5;241m*\u001B[39m\u001B[38;5;241m*\u001B[39mkwargs)\n\u001B[1;32m     64\u001B[0m \u001B[38;5;28;01melse\u001B[39;00m:\n\u001B[0;32m---> 65\u001B[0m     \u001B[38;5;28mself\u001B[39m\u001B[38;5;241m.\u001B[39mFIS \u001B[38;5;241m=\u001B[39m \u001B[43mBuildTSFIS\u001B[49m\u001B[43m(\u001B[49m\u001B[43mdataframe\u001B[49m\u001B[38;5;241;43m=\u001B[39;49m\u001B[43mdataframe\u001B[49m\u001B[43m,\u001B[49m\u001B[43m \u001B[49m\u001B[43mnr_clus\u001B[49m\u001B[38;5;241;43m=\u001B[39;49m\u001B[38;5;28;43mself\u001B[39;49m\u001B[38;5;241;43m.\u001B[39;49m\u001B[43mnr_clus\u001B[49m\u001B[43m,\u001B[49m\u001B[43m \u001B[49m\u001B[43mvariable_names\u001B[49m\u001B[38;5;241;43m=\u001B[39;49m\u001B[43mvariable_names\u001B[49m\u001B[43m,\u001B[49m\u001B[43m \u001B[49m\u001B[43mprocess_categorical\u001B[49m\u001B[38;5;241;43m=\u001B[39;49m\u001B[43mprocess_categorical\u001B[49m\u001B[43m,\u001B[49m\u001B[43m \u001B[49m\u001B[43mmerge_threshold\u001B[49m\u001B[38;5;241;43m=\u001B[39;49m\u001B[43mmerge_threshold\u001B[49m\u001B[43m,\u001B[49m\u001B[43m \u001B[49m\u001B[43msetnes_threshold\u001B[49m\u001B[38;5;241;43m=\u001B[39;49m\u001B[43msetnes_threshold\u001B[49m\u001B[43m,\u001B[49m\u001B[43m \u001B[49m\u001B[38;5;241;43m*\u001B[39;49m\u001B[38;5;241;43m*\u001B[39;49m\u001B[43mkwargs\u001B[49m\u001B[43m)\u001B[49m\n\u001B[1;32m     66\u001B[0m \u001B[38;5;28;01mif\u001B[39;00m merge_threshold \u001B[38;5;241m<\u001B[39m \u001B[38;5;241m1.0\u001B[39m \u001B[38;5;129;01mor\u001B[39;00m setnes_threshold \u001B[38;5;241m<\u001B[39m \u001B[38;5;241m1.0\u001B[39m:\n\u001B[1;32m     67\u001B[0m     \u001B[38;5;28mself\u001B[39m\u001B[38;5;241m.\u001B[39mdropped_fuzzy_sets \u001B[38;5;241m=\u001B[39m \u001B[38;5;28mself\u001B[39m\u001B[38;5;241m.\u001B[39mFIS\u001B[38;5;241m.\u001B[39m_antecedent_estimator\u001B[38;5;241m.\u001B[39mget_number_of_dropped_fuzzy_sets()\n",
      "File \u001B[0;32m~/PycharmProjects/mri-classification-tru-radiomics/.venv/lib/python3.10/site-packages/pyfume/BuildTakagiSugeno.py:180\u001B[0m, in \u001B[0;36mBuildTSFIS.__init__\u001B[0;34m(self, datapath, dataframe, nr_clus, variable_names, process_categorical, merge_threshold, setnes_threshold, verbose, **kwargs)\u001B[0m\n\u001B[1;32m    177\u001B[0m \u001B[38;5;66;03m# Estimate the membership funtions of the system (default shape: gauss)\u001B[39;00m\n\u001B[1;32m    178\u001B[0m \u001B[38;5;28mself\u001B[39m\u001B[38;5;241m.\u001B[39m_antecedent_estimator \u001B[38;5;241m=\u001B[39m AntecedentEstimator(x_train\u001B[38;5;241m=\u001B[39m\u001B[38;5;28mself\u001B[39m\u001B[38;5;241m.\u001B[39mx_train, partition_matrix\u001B[38;5;241m=\u001B[39m\u001B[38;5;28mself\u001B[39m\u001B[38;5;241m.\u001B[39mpartition_matrix)\n\u001B[0;32m--> 180\u001B[0m \u001B[38;5;28mself\u001B[39m\u001B[38;5;241m.\u001B[39mantecedent_parameters \u001B[38;5;241m=\u001B[39m \u001B[38;5;28;43mself\u001B[39;49m\u001B[38;5;241;43m.\u001B[39;49m\u001B[43m_antecedent_estimator\u001B[49m\u001B[38;5;241;43m.\u001B[39;49m\u001B[43mdetermineMF\u001B[49m\u001B[43m(\u001B[49m\u001B[43mmf_shape\u001B[49m\u001B[38;5;241;43m=\u001B[39;49m\u001B[43mkwargs\u001B[49m\u001B[43m[\u001B[49m\u001B[38;5;124;43m'\u001B[39;49m\u001B[38;5;124;43mmf_shape\u001B[39;49m\u001B[38;5;124;43m'\u001B[39;49m\u001B[43m]\u001B[49m\u001B[43m,\u001B[49m\u001B[43m \u001B[49m\u001B[43mmerge_threshold\u001B[49m\u001B[38;5;241;43m=\u001B[39;49m\u001B[43mmerge_threshold\u001B[49m\u001B[43m,\u001B[49m\u001B[43m \u001B[49m\u001B[43msetnes_threshold\u001B[49m\u001B[38;5;241;43m=\u001B[39;49m\u001B[43msetnes_threshold\u001B[49m\u001B[43m,\u001B[49m\u001B[43m \u001B[49m\u001B[43mcategorical_indices\u001B[49m\u001B[38;5;241;43m=\u001B[39;49m\u001B[43mkwargs\u001B[49m\u001B[43m[\u001B[49m\u001B[38;5;124;43m'\u001B[39;49m\u001B[38;5;124;43mcategorical_indices\u001B[39;49m\u001B[38;5;124;43m'\u001B[39;49m\u001B[43m]\u001B[49m\u001B[43m)\u001B[49m\n\u001B[1;32m    181\u001B[0m what_to_drop \u001B[38;5;241m=\u001B[39m \u001B[38;5;28mself\u001B[39m\u001B[38;5;241m.\u001B[39m_antecedent_estimator\u001B[38;5;241m.\u001B[39m_info_for_simplification\n\u001B[1;32m    183\u001B[0m \u001B[38;5;66;03m# Calculate the firing strengths\u001B[39;00m\n",
      "File \u001B[0;32m~/PycharmProjects/mri-classification-tru-radiomics/.venv/lib/python3.10/site-packages/pyfume/EstimateAntecendentSet.py:110\u001B[0m, in \u001B[0;36mAntecedentEstimator.determineMF\u001B[0;34m(self, mf_shape, merge_threshold, categorical_indices, setnes_threshold, global_singleton)\u001B[0m\n\u001B[1;32m    108\u001B[0m \u001B[38;5;28;01mfor\u001B[39;00m j \u001B[38;5;129;01min\u001B[39;00m \u001B[38;5;28mrange\u001B[39m(\u001B[38;5;241m0\u001B[39m, \u001B[38;5;28mself\u001B[39m\u001B[38;5;241m.\u001B[39mpartition_matrix\u001B[38;5;241m.\u001B[39mshape[\u001B[38;5;241m1\u001B[39m]):\n\u001B[1;32m    109\u001B[0m     mfin \u001B[38;5;241m=\u001B[39m \u001B[38;5;28mself\u001B[39m\u001B[38;5;241m.\u001B[39mpartition_matrix[:, j]\n\u001B[0;32m--> 110\u001B[0m     mf, xx \u001B[38;5;241m=\u001B[39m \u001B[38;5;28;43mself\u001B[39;49m\u001B[38;5;241;43m.\u001B[39;49m\u001B[43m_convexMF\u001B[49m\u001B[43m(\u001B[49m\u001B[43mxin\u001B[49m\u001B[38;5;241;43m=\u001B[39;49m\u001B[43mxin\u001B[49m\u001B[43m,\u001B[49m\u001B[43m \u001B[49m\u001B[43mmfin\u001B[49m\u001B[38;5;241;43m=\u001B[39;49m\u001B[43mmfin\u001B[49m\u001B[43m)\u001B[49m\n\u001B[1;32m    111\u001B[0m     prm \u001B[38;5;241m=\u001B[39m \u001B[38;5;28mself\u001B[39m\u001B[38;5;241m.\u001B[39m_fitMF(x\u001B[38;5;241m=\u001B[39mxx, mf\u001B[38;5;241m=\u001B[39mmf, mf_shape\u001B[38;5;241m=\u001B[39mmf_shape)\n\u001B[1;32m    112\u001B[0m     mf_list\u001B[38;5;241m.\u001B[39mappend(prm)\n",
      "File \u001B[0;32m~/PycharmProjects/mri-classification-tru-radiomics/.venv/lib/python3.10/site-packages/pyfume/EstimateAntecendentSet.py:331\u001B[0m, in \u001B[0;36mAntecedentEstimator._convexMF\u001B[0;34m(self, xin, mfin, norm, nc)\u001B[0m\n\u001B[1;32m    328\u001B[0m mf \u001B[38;5;241m=\u001B[39m mf[indx]\n\u001B[1;32m    329\u001B[0m x \u001B[38;5;241m=\u001B[39m x[indx]\n\u001B[0;32m--> 331\u001B[0m xval \u001B[38;5;241m=\u001B[39m np\u001B[38;5;241m.\u001B[39mlinspace(\u001B[43mnp\u001B[49m\u001B[38;5;241;43m.\u001B[39;49m\u001B[43mmin\u001B[49m\u001B[43m(\u001B[49m\u001B[43mx\u001B[49m\u001B[43m)\u001B[49m, np\u001B[38;5;241m.\u001B[39mmax(x), nc)\n\u001B[1;32m    332\u001B[0m mf \u001B[38;5;241m=\u001B[39m np\u001B[38;5;241m.\u001B[39minterp(xval, x, mf, left\u001B[38;5;241m=\u001B[39m\u001B[38;5;28;01mNone\u001B[39;00m, right\u001B[38;5;241m=\u001B[39m\u001B[38;5;28;01mNone\u001B[39;00m, period\u001B[38;5;241m=\u001B[39m\u001B[38;5;28;01mNone\u001B[39;00m)\n\u001B[1;32m    333\u001B[0m x \u001B[38;5;241m=\u001B[39m xval\n",
      "File \u001B[0;32m<__array_function__ internals>:200\u001B[0m, in \u001B[0;36mamin\u001B[0;34m(*args, **kwargs)\u001B[0m\n",
      "File \u001B[0;32m~/PycharmProjects/mri-classification-tru-radiomics/.venv/lib/python3.10/site-packages/numpy/core/fromnumeric.py:2946\u001B[0m, in \u001B[0;36mamin\u001B[0;34m(a, axis, out, keepdims, initial, where)\u001B[0m\n\u001B[1;32m   2829\u001B[0m \u001B[38;5;129m@array_function_dispatch\u001B[39m(_amin_dispatcher)\n\u001B[1;32m   2830\u001B[0m \u001B[38;5;28;01mdef\u001B[39;00m \u001B[38;5;21mamin\u001B[39m(a, axis\u001B[38;5;241m=\u001B[39m\u001B[38;5;28;01mNone\u001B[39;00m, out\u001B[38;5;241m=\u001B[39m\u001B[38;5;28;01mNone\u001B[39;00m, keepdims\u001B[38;5;241m=\u001B[39mnp\u001B[38;5;241m.\u001B[39m_NoValue, initial\u001B[38;5;241m=\u001B[39mnp\u001B[38;5;241m.\u001B[39m_NoValue,\n\u001B[1;32m   2831\u001B[0m          where\u001B[38;5;241m=\u001B[39mnp\u001B[38;5;241m.\u001B[39m_NoValue):\n\u001B[1;32m   2832\u001B[0m \u001B[38;5;250m    \u001B[39m\u001B[38;5;124;03m\"\"\"\u001B[39;00m\n\u001B[1;32m   2833\u001B[0m \u001B[38;5;124;03m    Return the minimum of an array or minimum along an axis.\u001B[39;00m\n\u001B[1;32m   2834\u001B[0m \n\u001B[0;32m   (...)\u001B[0m\n\u001B[1;32m   2944\u001B[0m \u001B[38;5;124;03m    6\u001B[39;00m\n\u001B[1;32m   2945\u001B[0m \u001B[38;5;124;03m    \"\"\"\u001B[39;00m\n\u001B[0;32m-> 2946\u001B[0m     \u001B[38;5;28;01mreturn\u001B[39;00m \u001B[43m_wrapreduction\u001B[49m\u001B[43m(\u001B[49m\u001B[43ma\u001B[49m\u001B[43m,\u001B[49m\u001B[43m \u001B[49m\u001B[43mnp\u001B[49m\u001B[38;5;241;43m.\u001B[39;49m\u001B[43mminimum\u001B[49m\u001B[43m,\u001B[49m\u001B[43m \u001B[49m\u001B[38;5;124;43m'\u001B[39;49m\u001B[38;5;124;43mmin\u001B[39;49m\u001B[38;5;124;43m'\u001B[39;49m\u001B[43m,\u001B[49m\u001B[43m \u001B[49m\u001B[43maxis\u001B[49m\u001B[43m,\u001B[49m\u001B[43m \u001B[49m\u001B[38;5;28;43;01mNone\u001B[39;49;00m\u001B[43m,\u001B[49m\u001B[43m \u001B[49m\u001B[43mout\u001B[49m\u001B[43m,\u001B[49m\n\u001B[1;32m   2947\u001B[0m \u001B[43m                          \u001B[49m\u001B[43mkeepdims\u001B[49m\u001B[38;5;241;43m=\u001B[39;49m\u001B[43mkeepdims\u001B[49m\u001B[43m,\u001B[49m\u001B[43m \u001B[49m\u001B[43minitial\u001B[49m\u001B[38;5;241;43m=\u001B[39;49m\u001B[43minitial\u001B[49m\u001B[43m,\u001B[49m\u001B[43m \u001B[49m\u001B[43mwhere\u001B[49m\u001B[38;5;241;43m=\u001B[39;49m\u001B[43mwhere\u001B[49m\u001B[43m)\u001B[49m\n",
      "File \u001B[0;32m~/PycharmProjects/mri-classification-tru-radiomics/.venv/lib/python3.10/site-packages/numpy/core/fromnumeric.py:86\u001B[0m, in \u001B[0;36m_wrapreduction\u001B[0;34m(obj, ufunc, method, axis, dtype, out, **kwargs)\u001B[0m\n\u001B[1;32m     83\u001B[0m         \u001B[38;5;28;01melse\u001B[39;00m:\n\u001B[1;32m     84\u001B[0m             \u001B[38;5;28;01mreturn\u001B[39;00m reduction(axis\u001B[38;5;241m=\u001B[39maxis, out\u001B[38;5;241m=\u001B[39mout, \u001B[38;5;241m*\u001B[39m\u001B[38;5;241m*\u001B[39mpasskwargs)\n\u001B[0;32m---> 86\u001B[0m \u001B[38;5;28;01mreturn\u001B[39;00m \u001B[43mufunc\u001B[49m\u001B[38;5;241;43m.\u001B[39;49m\u001B[43mreduce\u001B[49m\u001B[43m(\u001B[49m\u001B[43mobj\u001B[49m\u001B[43m,\u001B[49m\u001B[43m \u001B[49m\u001B[43maxis\u001B[49m\u001B[43m,\u001B[49m\u001B[43m \u001B[49m\u001B[43mdtype\u001B[49m\u001B[43m,\u001B[49m\u001B[43m \u001B[49m\u001B[43mout\u001B[49m\u001B[43m,\u001B[49m\u001B[43m \u001B[49m\u001B[38;5;241;43m*\u001B[39;49m\u001B[38;5;241;43m*\u001B[39;49m\u001B[43mpasskwargs\u001B[49m\u001B[43m)\u001B[49m\n",
      "\u001B[0;31mValueError\u001B[0m: zero-size array to reduction operation minimum which has no identity"
     ]
    }
   ],
   "execution_count": 63
  },
  {
   "cell_type": "code",
   "source": [
    "df_MSE = pd.DataFrame(columns=[\"MSE\", \"n_features\"])\n",
    "\n",
    "df_MSE[\"MSE\"] = MSE\n",
    "df_MSE[\"n_features\"] = n_features\n",
    "\n",
    "print(\"Identifying the best number of features...\")\n",
    "best_n_features, list_best_features = select_n_features(df_MSE, features, alpha=0.01)\n",
    "print(list_best_features)\n",
    "print(type(list_best_features))"
   ],
   "metadata": {
    "colab": {
     "base_uri": "https://localhost:8080/"
    },
    "id": "fY2n0fbD2rfu",
    "outputId": "2c914c38-8241-47ea-bfb3-d37f1c318620"
   },
   "outputs": [],
   "execution_count": null
  },
  {
   "cell_type": "markdown",
   "metadata": {
    "id": "cR_CGVmPIZzN"
   },
   "source": [
    "### PyFUME"
   ]
  },
  {
   "cell_type": "code",
   "metadata": {
    "id": "_T7Xw0wAOFIp",
    "colab": {
     "base_uri": "https://localhost:8080/"
    },
    "outputId": "ebcc8e84-9e70-4a25-9e4f-c8fe3a1fa260"
   },
   "source": [
    "# Convert normalized data to DataFrame for pyFUME\n",
    "feature_names = ['Feature_0', 'Feature_92']\n",
    "X_train_df = X_train_df[feature_names]\n",
    "\n",
    "# Set the number of clusters\n",
    "nr_clusters = 3\n",
    "\n",
    "# Cluster the training data using FCM\n",
    "cl = Clusterer(x_train=X_train_df.to_numpy(), y_train=y_train_df.to_numpy(), nr_clus=nr_clusters)\n",
    "cluster_centers, partition_matrix, _ = cl.cluster(method=\"fcm\")\n",
    "\n",
    "# Estimate the membership functions of the system\n",
    "ae = AntecedentEstimator(x_train=X_train_df.to_numpy(), partition_matrix=partition_matrix)\n",
    "antecedent_parameters = ae.determineMF()\n",
    "\n",
    "# Calculate the firing strength of each rule for each data instance\n",
    "fsc = FireStrengthCalculator(antecedent_parameters=antecedent_parameters, nr_clus=nr_clusters,\n",
    "                             variable_names=feature_names)\n",
    "firing_strengths = fsc.calculate_fire_strength(data=X_train_df.to_numpy())\n",
    "\n",
    "# Estimate the parameters of the consequent functions\n",
    "ce = ConsequentEstimator(x_train=X_train_df.to_numpy(), y_train=y_train_df.to_numpy(),\n",
    "                         firing_strengths=firing_strengths)\n",
    "consequent_parameters = ce.suglms()\n",
    "\n",
    "# Build a first-order Takagi-Sugeno model using Simpful\n",
    "simpbuilder = SugenoFISBuilder(antecedent_sets=antecedent_parameters, consequent_parameters=consequent_parameters,\n",
    "                               variable_names=feature_names)\n",
    "model = simpbuilder.get_model()\n",
    "\n",
    "# Calculate the mean squared error (MSE) of the model using the test data set\n",
    "test = SugenoFISTester(model=model, test_data=X_test_norm, variable_names=feature_names, golden_standard=y_test)\n",
    "MSE = test.calculate_MSE()\n",
    "\n",
    "print('The mean squared error of the created model is', MSE)"
   ],
   "outputs": [],
   "execution_count": null
  },
  {
   "cell_type": "markdown",
   "metadata": {
    "id": "81g1sV_043aB"
   },
   "source": [
    "## SHAP"
   ]
  },
  {
   "cell_type": "code",
   "metadata": {
    "id": "ty2HruRN9Lsw"
   },
   "source": [
    "# Initialize the SHAP explainer with the model\n",
    "explainer = shap.TreeExplainer(clf)\n",
    "\n",
    "# Compute SHAP values for the dataset\n",
    "shap_values = explainer(X)"
   ],
   "outputs": [],
   "execution_count": null
  },
  {
   "cell_type": "code",
   "metadata": {
    "id": "YyTICAzm8wTO"
   },
   "source": [
    "def visualize_shap_for_sample_output(sample_index, output_index):\n",
    "    \"\"\"\n",
    "    Visualizes the SHAP values for a given sample and output.\n",
    "\n",
    "    :param sample_index: Index of the sample in the dataset.\n",
    "    :param output_index: Index of the output (0 or 1 in your case).\n",
    "    \"\"\"\n",
    "    # Ensure the indices are within the range of the SHAP values array\n",
    "    if sample_index < shap_values.shape[0] and output_index < shap_values.shape[2]:\n",
    "        shap.plots.waterfall(shap_values[sample_index, :, output_index])\n",
    "    else:\n",
    "        print(\"Index out of range\")"
   ],
   "outputs": [],
   "execution_count": null
  },
  {
   "cell_type": "code",
   "metadata": {
    "id": "p6oE63Ku4CYZ"
   },
   "source": [
    "# Example usage:\n",
    "visualize_shap_for_sample_output(0, 0)  # First sample, first output\n",
    "visualize_shap_for_sample_output(0, 1)  # First sample, second output"
   ],
   "outputs": [],
   "execution_count": null
  },
  {
   "cell_type": "code",
   "metadata": {
    "id": "2FI7AG849fKi"
   },
   "source": [
    "# Aggregate SHAP values across all samples (and outputs if multi-output)\n",
    "# Take the mean of the absolute SHAP values across all samples\n",
    "mean_shap = np.mean(np.abs(shap_values.values), axis=0)\n",
    "\n",
    "# If multi-output, aggregate across outputs as well\n",
    "if len(mean_shap.shape) > 1:\n",
    "    mean_shap = np.mean(mean_shap, axis=1)  # Or use np.sum(mean_shap, axis=1) depending on the preference\n",
    "\n",
    "# Number of top features to select\n",
    "k = 10\n",
    "\n",
    "# Get indices of the top k features\n",
    "top_indices = np.argsort(-mean_shap)[:k]  # Negative for descending sort\n",
    "top_features = [(feature_names[i], mean_shap[i]) for i in top_indices]\n",
    "\n",
    "# Print the top k features\n",
    "for feature, importance in top_features:\n",
    "    print(f\"Feature: {feature}, Importance: {importance}\")\n",
    "\n",
    "# Plotting\n",
    "features, importances = zip(*top_features)\n",
    "plt.figure(figsize=(10, 5))\n",
    "plt.bar(features, importances, color='blue')\n",
    "plt.xlabel('Features')\n",
    "plt.ylabel('Importance')\n",
    "plt.title('Top k Important Features Based on SHAP Values')\n",
    "plt.xticks(rotation=45)\n",
    "plt.tight_layout()\n",
    "plt.show()"
   ],
   "outputs": [],
   "execution_count": null
  },
  {
   "cell_type": "markdown",
   "metadata": {
    "id": "4DIRJrlh8cCZ"
   },
   "source": [
    "## Description of the features"
   ]
  },
  {
   "cell_type": "markdown",
   "metadata": {
    "id": "mCFoqPQTFaX6"
   },
   "source": [
    "### First Order Statistics\n",
    "These statistics describe the distribution of pixel intensities within the region of interest (ROI, the segmented image in our scenario) as captured by the imaging. Energy is the rate of change in the color/brightness/magnitude of the pixels over local areas. Intensity is the value of the pixels over a selected area.\n",
    "\n",
    "* **Energy, Variance, RMS**: These can have large ranges as they are based on the squared values of intensities.\n",
    "* **Entropy**: Ranges from 0 to a maximum that depends on the number of unique intensity values and their distribution. More uniform or equal distributions of intensities yield higher entropy values.\n",
    "* **Skewness, Kurtosis**: No fixed range; depends on the distribution of pixel intensities. Skewness can be any real number, indicating the degree of asymmetry around the mean. Kurtosis indicates the tailedness of the distribution.\n",
    "* **Minimum, Maximum, Mean, Median**: Directly dependent on the range of pixel values in the ROI. For instance, in a CT image, Hounsfield units can typically range from -1000 to 3000."
   ]
  },
  {
   "cell_type": "code",
   "metadata": {
    "id": "AxCM_U9p9Eo0"
   },
   "source": [
    "first_order_descriptions = {\n",
    "    'original_firstorder_Energy': 'Total of squared intensity values. Indicates the sum of energy within the region.',\n",
    "    'original_firstorder_Entropy': 'Degree of randomness or complexity within the region’s intensity values.',\n",
    "    'original_firstorder_Kurtosis': 'Indicates how peaked the intensity values are. High values mean more values at the extremes.',\n",
    "    'original_firstorder_Maximum': 'The highest intensity value within the region.',\n",
    "    'original_firstorder_Mean': 'The average intensity across the region.',\n",
    "    'original_firstorder_Median': 'The middle intensity value when all are sorted in order.',\n",
    "    'original_firstorder_Minimum': 'The lowest intensity value within the region.',\n",
    "    'original_firstorder_Range': 'The difference between the highest and lowest intensity values.',\n",
    "    'original_firstorder_RMS': 'Average magnitude of intensity values, emphasizing higher values.',\n",
    "    'original_firstorder_Skewness': 'Indicates if the distribution of intensity values is skewed to higher or lower values.',\n",
    "    'original_firstorder_StandardDeviation': 'How much the intensity values vary from the average.',\n",
    "    'original_firstorder_Uniformity': 'Indicates how uniform the intensity values are. Higher values mean more uniformity.',\n",
    "    'original_firstorder_Variance': 'A measure of the spread of intensity values around the average.'\n",
    "}"
   ],
   "outputs": [],
   "execution_count": null
  },
  {
   "cell_type": "markdown",
   "metadata": {
    "id": "-vRc5c0V9L_Z"
   },
   "source": [
    "### Shape-Based Features\n",
    "Shape features provide geometric information about the shape and size of the ROI.\n",
    "\n",
    "* **Sphericity, Elongation, Flatness**: These are generally bounded between 0 and 1.\n",
    "* **Volume, Surface Area**: Depend on the size of the ROI. There's no theoretical upper limit but is constrained by the size of the imaging scan and the resolution."
   ]
  },
  {
   "cell_type": "code",
   "metadata": {
    "id": "jhCAqd5B9SeX"
   },
   "source": [
    "shape_descriptions = {\n",
    "    'original_shape_Elongation': 'How elongated the shape is. Closer to 1 means more circular.',\n",
    "    'original_shape_Flatness': 'How flat the shape is. Closer to 1 means less flat.',\n",
    "    'original_shape_LeastAxisLength': 'Length of the shortest axis of the shape.',\n",
    "    'original_shape_MajorAxisLength': 'Length of the longest axis of the shape.',\n",
    "    'original_shape_Maximum2DDiameterColumn': 'The largest diameter within the axial plane.',\n",
    "    'original_shape_Maximum2DDiameterRow': 'The largest diameter within the coronal plane.',\n",
    "    'original_shape_Maximum2DDiameterSlice': 'The largest diameter within the sagittal plane.',\n",
    "    'original_shape_Maximum3DDiameter': 'The largest distance between any two points on the surface of the ROI.',\n",
    "    'original_shape_MeshVolume': 'Calculated volume of the shape, based on the mesh surface.',\n",
    "    'original_shape_MinorAxisLength': 'Length of the axis that is not the longest but is not the shortest either.',\n",
    "    'original_shape_Sphericity': 'How spherical (ball-like) the shape is. Closer to 1 means more spherical.',\n",
    "    'original_shape_SurfaceArea': 'Total area of the outer surface of the ROI.',\n",
    "    'original_shape_SurfaceVolumeRatio': 'Ratio of the surface area to the volume. Indicates surface complexity relative to size.',\n",
    "    'original_shape_Volume': 'The space enclosed by the ROI, typically in cubic millimeters.'\n",
    "}"
   ],
   "outputs": [],
   "execution_count": null
  },
  {
   "cell_type": "markdown",
   "metadata": {
    "id": "84g-8lx49YvL"
   },
   "source": [
    "### Texture Features\n",
    "Texture features analyze the variation in surface or texture patterns, which can help differentiate between different tissue types or tumor heterogeneity.\n",
    "\n",
    "* **GLCM, GLRLM, GLSZM, GLDM Features**: These texture features often involve calculations like entropy, energy, and statistics derived from matrices that describe relationships between pixel intensities.\n",
    "* **Contrast, Dissimilarity, Homogeneity**: Typically range from 0 upwards, but the upper limit is dependent on the number of gray levels and image discretization.\n",
    "* **Entropy**: Similar to first-order entropy, depends on the distribution of entries in the texture matrix."
   ]
  },
  {
   "cell_type": "code",
   "metadata": {
    "id": "wzkZGrfG9dSI"
   },
   "source": [
    "texture_descriptions = {\n",
    "    'original_glcm_Autocorrelation': 'A measure of the magnitude of the fineness and coarseness of texture.',\n",
    "    'original_glcm_Contrast': 'Measures the local variations in the gray-level co-occurrence matrix.',\n",
    "    'original_glcm_Correlation': 'Degree to which neighboring pixels are correlated to each other across the whole image.',\n",
    "    'original_glcm_DifferenceEntropy': 'Variability of intensity difference between neighboring pixels.',\n",
    "    'original_glcm_Dissimilarity': 'A measure of how different the neighboring pixels are in the image.',\n",
    "    'original_glcm_Energy': 'Sum of squared elements in the texture matrix. Higher values indicate more texture energy.',\n",
    "    'original_glcm_Entropy': 'Measures randomness in texture. Higher values suggest more complex textures.',\n",
    "    'original_glcm_Homogeneity1': 'Closeness of the distribution of elements in the texture matrix to its diagonal.',\n",
    "    'original_glcm_Homogeneity2': 'Similar to Homogeneity1 but normalized, measuring the closeness across the entire image.',\n",
    "    'original_glcm_Id': 'Inverse difference moment; a measure of local homogeneity.',\n",
    "    'original_glcm_Idm': 'A normalized measure of the local homogeneity as in Id.',\n",
    "    'original_glcm_Idmn': 'Measures the homogeneity in normalized conditions across an image.',\n",
    "    'original_glcm_Idn': 'Normalized version of the inverse difference, emphasizing local uniformity.',\n",
    "    'original_glcm_Imc1': 'An informational measure of correlation, indicating the complexity of texture.',\n",
    "    'original_glcm_Imc2': 'A second measure of texture complexity, providing insight from another perspective.',\n",
    "    'original_glcm_ClusterTendency': 'Measures the tendency of similar gray levels to be clustered in the image. Higher values suggest clusters of similar gray levels are present, which can indicate a more pronounced texture.',\n",
    "    \"original_glcm_MaximumProbability\": \"MaxProb calculates the maximum probability of occurrence of a particular pair of pixel intensity values in the image. It indicates the most frequently occurring pair of intensity values and represents the dominant texture pattern in the image.\"\n",
    "}"
   ],
   "outputs": [],
   "execution_count": null
  },
  {
   "cell_type": "markdown",
   "metadata": {
    "id": "LDkHuwWW_ubX"
   },
   "source": [
    "### Gray Level Size Zone Matrix (GLSZM) Features\n",
    "GLSZM quantifies gray level zones in an image. A zone is defined as a number of connected voxels that share the same gray level intensity. These features are particularly useful for assessing the heterogeneity of an image."
   ]
  },
  {
   "cell_type": "code",
   "metadata": {
    "id": "tVWx-6ED_tJI"
   },
   "source": [
    "glszm_descriptions = {\n",
    "    'original_glszm_SmallAreaEmphasis': 'Emphasizes zones with fewer pixels, indicating finer textures.',\n",
    "    'original_glszm_LargeAreaEmphasis': 'Emphasizes larger zones, indicating coarser textures.',\n",
    "    'original_glszm_LowGrayLevelZoneEmphasis': 'Emphasizes zones with lower gray-level values.',\n",
    "    'original_glszm_HighGrayLevelZoneEmphasis': 'Emphasizes zones with higher gray-level values.',\n",
    "    'original_glszm_SmallAreaLowGrayLevelEmphasis': 'Emphasizes small zones with lower gray-level values.',\n",
    "    'original_glszm_SmallAreaHighGrayLevelEmphasis': 'Emphasizes small zones with higher gray-level values.',\n",
    "    'original_glszm_LargeAreaLowGrayLevelEmphasis': 'Emphasizes large zones with lower gray-level values.',\n",
    "    'original_glszm_LargeAreaHighGrayLevelEmphasis': 'Emphasizes large zones with higher gray-level values.',\n",
    "    'original_glszm_GrayLevelNonUniformity': 'Measures variation of gray-level intensities in the zones.',\n",
    "    'original_glszm_ZoneSizeNonUniformity': 'Measures variation in zone sizes throughout the image.',\n",
    "    'original_glszm_ZonePercentage': 'Fraction of image area covered by zones, relative to total image area.',\n",
    "    'original_glszm_GrayLevelVariance': 'Variance in gray levels in the zones.',\n",
    "    'original_glszm_ZoneVariance': 'Variance in zone size throughout the image.',\n",
    "    'original_glszm_ZoneEntropy': 'Randomness in the distribution and size of zones.',\n",
    "    'original_glszm_SizeZoneNonUniformityNormalized': 'Measures the variation of zone sizes, normalized by the total number of zones. A lower value indicates more homogeneity in zone sizes across the image.'\n",
    "}\n"
   ],
   "outputs": [],
   "execution_count": null
  },
  {
   "cell_type": "markdown",
   "metadata": {
    "id": "hERDMVbtAAUU"
   },
   "source": [
    "### Gray Level Run Length Matrix (GLRLM) Features\n",
    "\n",
    "GLRLM quantifies gray level runs, which are defined as the length in number of pixels, of consecutive pixels that have the same gray level value."
   ]
  },
  {
   "cell_type": "code",
   "metadata": {
    "id": "9IHff-fIAJB1"
   },
   "source": [
    "glrlm_descriptions = {\n",
    "    'original_glrlm_ShortRunEmphasis': 'Emphasizes shorter runs, suggesting finer textural detail.',\n",
    "    'original_glrlm_LongRunEmphasis': 'Emphasizes longer runs, suggesting coarser textural detail.',\n",
    "    'original_glrlm_GrayLevelNonUniformity': 'Variability of gray levels in the runs throughout the image.',\n",
    "    'original_glrlm_RunLengthNonUniformity': 'Variability in the length of runs throughout the image.',\n",
    "    'original_glrlm_RunPercentage': 'Proportion of runs relative to the image size, indicating texture coarseness.',\n",
    "    'original_glrlm_LowGrayLevelRunEmphasis': 'Emphasizes runs with lower intensity values.',\n",
    "    'original_glrlm_HighGrayLevelRunEmphasis': 'Emphasizes runs with higher intensity values.',\n",
    "    'original_glrlm_ShortRunLowGrayLevelEmphasis': 'Emphasizes shorter runs with lower intensity values.',\n",
    "    'original_glrlm_ShortRunHighGrayLevelEmphasis': 'Emphasizes shorter runs with higher intensity values.',\n",
    "    'original_glrlm_LongRunLowGrayLevelEmphasis': 'Emphasizes longer runs with lower intensity values.',\n",
    "    'original_glrlm_LongRunHighGrayLevelEmphasis': 'Emphasizes longer runs with higher intensity values.',\n",
    "    'original_glrlm_RunEntropy': 'Randomness in the lengths and gray levels of runs.',\n",
    "    'original_glrlm_RunVariance': 'Variance in run lengths, indicating variability in texture.',\n",
    "    'original_glrlm_RunLengthVariance': 'Variability in run lengths in the image.'\n",
    "}\n"
   ],
   "outputs": [],
   "execution_count": null
  },
  {
   "cell_type": "markdown",
   "metadata": {
    "id": "REGMZD9oHzx-"
   },
   "source": [
    "### Gray Level Dependence Matrix (GLDM)\n",
    "\n",
    "The Gray Level Dependence Matrix (GLDM) is a statistical method used in texture analysis of medical images. It quantifies the spatial relationships between pairs of voxels (3D pixels) based on their gray-level intensity values. GLDM calculates various statistical parameters that describe the distribution of these relationships, providing insights into the texture patterns present in the image. By analyzing the GLDM, features such as the variability, complexity, and homogeneity of texture can be extracted, aiding in tasks such as disease diagnosis, treatment planning, and medical research."
   ]
  },
  {
   "cell_type": "code",
   "metadata": {
    "id": "qCGqrydfIN8H"
   },
   "source": [
    "gldm_descriptions = {\n",
    "    \"original_gldm_DependenceEntropy\": \"Measures the randomness or disorder in the distribution of dependencies in the image. Higher values indicate greater complexity in the texture pattern.\",\n",
    "    \"original_gldm_DependenceNonUniformity\": \"Quantifies the variability in the distribution of dependencies in the image. Higher values indicate greater variability in texture patterns.\",\n",
    "    \"original_gldm_DependenceNonUniformityNormalized\": \"A normalized version of Dependence Non-Uniformity that accounts for differences in the number of dependencies. Values range from 0 to 1, with higher values indicating greater variability in texture patterns.\",\n",
    "    \"original_gldm_DependenceVariance\": \"Measures the variance of dependencies in the image. Higher values indicate greater heterogeneity or irregularity in texture patterns.\",\n",
    "    \"original_gldm_GrayLevelNonUniformity\": \"Quantifies the variability in gray-level intensity values in the image. Higher values indicate greater variability in texture patterns.\",\n",
    "    \"original_gldm_GrayLevelVariance\": \"Measures the variance of gray-level intensity values in the image. Higher values indicate greater heterogeneity or irregularity in texture patterns.\",\n",
    "    \"original_gldm_HighGrayLevelEmphasis\": \"Emphasizes the presence of high-intensity gray-level values in the image. Higher values indicate a higher concentration of high-intensity regions.\",\n",
    "    \"original_gldm_LargeDependenceEmphasis\": \"Emphasizes the presence of large dependencies or clusters of similar intensity values in the image. Higher values indicate a higher concentration of large dependencies.\",\n",
    "    \"original_gldm_LargeDependenceHighGrayLevelEmphasis\": \"Emphasizes the presence of large dependencies with high-intensity gray-level values in the image. Higher values indicate a higher concentration of large dependencies with high intensity.\",\n",
    "    \"original_gldm_LargeDependenceLowGrayLevelEmphasis\": \"Emphasizes the presence of large dependencies with low-intensity gray-level values in the image. Higher values indicate a higher concentration of large dependencies with low intensity.\",\n",
    "    \"original_gldm_LowGrayLevelEmphasis\": \"Emphasizes the presence of low-intensity gray-level values in the image. Higher values indicate a higher concentration of low-intensity regions.\",\n",
    "    \"original_gldm_SmallDependenceEmphasis\": \"Emphasizes the presence of small dependencies or clusters of similar intensity values in the image. Higher values indicate a higher concentration of small dependencies.\",\n",
    "    \"original_gldm_SmallDependenceHighGrayLevelEmphasis\": \"Emphasizes the presence of small dependencies with high-intensity gray-level values in the image. Higher values indicate a higher concentration of small dependencies with high intensity.\",\n",
    "    \"original_gldm_SmallDependenceLowGrayLevelEmphasis\": \"Emphasizes the presence of small dependencies with low-intensity gray-level values in the image. Higher values indicate a higher concentration of small dependencies with low intensity.\"\n",
    "}\n"
   ],
   "outputs": [],
   "execution_count": null
  },
  {
   "cell_type": "markdown",
   "metadata": {
    "id": "DmKxuPfu9jrj"
   },
   "source": [
    "## Feature to Description"
   ]
  },
  {
   "cell_type": "code",
   "metadata": {
    "id": "_WvtPu0X9mJX"
   },
   "source": [
    "# Combine all feature descriptions into one dictionary\n",
    "feature_descriptions = {**first_order_descriptions, **shape_descriptions, **texture_descriptions, **glszm_descriptions,\n",
    "                        **glrlm_descriptions, **gldm_descriptions}\n",
    "\n",
    "\n",
    "# Function to get a descriptive name for a feature\n",
    "def get_descriptive_feature_name(feature_key):\n",
    "    return feature_descriptions.get(feature_key, \"Unknown Feature\")\n",
    "\n",
    "\n",
    "# Example usage\n",
    "print(get_descriptive_feature_name('original_firstorder_Energy'))"
   ],
   "outputs": [],
   "execution_count": null
  },
  {
   "cell_type": "markdown",
   "metadata": {
    "id": "M_BA3T3IITyQ"
   },
   "source": [
    "## Feature Value and Range"
   ]
  },
  {
   "cell_type": "code",
   "metadata": {
    "id": "8E8yW8LmDaqW"
   },
   "source": [
    "def get_feature_values(instance_index, dataset, feature_names):\n",
    "    if 0 <= instance_index < len(dataset):\n",
    "        feature_values = dataset[instance_index]\n",
    "        return dict(zip(feature_names, feature_values))\n",
    "    else:\n",
    "        return \"Index out of range\"\n",
    "\n",
    "\n",
    "# Example usage: get features for the first instance in the test set\n",
    "instance_features = get_feature_values(0, X_test, feature_names)\n",
    "print(instance_features)"
   ],
   "outputs": [],
   "execution_count": null
  },
  {
   "cell_type": "code",
   "metadata": {
    "id": "7QjzFP2cGdJ1"
   },
   "source": [
    "def plot_feature_value_in_range(feature_name, instance_index, X_train_df, X_test_df, feature_ranges, y_train):\n",
    "    if feature_name not in X_train_df.columns:\n",
    "        print(\"Feature not found\")\n",
    "        return\n",
    "\n",
    "    if instance_index >= len(X_test_df):\n",
    "        print(\"Instance index out of range\")\n",
    "        return\n",
    "\n",
    "    # Get the specific feature value from the test set\n",
    "    test_feature_value = X_test_df.loc[instance_index, feature_name]\n",
    "\n",
    "    # Plotting per-class\n",
    "    plt.figure(figsize=(8, 5))\n",
    "    plt.title(f\"Normalized Value of {feature_name} for Instance {instance_index} per Class\")\n",
    "    class_labels = sorted(set(y_train))  # Get unique class labels\n",
    "    for label in class_labels:\n",
    "        # Filter training set by class\n",
    "        class_data = X_train_df[y_train == label][feature_name]\n",
    "        plt.hist(class_data, bins=30, alpha=0.7, label=f'Class {label} Distribution')\n",
    "\n",
    "    plt.axvline(x=test_feature_value, color='r', linestyle='--', label=f'Test Instance {instance_index} Value')\n",
    "    plt.xlabel(f\"Normalized {feature_name} Values\")\n",
    "    plt.ylabel(\"Frequency\")\n",
    "    plt.legend()\n",
    "    plt.grid(True)\n",
    "    plt.show()\n",
    "\n",
    "\n",
    "# Example Usage: Plot feature value for the first instance in the test set per-class\n",
    "plot_feature_value_in_range('original_firstorder_Energy', 0, X_train_normalized_df, X_test_normalized_df,\n",
    "                            feature_ranges, y_train)"
   ],
   "outputs": [],
   "execution_count": null
  },
  {
   "cell_type": "markdown",
   "metadata": {
    "id": "9v35OHPwLkQk"
   },
   "source": [
    "## Final Explanation"
   ]
  },
  {
   "cell_type": "code",
   "metadata": {
    "id": "jtpzuwc7LmHw"
   },
   "source": [
    "# Explanation\n",
    "print(\"\\nThe {} overall most important features for model decision were:\\n\".format(k))\n",
    "for i, (feature, _) in enumerate(top_features):\n",
    "    feature_description = get_descriptive_feature_name(feature)\n",
    "    print(\"{}. {} \\n -> {}\".format(i + 1, feature, feature_description))\n",
    "\n",
    "# The index of the specific instance you are interested in\n",
    "example_index = 0\n",
    "predicted_class = clf.predict(X_test[example_index].reshape(1, -1))\n",
    "predicted_probs = clf.predict_proba(X_test[example_index].reshape(1, -1))  # If applicable\n",
    "\n",
    "# Display the classification results\n",
    "print(f\"\\nInstance {example_index} was classified as: {predicted_class[0]}\")\n",
    "print(f\"Prediction probabilities: {predicted_probs[0]}\")  # Display the probabilities for all classes\n",
    "\n",
    "# Extract the SHAP values for the specific instance\n",
    "instance_shap_values = shap_values[example_index].values\n",
    "\n",
    "# If the model is multi-output, you may need to adjust the shape\n",
    "if len(instance_shap_values.shape) > 1:\n",
    "    # Summing SHAP values across outputs, if necessary\n",
    "    instance_shap_values = np.sum(instance_shap_values, axis=1)\n",
    "\n",
    "# Calculate the absolute values of SHAP values to assess impact\n",
    "absolute_shap_values = np.abs(instance_shap_values)\n",
    "\n",
    "# Proceed with selecting the top k features as before\n",
    "k = 10\n",
    "top_indices = np.argsort(-absolute_shap_values)[:k]  # Sorting in descending order\n",
    "top_features = [(feature_names[i], absolute_shap_values[i]) for i in top_indices]\n",
    "\n",
    "# Printing top k features for the specific instance\n",
    "print(f\"\\n\\nTop {k} features for instance {example_index}:\\n\")\n",
    "for i, (feature, _) in enumerate(top_features):\n",
    "    feature_description = get_descriptive_feature_name(feature)\n",
    "    print(\"{}. {} \\n -> {}\".format(i + 1, feature, feature_description))\n",
    "    plot_feature_value_in_range(feature, example_index, X_train_df, X_test_df, feature_ranges,\n",
    "                                y_train)"
   ],
   "outputs": [],
   "execution_count": null
  }
 ],
 "metadata": {
  "colab": {
   "gpuType": "T4",
   "provenance": [],
   "toc_visible": true
  },
  "kernelspec": {
   "display_name": "Python 3 (ipykernel)",
   "name": "python3",
   "language": "python"
  },
  "language_info": {
   "name": "python"
  }
 },
 "nbformat": 4,
 "nbformat_minor": 0
}
