{
 "cells": [
  {
   "metadata": {},
   "cell_type": "code",
   "outputs": [],
   "execution_count": null,
   "source": [
    "import os\n",
    "\n",
    "import numpy as np\n",
    "import pandas as pd\n",
    "from sklearn.model_selection import train_test_split\n",
    "\n",
    "from src.classes.dataset import MRIDataset\n",
    "from src.classes.shap import ShapExplainer\n",
    "from src.config import PATH_TO_OUTPUT, PATH_TO_MODELS, PATH_TO_DATASET_CSV, PATH_TO_DATASET, ID_TO_NAME"
   ],
   "id": "ea1616e010e2fb3"
  },
  {
   "cell_type": "code",
   "execution_count": null,
   "id": "initial_id",
   "metadata": {
    "collapsed": true
   },
   "outputs": [],
   "source": [
    "# Define required paths\n",
    "MODEL_PATH = os.path.join(PATH_TO_MODELS, \"final-resnet50v.pth\")\n",
    "OUTPUT_PATH = os.path.join(PATH_TO_OUTPUT, \"shap_results\")\n",
    "\n",
    "# Load dataset from CSV\n",
    "df = pd.read_csv(PATH_TO_DATASET_CSV, sep=\";\", header=0)\n",
    "\n",
    "# Create a dictionary mapping image indices to (image path, label)\n",
    "data = {\n",
    "    idx: (os.path.join(PATH_TO_DATASET, ID_TO_NAME[row[\"label\"]], str(row[\"img_name\"])), row[\"label\"])\n",
    "    for idx, row in df.iterrows()\n",
    "}\n",
    "\n",
    "# Convert labels to numpy array\n",
    "y = df[\"label\"].to_numpy()\n",
    "\n",
    "# Generate train-test split\n",
    "X_indices = np.array(list(data.keys()))\n",
    "_, test_index = train_test_split(X_indices, test_size=0.2, random_state=42, stratify=y)\n",
    "\n",
    "# Load dataset using MRIDataset class\n",
    "dataset = MRIDataset(data)\n",
    "\n",
    "# Initialize and run SHAP explainer\n",
    "shap_explainer = ShapExplainer(\n",
    "    model_path=MODEL_PATH,\n",
    "    dataset=dataset,\n",
    "    test_indices=test_index,\n",
    "    output_path=OUTPUT_PATH\n",
    ")\n",
    "\n",
    "shap_explainer.generate_shap_explanations()"
   ]
  }
 ],
 "metadata": {
  "kernelspec": {
   "display_name": "Python 3",
   "language": "python",
   "name": "python3"
  },
  "language_info": {
   "codemirror_mode": {
    "name": "ipython",
    "version": 2
   },
   "file_extension": ".py",
   "mimetype": "text/x-python",
   "name": "python",
   "nbconvert_exporter": "python",
   "pygments_lexer": "ipython2",
   "version": "2.7.6"
  }
 },
 "nbformat": 4,
 "nbformat_minor": 5
}
