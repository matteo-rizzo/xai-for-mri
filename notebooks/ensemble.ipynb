{
 "cells": [
  {
   "metadata": {},
   "cell_type": "code",
   "outputs": [],
   "execution_count": null,
   "source": [
    "import os\n",
    "\n",
    "import numpy as np\n",
    "import pandas as pd\n",
    "import torch\n",
    "from sklearn.model_selection import StratifiedGroupKFold\n",
    "\n",
    "from src.classes.ensemble import ExplainabilityEnsemble\n",
    "from src.classes.models import ResNet18variant, ResNet50variant\n",
    "from src.config import PATH_TO_DATASET_CSV, PATH_TO_DATASET, ID_TO_NAME, PATH_TO_MODELS, PATH_TO_OUTPUT"
   ]
  },
  {
   "cell_type": "code",
   "source": [
    "# Load dataset from CSV\n",
    "df = pd.read_csv(PATH_TO_DATASET_CSV, sep=';', header=0)\n",
    "\n",
    "# Create a dictionary mapping image indices to (image path, label)\n",
    "data = {\n",
    "    idx: (os.path.join(PATH_TO_DATASET, ID_TO_NAME[row['label']], str(row['img_name'])), row['label'])\n",
    "    for idx, row in df.iterrows()\n",
    "}\n",
    "\n",
    "# Convert labels and groups to numpy arrays\n",
    "y = df['label'].to_numpy()\n",
    "groups = df['group'].to_numpy()\n",
    "\n",
    "# Set up Stratified Group K-Fold cross-validation\n",
    "sgkf = StratifiedGroupKFold(n_splits=5, shuffle=True, random_state=7)\n",
    "\n",
    "# Convert dictionary keys to numpy array (image indices)\n",
    "X = np.array(list(data.keys()))\n",
    "\n",
    "# Generate train-test split\n",
    "train_index, test_index = next(sgkf.split(X, y, groups))\n",
    "\n",
    "# Log dataset statistics\n",
    "print(f\"Total dataset size: {len(data)}\")\n",
    "print(f\"Training samples: {len(train_index)} | Test samples: {len(test_index)}\")\n",
    "print(f\"Training - Affected: {np.count_nonzero(y[train_index] == 1)}, Healthy: {np.count_nonzero(y[train_index] == 0)}\")\n",
    "print(f\"Test - Affected: {np.count_nonzero(y[test_index] == 1)}, Healthy: {np.count_nonzero(y[test_index] == 0)}\")\n",
    "\n",
    "# Set device (GPU if available, else CPU)\n",
    "device = torch.device(\"cuda:0\" if torch.cuda.is_available() else \"cpu\")\n",
    "\n",
    "# Load pre-trained models\n",
    "m18 = ResNet18variant().to(device)\n",
    "m18.load_state_dict(torch.load(os.path.join(PATH_TO_MODELS, \"final-resnet18v.pth\"), map_location=device))\n",
    "\n",
    "m50 = ResNet50variant().to(device)\n",
    "m50.load_state_dict(torch.load(os.path.join(PATH_TO_MODELS, \"final-resnet50v.pth\"), map_location=device))\n",
    "\n",
    "# Define model list\n",
    "models = [('Resnet18v', m18), ('Resnet50v', m50)]\n",
    "\n",
    "# Initialize and run the ensemble process\n",
    "ensemble_processor = ExplainabilityEnsemble(models, PATH_TO_DATASET, PATH_TO_OUTPUT, test_index, data, device, size=7)\n",
    "ensemble_processor.run()\n"
   ],
   "metadata": {
    "id": "qsOyfyceNLLF"
   },
   "outputs": [],
   "execution_count": null
  }
 ],
 "metadata": {
  "colab": {
   "provenance": []
  },
  "kernelspec": {
   "display_name": "Python 3",
   "name": "python3"
  },
  "language_info": {
   "name": "python"
  }
 },
 "nbformat": 4,
 "nbformat_minor": 0
}
